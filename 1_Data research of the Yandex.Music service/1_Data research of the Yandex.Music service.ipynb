{
 "cells": [
  {
   "cell_type": "markdown",
   "metadata": {
    "deletable": false,
    "editable": false,
    "id": "E0vqbgi9ay0H"
   },
   "source": [
    "# Яндекс Музыка"
   ]
  },
  {
   "cell_type": "markdown",
   "metadata": {
    "deletable": false,
    "editable": false,
    "id": "VUC88oWjTJw2"
   },
   "source": [
    "Сравнение Москвы и Петербурга окружено мифами. Например:\n",
    " * Москва — мегаполис, подчинённый жёсткому ритму рабочей недели;\n",
    " * Петербург — культурная столица, со своими вкусами.\n",
    "\n",
    "На данных Яндекс Музыки вы сравните поведение пользователей двух столиц.\n",
    "\n",
    "**Цель исследования** — проверьте три гипотезы:\n",
    "1. Активность пользователей зависит от дня недели. Причём в Москве и Петербурге это проявляется по-разному.\n",
    "2. В понедельник утром в Москве преобладают одни жанры, а в Петербурге — другие. Так же и вечером пятницы преобладают разные жанры — в зависимости от города. \n",
    "3. Москва и Петербург предпочитают разные жанры музыки. В Москве чаще слушают поп-музыку, в Петербурге — русский рэп.\n",
    "\n",
    "**Ход исследования**\n",
    "\n",
    "Данные о поведении пользователей вы получите из файла `yandex_music_project.csv`. О качестве данных ничего не известно. Поэтому перед проверкой гипотез понадобится обзор данных. \n",
    "\n",
    "Вы проверите данные на ошибки и оцените их влияние на исследование. Затем, на этапе предобработки вы поищете возможность исправить самые критичные ошибки данных.\n",
    " \n",
    "Таким образом, исследование пройдёт в три этапа:\n",
    " 1. Обзор данных.\n",
    " 2. Предобработка данных.\n",
    " 3. Проверка гипотез.\n",
    "\n"
   ]
  },
  {
   "cell_type": "markdown",
   "metadata": {
    "deletable": false,
    "editable": false,
    "id": "Ml1hmfXC_Zcs"
   },
   "source": [
    "## Обзор данных\n",
    "\n",
    "Составьте первое представление о данных Яндекс Музыки.\n",
    "\n",
    "\n"
   ]
  },
  {
   "cell_type": "markdown",
   "metadata": {
    "deletable": false,
    "editable": false,
    "id": "57eAOGIz_Zcs",
    "tags": [
     "start_task"
    ]
   },
   "source": [
    "**Задание 1**\n",
    "\n",
    "Основной инструмент аналитика — `pandas`. Импортируйте эту библиотеку."
   ]
  },
  {
   "cell_type": "code",
   "execution_count": 1,
   "metadata": {
    "deletable": false,
    "id": "AXN7PHPN_Zcs"
   },
   "outputs": [],
   "source": [
    "import pandas as pd    # импорт библиотеки pandas"
   ]
  },
  {
   "cell_type": "markdown",
   "metadata": {
    "deletable": false,
    "editable": false,
    "id": "SG23P8tt_Zcs",
    "tags": [
     "start_task"
    ]
   },
   "source": [
    "**Задание 2**\n",
    "\n",
    "Прочитайте файл `yandex_music_project.csv` из папки `/datasets` и сохраните его в переменной `df`:"
   ]
  },
  {
   "cell_type": "code",
   "execution_count": 2,
   "metadata": {
    "deletable": false,
    "id": "fFVu7vqh_Zct"
   },
   "outputs": [],
   "source": [
    "try:\n",
    "    df = pd.read_csv('/datasets/yandex_music_project.csv') \n",
    "except:\n",
    "    df = pd.read_csv('https://code.s3.yandex.net/datasets/yandex_music_project.csv')"
   ]
  },
  {
   "cell_type": "markdown",
   "metadata": {
    "deletable": false,
    "editable": false,
    "id": "rDoOMd3uTqnZ",
    "tags": [
     "start_task"
    ]
   },
   "source": [
    "**Задание 3**\n",
    "\n",
    "\n",
    "Выведите на экран первые десять строк таблицы:"
   ]
  },
  {
   "cell_type": "code",
   "execution_count": 3,
   "metadata": {
    "deletable": false,
    "id": "oWTVX3gW_Zct"
   },
   "outputs": [
    {
     "name": "stdout",
     "output_type": "stream",
     "text": [
      "     userID                        Track            artist   genre  \\\n",
      "0  FFB692EC            Kamigata To Boots  The Mass Missile    rock   \n",
      "1  55204538  Delayed Because of Accident  Andreas Rönnberg    rock   \n",
      "2    20EC38            Funiculì funiculà       Mario Lanza     pop   \n",
      "3  A3DD03C9        Dragons in the Sunset        Fire + Ice    folk   \n",
      "4  E2DC1FAE                  Soul People        Space Echo   dance   \n",
      "5  842029A1                    Преданная         IMPERVTOR  rusrap   \n",
      "6  4CB90AA5                         True      Roman Messer   dance   \n",
      "7  F03E1C1F             Feeling This Way   Polina Griffith   dance   \n",
      "8  8FA1D3BE     И вновь продолжается бой               NaN  ruspop   \n",
      "9  E772D5C0                    Pessimist               NaN   dance   \n",
      "\n",
      "             City        time        Day  \n",
      "0  Saint-Petersburg  20:28:33  Wednesday  \n",
      "1            Moscow  14:07:09     Friday  \n",
      "2  Saint-Petersburg  20:58:07  Wednesday  \n",
      "3  Saint-Petersburg  08:37:09     Monday  \n",
      "4            Moscow  08:34:34     Monday  \n",
      "5  Saint-Petersburg  13:09:41     Friday  \n",
      "6            Moscow  13:00:07  Wednesday  \n",
      "7            Moscow  20:47:49  Wednesday  \n",
      "8            Moscow  09:17:40     Friday  \n",
      "9  Saint-Petersburg  21:20:49  Wednesday  \n"
     ]
    }
   ],
   "source": [
    "print(df.head(10))    # получение первых 10 строк таблицы df"
   ]
  },
  {
   "cell_type": "markdown",
   "metadata": {
    "deletable": false,
    "editable": false,
    "id": "EO73Kwic_Zct",
    "tags": [
     "start_task"
    ]
   },
   "source": [
    "**Задание 4**\n",
    "\n",
    "\n",
    "Одной командой получить общую информацию о таблице c помощью метода `info()`:"
   ]
  },
  {
   "cell_type": "code",
   "execution_count": 4,
   "metadata": {
    "deletable": false,
    "id": "DSf2kIb-_Zct"
   },
   "outputs": [
    {
     "name": "stdout",
     "output_type": "stream",
     "text": [
      "<class 'pandas.core.frame.DataFrame'>\n",
      "RangeIndex: 65079 entries, 0 to 65078\n",
      "Data columns (total 7 columns):\n",
      " #   Column    Non-Null Count  Dtype \n",
      "---  ------    --------------  ----- \n",
      " 0     userID  65079 non-null  object\n",
      " 1   Track     63848 non-null  object\n",
      " 2   artist    57876 non-null  object\n",
      " 3   genre     63881 non-null  object\n",
      " 4     City    65079 non-null  object\n",
      " 5   time      65079 non-null  object\n",
      " 6   Day       65079 non-null  object\n",
      "dtypes: object(7)\n",
      "memory usage: 3.5+ MB\n"
     ]
    }
   ],
   "source": [
    "df.info()    # получение общей информации о данных в таблице df"
   ]
  },
  {
   "cell_type": "markdown",
   "metadata": {
    "deletable": false,
    "editable": false,
    "id": "TaQ2Iwbr_Zct"
   },
   "source": [
    "Итак, в таблице семь столбцов. Тип данных во всех столбцах — `object`.\n",
    "\n",
    "Согласно документации к данным:\n",
    "* `userID` — идентификатор пользователя;\n",
    "* `Track` — название трека;  \n",
    "* `artist` — имя исполнителя;\n",
    "* `genre` — название жанра;\n",
    "* `City` — город пользователя;\n",
    "* `time` — время начала прослушивания;\n",
    "* `Day` — день недели.\n",
    "\n",
    "Количество значений в столбцах различается. Значит, в данных есть пропущенные значения."
   ]
  },
  {
   "cell_type": "markdown",
   "metadata": {
    "deletable": false,
    "editable": false,
    "id": "rAfziTBDmf2h",
    "tags": [
     "start_task"
    ]
   },
   "source": [
    "**Задание 5**\n",
    "\n",
    "**Вопрос со свободной формой ответа**\n",
    "\n",
    "В названиях колонок видны нарушения стиля:\n",
    "* Строчные буквы сочетаются с прописными.\n",
    "* Встречаются пробелы.\n",
    "\n",
    "Какое третье нарушение?"
   ]
  },
  {
   "cell_type": "code",
   "execution_count": 5,
   "metadata": {
    "id": "jD8EXEIvmf2h"
   },
   "outputs": [],
   "source": [
    "# Пропущенные значения Напишите ваш ответ здесь комментарием. Не удаляйте символ #. Не меняйте тип этой ячейки на Markdown."
   ]
  },
  {
   "cell_type": "markdown",
   "metadata": {
    "deletable": false,
    "editable": false,
    "id": "MCB6-dXG_Zct"
   },
   "source": [
    "**Выводы**\n",
    "\n",
    "В каждой строке таблицы — данные о прослушанном треке. Часть колонок описывает саму композицию: название, исполнителя и жанр. Остальные данные рассказывают о пользователе: из какого он города, когда он слушал музыку. \n",
    "\n",
    "Предварительно можно утверждать, что данных достаточно для проверки гипотез. Но встречаются пропуски в данных, а в названиях колонок — расхождения с хорошим стилем.\n",
    "\n",
    "Чтобы двигаться дальше, нужно устранить проблемы в данных."
   ]
  },
  {
   "cell_type": "markdown",
   "metadata": {
    "deletable": false,
    "editable": false,
    "id": "SjYF6Ub9_Zct"
   },
   "source": [
    "## Предобработка данных\n",
    "Исправьте стиль в заголовках столбцов, исключите пропуски. Затем проверьте данные на дубликаты."
   ]
  },
  {
   "cell_type": "markdown",
   "metadata": {
    "deletable": false,
    "editable": false,
    "id": "dIaKXr29_Zct",
    "tags": [
     "start_task"
    ]
   },
   "source": [
    "### Стиль заголовков\n",
    "\n",
    "**Задание 6**\n",
    "\n",
    "Выведите на экран названия столбцов:"
   ]
  },
  {
   "cell_type": "code",
   "execution_count": 6,
   "metadata": {
    "deletable": false,
    "id": "oKOTdF_Q_Zct"
   },
   "outputs": [
    {
     "name": "stdout",
     "output_type": "stream",
     "text": [
      "Index(['  userID', 'Track', 'artist', 'genre', '  City  ', 'time', 'Day'], dtype='object')\n"
     ]
    }
   ],
   "source": [
    "print(df.columns)    # перечень названий столбцов таблицы df"
   ]
  },
  {
   "cell_type": "markdown",
   "metadata": {
    "deletable": false,
    "editable": false,
    "id": "zj5534cv_Zct",
    "tags": [
     "start_task"
    ]
   },
   "source": [
    "**Задание 7**\n",
    "\n",
    "\n",
    "Приведите названия в соответствие с хорошим стилем:\n",
    "* несколько слов в названии запишите в «змеином_регистре»,\n",
    "* все символы сделайте строчными,\n",
    "* устраните пробелы.\n",
    "\n",
    "Для этого переименуйте колонки так:\n",
    "* `'  userID'` → `'user_id'`;\n",
    "* `'Track'` → `'track'`;\n",
    "* `'  City  '` → `'city'`;\n",
    "* `'Day'` → `'day'`."
   ]
  },
  {
   "cell_type": "code",
   "execution_count": 7,
   "metadata": {
    "deletable": false,
    "id": "ISlFqs5y_Zct"
   },
   "outputs": [],
   "source": [
    "# переименование столбцов\n",
    "df = df.rename(columns={'  userID': 'user_id', 'Track': 'track', '  City  ': 'city', 'Day': 'day'})    "
   ]
  },
  {
   "cell_type": "markdown",
   "metadata": {
    "deletable": false,
    "editable": false,
    "id": "1dqbh00J_Zct",
    "tags": [
     "start_task"
    ]
   },
   "source": [
    "**Задание 8**\n",
    "\n",
    "\n",
    "Проверьте результат. Для этого ещё раз выведите на экран названия столбцов:"
   ]
  },
  {
   "cell_type": "code",
   "execution_count": 8,
   "metadata": {
    "deletable": false,
    "id": "d4NOAmTW_Zct"
   },
   "outputs": [
    {
     "name": "stdout",
     "output_type": "stream",
     "text": [
      "Index(['user_id', 'track', 'artist', 'genre', 'city', 'time', 'day'], dtype='object')\n"
     ]
    }
   ],
   "source": [
    "print(df.columns)    # проверка результатов - перечень названий столбцов"
   ]
  },
  {
   "cell_type": "markdown",
   "metadata": {
    "deletable": false,
    "editable": false,
    "id": "5ISfbcfY_Zct",
    "tags": [
     "start_task"
    ]
   },
   "source": [
    "### Пропуски значений\n",
    "\n",
    "**Задание 9**\n",
    "\n",
    "Сначала посчитайте, сколько в таблице пропущенных значений. Для этого достаточно двух методов `pandas`:"
   ]
  },
  {
   "cell_type": "code",
   "execution_count": 9,
   "metadata": {
    "deletable": false,
    "id": "RskX29qr_Zct"
   },
   "outputs": [
    {
     "name": "stdout",
     "output_type": "stream",
     "text": [
      "user_id       0\n",
      "track      1231\n",
      "artist     7203\n",
      "genre      1198\n",
      "city          0\n",
      "time          0\n",
      "day           0\n",
      "dtype: int64\n"
     ]
    }
   ],
   "source": [
    "print(df.isna().sum())    # подсчёт пропусков"
   ]
  },
  {
   "cell_type": "markdown",
   "metadata": {
    "deletable": false,
    "editable": false,
    "id": "qubhgnlO_Zct"
   },
   "source": [
    "Не все пропущенные значения влияют на исследование. Так в `track` и `artist` пропуски не важны для вашей работы. Достаточно заменить их явными обозначениями.\n",
    "\n",
    "Но пропуски в `genre` могут помешать сравнению музыкальных вкусов в Москве и Санкт-Петербурге. На практике было бы правильно установить причину пропусков и восстановить данные. Такой возможности нет в учебном проекте. Придётся:\n",
    "* заполнить и эти пропуски явными обозначениями;\n",
    "* оценить, насколько они повредят расчётам. "
   ]
  },
  {
   "cell_type": "markdown",
   "metadata": {
    "deletable": false,
    "editable": false,
    "id": "fSv2laPA_Zct",
    "tags": [
     "start_task"
    ]
   },
   "source": [
    "**Задание 10**\n",
    "\n",
    "Замените пропущенные значения в столбцах `track`, `artist` и `genre` на строку `'unknown'`. Для этого создайте список `columns_to_replace`, переберите его элементы циклом `for` и для каждого столбца выполните замену пропущенных значений:"
   ]
  },
  {
   "cell_type": "code",
   "execution_count": 10,
   "metadata": {
    "deletable": false,
    "id": "KplB5qWs_Zct"
   },
   "outputs": [],
   "source": [
    "# перебор названий столбцов в цикле и замена пропущенных значений на 'unknown'\n",
    "columns_to_replace = ['track', 'artist', 'genre']\n",
    "for elem in columns_to_replace:\n",
    "    df[elem] = df[elem].fillna('unknown')"
   ]
  },
  {
   "cell_type": "markdown",
   "metadata": {
    "deletable": false,
    "editable": false,
    "id": "Ilsm-MZo_Zct",
    "tags": [
     "start_task"
    ]
   },
   "source": [
    "**Задание 11**\n",
    "\n",
    "Убедитесь, что в таблице не осталось пропусков. Для этого ещё раз посчитайте пропущенные значения."
   ]
  },
  {
   "cell_type": "code",
   "execution_count": 11,
   "metadata": {
    "deletable": false,
    "id": "Tq4nYRX4_Zct"
   },
   "outputs": [
    {
     "name": "stdout",
     "output_type": "stream",
     "text": [
      "user_id    0\n",
      "track      0\n",
      "artist     0\n",
      "genre      0\n",
      "city       0\n",
      "time       0\n",
      "day        0\n",
      "dtype: int64\n"
     ]
    }
   ],
   "source": [
    "# подсчёт пропусков\n",
    "print(df.isna().sum())"
   ]
  },
  {
   "cell_type": "markdown",
   "metadata": {
    "deletable": false,
    "editable": false,
    "id": "BWKRtBJ3_Zct",
    "tags": [
     "start_task"
    ]
   },
   "source": [
    "### Дубликаты\n",
    "\n",
    "**Задание 12**\n",
    "\n",
    "Посчитайте явные дубликаты в таблице одной командой:"
   ]
  },
  {
   "cell_type": "code",
   "execution_count": 12,
   "metadata": {
    "deletable": false,
    "id": "36eES_S0_Zct"
   },
   "outputs": [
    {
     "name": "stdout",
     "output_type": "stream",
     "text": [
      "3826\n"
     ]
    }
   ],
   "source": [
    "# подсчёт явных дубликатов\n",
    "print(df.duplicated().sum())"
   ]
  },
  {
   "cell_type": "markdown",
   "metadata": {
    "deletable": false,
    "editable": false,
    "id": "Ot25h6XR_Zct",
    "tags": [
     "start_task"
    ]
   },
   "source": [
    "**Задание 13**\n",
    "\n",
    "Вызовите специальный метод `pandas`, чтобы удалить явные дубликаты:"
   ]
  },
  {
   "cell_type": "code",
   "execution_count": 13,
   "metadata": {
    "deletable": false,
    "id": "exFHq6tt_Zct"
   },
   "outputs": [],
   "source": [
    "# удаление явных дубликатов\n",
    "df = df.drop_duplicates().reset_index(drop=True)"
   ]
  },
  {
   "cell_type": "markdown",
   "metadata": {
    "deletable": false,
    "editable": false,
    "id": "Im2YwBEG_Zct",
    "tags": [
     "start_task"
    ]
   },
   "source": [
    "**Задание 14**\n",
    "\n",
    "Ещё раз посчитайте явные дубликаты в таблице — убедитесь, что полностью от них избавились:"
   ]
  },
  {
   "cell_type": "code",
   "execution_count": 14,
   "metadata": {
    "deletable": false,
    "id": "-8PuNWQ0_Zct"
   },
   "outputs": [
    {
     "name": "stdout",
     "output_type": "stream",
     "text": [
      "0\n"
     ]
    }
   ],
   "source": [
    "# проверка на отсутствие дубликатов\n",
    "print(df.duplicated().sum())"
   ]
  },
  {
   "cell_type": "markdown",
   "metadata": {
    "deletable": false,
    "editable": false,
    "id": "QlFBsxAr_Zct"
   },
   "source": [
    "Теперь избавьтесь от неявных дубликатов в колонке `genre`. Например, название одного и того же жанра может быть записано немного по-разному. Такие ошибки тоже повлияют на результат исследования."
   ]
  },
  {
   "cell_type": "markdown",
   "metadata": {
    "deletable": false,
    "editable": false,
    "id": "eSjWwsOh_Zct",
    "tags": [
     "start_task"
    ]
   },
   "source": [
    "**Задание 15**\n",
    "\n",
    "Выведите на экран список уникальных названий жанров, отсортированный в алфавитном порядке. Для этого:\n",
    "1. извлеките нужный столбец датафрейма; \n",
    "2. примените к нему метод сортировки;\n",
    "3. для отсортированного столбца вызовите метод, который вернёт уникальные значения из столбца."
   ]
  },
  {
   "cell_type": "code",
   "execution_count": 15,
   "metadata": {
    "deletable": false,
    "id": "JIUcqzZN_Zct"
   },
   "outputs": [
    {
     "name": "stdout",
     "output_type": "stream",
     "text": [
      "['acid' 'acoustic' 'action' 'adult' 'africa' 'afrikaans' 'alternative'\n",
      " 'alternativepunk' 'ambient' 'americana' 'animated' 'anime' 'arabesk'\n",
      " 'arabic' 'arena' 'argentinetango' 'art' 'audiobook' 'author' 'avantgarde'\n",
      " 'axé' 'baile' 'balkan' 'beats' 'bigroom' 'black' 'bluegrass' 'blues'\n",
      " 'bollywood' 'bossa' 'brazilian' 'breakbeat' 'breaks' 'broadway'\n",
      " 'cantautori' 'cantopop' 'canzone' 'caribbean' 'caucasian' 'celtic'\n",
      " 'chamber' 'chanson' 'children' 'chill' 'chinese' 'choral' 'christian'\n",
      " 'christmas' 'classical' 'classicmetal' 'club' 'colombian' 'comedy'\n",
      " 'conjazz' 'contemporary' 'country' 'cuban' 'dance' 'dancehall' 'dancepop'\n",
      " 'dark' 'death' 'deep' 'deutschrock' 'deutschspr' 'dirty' 'disco' 'dnb'\n",
      " 'documentary' 'downbeat' 'downtempo' 'drum' 'dub' 'dubstep' 'eastern'\n",
      " 'easy' 'electronic' 'electropop' 'emo' 'entehno' 'epicmetal' 'estrada'\n",
      " 'ethnic' 'eurofolk' 'european' 'experimental' 'extrememetal' 'fado'\n",
      " 'fairytail' 'film' 'fitness' 'flamenco' 'folk' 'folklore' 'folkmetal'\n",
      " 'folkrock' 'folktronica' 'forró' 'frankreich' 'französisch' 'french'\n",
      " 'funk' 'future' 'gangsta' 'garage' 'german' 'ghazal' 'gitarre' 'glitch'\n",
      " 'gospel' 'gothic' 'grime' 'grunge' 'gypsy' 'handsup' \"hard'n'heavy\"\n",
      " 'hardcore' 'hardstyle' 'hardtechno' 'hip' 'hip-hop' 'hiphop' 'historisch'\n",
      " 'holiday' 'hop' 'horror' 'house' 'hymn' 'idm' 'independent' 'indian'\n",
      " 'indie' 'indipop' 'industrial' 'inspirational' 'instrumental'\n",
      " 'international' 'irish' 'jam' 'japanese' 'jazz' 'jewish' 'jpop' 'jungle'\n",
      " 'k-pop' 'karadeniz' 'karaoke' 'kayokyoku' 'korean' 'laiko' 'latin'\n",
      " 'latino' 'leftfield' 'local' 'lounge' 'loungeelectronic' 'lovers'\n",
      " 'malaysian' 'mandopop' 'marschmusik' 'meditative' 'mediterranean'\n",
      " 'melodic' 'metal' 'metalcore' 'mexican' 'middle' 'minimal'\n",
      " 'miscellaneous' 'modern' 'mood' 'mpb' 'muslim' 'native' 'neoklassik'\n",
      " 'neue' 'new' 'newage' 'newwave' 'nu' 'nujazz' 'numetal' 'oceania' 'old'\n",
      " 'opera' 'orchestral' 'other' 'piano' 'podcasts' 'pop' 'popdance'\n",
      " 'popelectronic' 'popeurodance' 'poprussian' 'post' 'posthardcore'\n",
      " 'postrock' 'power' 'progmetal' 'progressive' 'psychedelic' 'punjabi'\n",
      " 'punk' 'quebecois' 'ragga' 'ram' 'rancheras' 'rap' 'rave' 'reggae'\n",
      " 'reggaeton' 'regional' 'relax' 'religious' 'retro' 'rhythm' 'rnb' 'rnr'\n",
      " 'rock' 'rockabilly' 'rockalternative' 'rockindie' 'rockother' 'romance'\n",
      " 'roots' 'ruspop' 'rusrap' 'rusrock' 'russian' 'salsa' 'samba' 'scenic'\n",
      " 'schlager' 'self' 'sertanejo' 'shanson' 'shoegazing' 'showtunes' 'singer'\n",
      " 'ska' 'skarock' 'slow' 'smooth' 'soft' 'soul' 'soulful' 'sound'\n",
      " 'soundtrack' 'southern' 'specialty' 'speech' 'spiritual' 'sport'\n",
      " 'stonerrock' 'surf' 'swing' 'synthpop' 'synthrock' 'sängerportrait'\n",
      " 'tango' 'tanzorchester' 'taraftar' 'tatar' 'tech' 'techno' 'teen'\n",
      " 'thrash' 'top' 'traditional' 'tradjazz' 'trance' 'tribal' 'trip'\n",
      " 'triphop' 'tropical' 'türk' 'türkçe' 'ukrrock' 'unknown' 'urban' 'uzbek'\n",
      " 'variété' 'vi' 'videogame' 'vocal' 'western' 'world' 'worldbeat' 'ïîï'\n",
      " 'электроника']\n"
     ]
    }
   ],
   "source": [
    "# Просмотр уникальных названий жанров\n",
    "print(df['genre'].sort_values().unique())"
   ]
  },
  {
   "cell_type": "markdown",
   "metadata": {
    "deletable": false,
    "editable": false,
    "id": "qej-Qmuo_Zct",
    "tags": [
     "start_task"
    ]
   },
   "source": [
    "**Задание 16**\n",
    "\n",
    "Просмотрите список и найдите неявные дубликаты названия `hiphop`. Это могут быть названия с ошибками или альтернативные названия того же жанра.\n",
    "\n",
    "Вы увидите следующие неявные дубликаты:\n",
    "* *hip*,\n",
    "* *hop*,\n",
    "* *hip-hop*.\n",
    "\n",
    "Чтобы очистить от них таблицу используйте метод `replace()` с двумя аргументами: списком строк-дубликатов (включащий *hip*, *hop* и *hip-hop*) и строкой с правильным значением. Вам нужно исправить колонку `genre` в таблице `df`: заменить каждое значение из списка дубликатов на верное. Вместо `hip`, `hop` и `hip-hop` в таблице должно быть значение `hiphop`:"
   ]
  },
  {
   "cell_type": "code",
   "execution_count": 16,
   "metadata": {
    "deletable": false,
    "id": "ErNDkmns_Zct"
   },
   "outputs": [],
   "source": [
    "# Устранение неявных дубликатов\n",
    "dupli = ['hip', 'hop', 'hip-hop']\n",
    "name = 'hiphop'\n",
    "df['genre'] = df['genre'].replace(dupli, name)"
   ]
  },
  {
   "cell_type": "markdown",
   "metadata": {
    "deletable": false,
    "editable": false,
    "id": "zQKF16_RG15m",
    "tags": [
     "start_task"
    ]
   },
   "source": [
    "**Задание 17**\n",
    "\n",
    "Проверьте, что заменили неправильные названия:\n",
    "\n",
    "*   hip,\n",
    "*   hop,\n",
    "*   hip-hop.\n",
    "\n",
    "Выведите отсортированный список уникальных значений столбца `genre`:"
   ]
  },
  {
   "cell_type": "code",
   "execution_count": 17,
   "metadata": {
    "deletable": false,
    "id": "wvixALnFG15m"
   },
   "outputs": [
    {
     "name": "stdout",
     "output_type": "stream",
     "text": [
      "['acid' 'acoustic' 'action' 'adult' 'africa' 'afrikaans' 'alternative'\n",
      " 'alternativepunk' 'ambient' 'americana' 'animated' 'anime' 'arabesk'\n",
      " 'arabic' 'arena' 'argentinetango' 'art' 'audiobook' 'author' 'avantgarde'\n",
      " 'axé' 'baile' 'balkan' 'beats' 'bigroom' 'black' 'bluegrass' 'blues'\n",
      " 'bollywood' 'bossa' 'brazilian' 'breakbeat' 'breaks' 'broadway'\n",
      " 'cantautori' 'cantopop' 'canzone' 'caribbean' 'caucasian' 'celtic'\n",
      " 'chamber' 'chanson' 'children' 'chill' 'chinese' 'choral' 'christian'\n",
      " 'christmas' 'classical' 'classicmetal' 'club' 'colombian' 'comedy'\n",
      " 'conjazz' 'contemporary' 'country' 'cuban' 'dance' 'dancehall' 'dancepop'\n",
      " 'dark' 'death' 'deep' 'deutschrock' 'deutschspr' 'dirty' 'disco' 'dnb'\n",
      " 'documentary' 'downbeat' 'downtempo' 'drum' 'dub' 'dubstep' 'eastern'\n",
      " 'easy' 'electronic' 'electropop' 'emo' 'entehno' 'epicmetal' 'estrada'\n",
      " 'ethnic' 'eurofolk' 'european' 'experimental' 'extrememetal' 'fado'\n",
      " 'fairytail' 'film' 'fitness' 'flamenco' 'folk' 'folklore' 'folkmetal'\n",
      " 'folkrock' 'folktronica' 'forró' 'frankreich' 'französisch' 'french'\n",
      " 'funk' 'future' 'gangsta' 'garage' 'german' 'ghazal' 'gitarre' 'glitch'\n",
      " 'gospel' 'gothic' 'grime' 'grunge' 'gypsy' 'handsup' \"hard'n'heavy\"\n",
      " 'hardcore' 'hardstyle' 'hardtechno' 'hiphop' 'historisch' 'holiday'\n",
      " 'horror' 'house' 'hymn' 'idm' 'independent' 'indian' 'indie' 'indipop'\n",
      " 'industrial' 'inspirational' 'instrumental' 'international' 'irish' 'jam'\n",
      " 'japanese' 'jazz' 'jewish' 'jpop' 'jungle' 'k-pop' 'karadeniz' 'karaoke'\n",
      " 'kayokyoku' 'korean' 'laiko' 'latin' 'latino' 'leftfield' 'local'\n",
      " 'lounge' 'loungeelectronic' 'lovers' 'malaysian' 'mandopop' 'marschmusik'\n",
      " 'meditative' 'mediterranean' 'melodic' 'metal' 'metalcore' 'mexican'\n",
      " 'middle' 'minimal' 'miscellaneous' 'modern' 'mood' 'mpb' 'muslim'\n",
      " 'native' 'neoklassik' 'neue' 'new' 'newage' 'newwave' 'nu' 'nujazz'\n",
      " 'numetal' 'oceania' 'old' 'opera' 'orchestral' 'other' 'piano' 'podcasts'\n",
      " 'pop' 'popdance' 'popelectronic' 'popeurodance' 'poprussian' 'post'\n",
      " 'posthardcore' 'postrock' 'power' 'progmetal' 'progressive' 'psychedelic'\n",
      " 'punjabi' 'punk' 'quebecois' 'ragga' 'ram' 'rancheras' 'rap' 'rave'\n",
      " 'reggae' 'reggaeton' 'regional' 'relax' 'religious' 'retro' 'rhythm'\n",
      " 'rnb' 'rnr' 'rock' 'rockabilly' 'rockalternative' 'rockindie' 'rockother'\n",
      " 'romance' 'roots' 'ruspop' 'rusrap' 'rusrock' 'russian' 'salsa' 'samba'\n",
      " 'scenic' 'schlager' 'self' 'sertanejo' 'shanson' 'shoegazing' 'showtunes'\n",
      " 'singer' 'ska' 'skarock' 'slow' 'smooth' 'soft' 'soul' 'soulful' 'sound'\n",
      " 'soundtrack' 'southern' 'specialty' 'speech' 'spiritual' 'sport'\n",
      " 'stonerrock' 'surf' 'swing' 'synthpop' 'synthrock' 'sängerportrait'\n",
      " 'tango' 'tanzorchester' 'taraftar' 'tatar' 'tech' 'techno' 'teen'\n",
      " 'thrash' 'top' 'traditional' 'tradjazz' 'trance' 'tribal' 'trip'\n",
      " 'triphop' 'tropical' 'türk' 'türkçe' 'ukrrock' 'unknown' 'urban' 'uzbek'\n",
      " 'variété' 'vi' 'videogame' 'vocal' 'western' 'world' 'worldbeat' 'ïîï'\n",
      " 'электроника']\n"
     ]
    }
   ],
   "source": [
    "# Проверка на неявные дубликаты\n",
    "print(df['genre'].sort_values().unique())"
   ]
  },
  {
   "cell_type": "markdown",
   "metadata": {
    "deletable": false,
    "editable": false,
    "id": "jz6a9-7HQUDd"
   },
   "source": [
    "**Выводы**\n",
    "\n",
    "Предобработка обнаружила три проблемы в данных:\n",
    "\n",
    "- нарушения в стиле заголовков,\n",
    "- пропущенные значения,\n",
    "- дубликаты — явные и неявные.\n",
    "\n",
    "Вы исправили заголовки, чтобы упростить работу с таблицей. Без дубликатов исследование станет более точным.\n",
    "\n",
    "Пропущенные значения вы заменили на `'unknown'`. Ещё предстоит увидеть, не повредят ли исследованию пропуски в колонке `genre`.\n",
    "\n",
    "Теперь можно перейти к проверке гипотез. "
   ]
  },
  {
   "cell_type": "markdown",
   "metadata": {
    "deletable": false,
    "editable": false,
    "id": "WttZHXH0SqKk"
   },
   "source": [
    "## Проверка гипотез"
   ]
  },
  {
   "cell_type": "markdown",
   "metadata": {
    "deletable": false,
    "editable": false,
    "id": "Im936VVi_Zcu"
   },
   "source": [
    "### Сравнение поведения пользователей двух столиц"
   ]
  },
  {
   "cell_type": "markdown",
   "metadata": {
    "deletable": false,
    "editable": false,
    "id": "nwt_MuaL_Zcu"
   },
   "source": [
    "Первая гипотеза утверждает, что пользователи по-разному слушают музыку в Москве и Санкт-Петербурге. Проверьте это предположение по данным о трёх днях недели — понедельнике, среде и пятнице. Для этого:\n",
    "\n",
    "* Разделите пользователей Москвы и Санкт-Петербурга.\n",
    "* Сравните, сколько треков послушала каждая группа пользователей в понедельник, среду и пятницу.\n"
   ]
  },
  {
   "cell_type": "markdown",
   "metadata": {
    "deletable": false,
    "editable": false,
    "id": "8Dw_YMmT_Zcu",
    "tags": [
     "start_task"
    ]
   },
   "source": [
    "**Задание 18**\n",
    "\n",
    "Для тренировки сначала выполните каждый из расчётов по отдельности. \n",
    "\n",
    "Оцените активность пользователей в каждом городе. Сгруппируйте данные по городу и посчитайте прослушивания в каждой группе.\n",
    "\n"
   ]
  },
  {
   "cell_type": "code",
   "execution_count": 18,
   "metadata": {
    "deletable": false,
    "id": "0_Qs96oh_Zcu"
   },
   "outputs": [
    {
     "name": "stdout",
     "output_type": "stream",
     "text": [
      "city\n",
      "Moscow              42741\n",
      "Saint-Petersburg    18512\n",
      "Name: genre, dtype: int64\n"
     ]
    }
   ],
   "source": [
    "# Подсчёт прослушиваний в каждом городе\n",
    "print(df.groupby('city')['genre'].count())"
   ]
  },
  {
   "cell_type": "markdown",
   "metadata": {
    "deletable": false,
    "editable": false,
    "id": "dzli3w8o_Zcu",
    "tags": [
     "start_task"
    ]
   },
   "source": [
    "В Москве прослушиваний больше, чем в Петербурге. Из этого не следует, что московские пользователи чаще слушают музыку. Просто самих пользователей в Москве больше.\n",
    "\n",
    "**Задание 19**\n",
    "\n",
    "Теперь сгруппируйте данные по дню недели и посчитайте прослушивания в понедельник, среду и пятницу. Учтите, что в данных есть информация о прослушиваниях только за эти дни.\n"
   ]
  },
  {
   "cell_type": "code",
   "execution_count": 19,
   "metadata": {
    "deletable": false,
    "id": "uZMKjiJz_Zcu"
   },
   "outputs": [
    {
     "name": "stdout",
     "output_type": "stream",
     "text": [
      "day\n",
      "Friday       21840\n",
      "Monday       21354\n",
      "Wednesday    18059\n",
      "Name: genre, dtype: int64\n"
     ]
    }
   ],
   "source": [
    "# Подсчёт прослушиваний в каждый из трёх дней\n",
    "print(df.groupby('day')['genre'].count())"
   ]
  },
  {
   "cell_type": "markdown",
   "metadata": {
    "deletable": false,
    "editable": false,
    "id": "cC2tNrlL_Zcu"
   },
   "source": [
    "В среднем пользователи из двух городов менее активны по средам. Но картина может измениться, если рассмотреть каждый город в отдельности."
   ]
  },
  {
   "cell_type": "markdown",
   "metadata": {
    "deletable": false,
    "editable": false,
    "id": "POzs8bGa_Zcu",
    "tags": [
     "start_task"
    ]
   },
   "source": [
    "**Задание 20**\n",
    "\n",
    "\n",
    "Вы видели, как работает группировка по городу и по дням недели. Теперь напишите функцию, которая объединит два эти расчёта.\n",
    "\n",
    "Создайте функцию `number_tracks()`, которая посчитает прослушивания для заданного дня и города. Ей понадобятся два параметра:\n",
    "* день недели,\n",
    "* название города.\n",
    "\n",
    "В функции сохраните в переменную строки исходной таблицы, у которых значение:\n",
    "  * в колонке `day` равно параметру `day`,\n",
    "  * в колонке `city` равно параметру `city`.\n",
    "\n",
    "Для этого примените последовательную фильтрацию с логической индексацией (или сложные логические выражения в одну строку, если вы уже знакомы с ними).\n",
    "\n",
    "Затем посчитайте значения в столбце `user_id` получившейся таблицы. Результат сохраните в новую переменную. Верните эту переменную из функции."
   ]
  },
  {
   "cell_type": "code",
   "execution_count": 20,
   "metadata": {
    "deletable": false,
    "id": "Nz3GdQB1_Zcu"
   },
   "outputs": [],
   "source": [
    "# <создание функции number_tracks()>\n",
    "# Объявляется функция с двумя параметрами: day, city.\n",
    "def number_tracks(day, city):\n",
    "    track_list = df[df['city'] == city]\n",
    "    track_list = track_list[track_list['day'] == day]\n",
    "    track_list_count = track_list['user_id'].count()\n",
    "    return track_list_count\n",
    "# В переменной track_list сохраняются те строки таблицы df, для которых \n",
    "# значение в столбце 'day' равно параметру day и одновременно значение\n",
    "# в столбце 'city' равно параметру city (используйте последовательную фильтрацию\n",
    "# с помощью логической индексации или сложные логические выражения в одну строку, если вы уже знакомы с ними).\n",
    "# В переменной track_list_count сохраняется число значений столбца 'user_id',\n",
    "# рассчитанное методом count() для таблицы track_list.\n",
    "# Функция возвращает число - значение track_list_count.\n",
    "    \n",
    "# Функция для подсчёта прослушиваний для конкретного города и дня.\n",
    "# С помощью последовательной фильтрации с логической индексацией она \n",
    "# сначала получит из исходной таблицы строки с нужным днём,\n",
    "# затем из результата отфильтрует строки с нужным городом,\n",
    "# методом count() посчитает количество значений в колонке user_id. \n",
    "# Это количество функция вернёт в качестве результата"
   ]
  },
  {
   "cell_type": "markdown",
   "metadata": {
    "deletable": false,
    "editable": false,
    "id": "ytf7xFrFJQ2r",
    "tags": [
     "start_task"
    ]
   },
   "source": [
    "**Задание 21**\n",
    "\n",
    "Вызовите `number_tracks()` шесть раз, меняя значение параметров — так, чтобы получить данные для каждого города в каждый из трёх дней."
   ]
  },
  {
   "cell_type": "code",
   "execution_count": 21,
   "metadata": {
    "deletable": false,
    "id": "rJcRATNQ_Zcu"
   },
   "outputs": [
    {
     "data": {
      "text/plain": [
       "15740"
      ]
     },
     "execution_count": 21,
     "metadata": {},
     "output_type": "execute_result"
    }
   ],
   "source": [
    "# количество прослушиваний в Москве по понедельникам\n",
    "number_tracks('Monday', 'Moscow')"
   ]
  },
  {
   "cell_type": "code",
   "execution_count": 22,
   "metadata": {
    "deletable": false,
    "id": "hq_ncZ5T_Zcu"
   },
   "outputs": [
    {
     "data": {
      "text/plain": [
       "5614"
      ]
     },
     "execution_count": 22,
     "metadata": {},
     "output_type": "execute_result"
    }
   ],
   "source": [
    "# количество прослушиваний в Санкт-Петербурге по понедельникам\n",
    "number_tracks('Monday', 'Saint-Petersburg')"
   ]
  },
  {
   "cell_type": "code",
   "execution_count": 23,
   "metadata": {
    "deletable": false,
    "id": "_NTy2VPU_Zcu"
   },
   "outputs": [
    {
     "data": {
      "text/plain": [
       "11056"
      ]
     },
     "execution_count": 23,
     "metadata": {},
     "output_type": "execute_result"
    }
   ],
   "source": [
    "# количество прослушиваний в Москве по средам\n",
    "number_tracks('Wednesday', 'Moscow')"
   ]
  },
  {
   "cell_type": "code",
   "execution_count": 24,
   "metadata": {
    "deletable": false,
    "id": "j2y3TAwo_Zcu"
   },
   "outputs": [
    {
     "data": {
      "text/plain": [
       "7003"
      ]
     },
     "execution_count": 24,
     "metadata": {},
     "output_type": "execute_result"
    }
   ],
   "source": [
    "# количество прослушиваний в Санкт-Петербурге по средам\n",
    "number_tracks('Wednesday', 'Saint-Petersburg')"
   ]
  },
  {
   "cell_type": "code",
   "execution_count": 25,
   "metadata": {
    "deletable": false,
    "id": "vYDw5u_K_Zcu"
   },
   "outputs": [
    {
     "data": {
      "text/plain": [
       "15945"
      ]
     },
     "execution_count": 25,
     "metadata": {},
     "output_type": "execute_result"
    }
   ],
   "source": [
    "# количество прослушиваний в Москве по пятницам\n",
    "number_tracks('Friday', 'Moscow')"
   ]
  },
  {
   "cell_type": "code",
   "execution_count": 26,
   "metadata": {
    "deletable": false,
    "id": "8_yzFtW3_Zcu"
   },
   "outputs": [
    {
     "data": {
      "text/plain": [
       "5895"
      ]
     },
     "execution_count": 26,
     "metadata": {},
     "output_type": "execute_result"
    }
   ],
   "source": [
    "# количество прослушиваний в Санкт-Петербурге по пятницам\n",
    "number_tracks('Friday', 'Saint-Petersburg')"
   ]
  },
  {
   "cell_type": "markdown",
   "metadata": {
    "deletable": false,
    "editable": false,
    "id": "7QXffbO-_Zcu",
    "tags": [
     "start_task"
    ]
   },
   "source": [
    "**Задание 22**\n",
    "\n",
    "Создайте c помощью конструктора `pd.DataFrame` таблицу, где\n",
    "* названия колонок — `['city', 'monday', 'wednesday', 'friday']`;\n",
    "* данные — результаты, которые вы получили с помощью `number_tracks`."
   ]
  },
  {
   "cell_type": "code",
   "execution_count": 27,
   "metadata": {
    "deletable": false,
    "id": "APAcLpOr_Zcu"
   },
   "outputs": [
    {
     "data": {
      "text/html": [
       "<div>\n",
       "<style scoped>\n",
       "    .dataframe tbody tr th:only-of-type {\n",
       "        vertical-align: middle;\n",
       "    }\n",
       "\n",
       "    .dataframe tbody tr th {\n",
       "        vertical-align: top;\n",
       "    }\n",
       "\n",
       "    .dataframe thead th {\n",
       "        text-align: right;\n",
       "    }\n",
       "</style>\n",
       "<table border=\"1\" class=\"dataframe\">\n",
       "  <thead>\n",
       "    <tr style=\"text-align: right;\">\n",
       "      <th></th>\n",
       "      <th>city</th>\n",
       "      <th>monday</th>\n",
       "      <th>wednesday</th>\n",
       "      <th>friday</th>\n",
       "    </tr>\n",
       "  </thead>\n",
       "  <tbody>\n",
       "    <tr>\n",
       "      <th>0</th>\n",
       "      <td>Moscow</td>\n",
       "      <td>15740</td>\n",
       "      <td>11056</td>\n",
       "      <td>15945</td>\n",
       "    </tr>\n",
       "    <tr>\n",
       "      <th>1</th>\n",
       "      <td>Saint-Petersburg</td>\n",
       "      <td>5614</td>\n",
       "      <td>7003</td>\n",
       "      <td>5895</td>\n",
       "    </tr>\n",
       "  </tbody>\n",
       "</table>\n",
       "</div>"
      ],
      "text/plain": [
       "               city  monday  wednesday  friday\n",
       "0            Moscow   15740      11056   15945\n",
       "1  Saint-Petersburg    5614       7003    5895"
      ]
     },
     "execution_count": 27,
     "metadata": {},
     "output_type": "execute_result"
    }
   ],
   "source": [
    "# Таблица с результатами\n",
    "columns = ['city', 'monday', 'wednesday', 'friday']\n",
    "list_of_values = [['Moscow', 15740, 11056, 15945],['Saint-Petersburg', 5614, 7003, 5895]]\n",
    "pd.DataFrame(data=list_of_values, columns=columns)\n"
   ]
  },
  {
   "cell_type": "markdown",
   "metadata": {
    "deletable": false,
    "editable": false,
    "id": "-EgPIHYu_Zcu"
   },
   "source": [
    "**Выводы**\n",
    "\n",
    "Данные показывают разницу поведения пользователей:\n",
    "\n",
    "- В Москве пик прослушиваний приходится на понедельник и пятницу, а в среду заметен спад.\n",
    "- В Петербурге, наоборот, больше слушают музыку по средам. Активность в понедельник и пятницу здесь почти в равной мере уступает среде.\n",
    "\n",
    "Значит, данные говорят в пользу первой гипотезы."
   ]
  },
  {
   "cell_type": "markdown",
   "metadata": {
    "deletable": false,
    "editable": false,
    "id": "atZAxtq4_Zcu"
   },
   "source": [
    "### Музыка в начале и в конце недели"
   ]
  },
  {
   "cell_type": "markdown",
   "metadata": {
    "deletable": false,
    "editable": false,
    "id": "eXrQqXFH_Zcu"
   },
   "source": [
    "Согласно второй гипотезе, утром в понедельник в Москве преобладают одни жанры, а в Петербурге — другие. Так же и вечером пятницы преобладают разные жанры — в зависимости от города."
   ]
  },
  {
   "cell_type": "markdown",
   "metadata": {
    "deletable": false,
    "editable": false,
    "id": "S8UcW6Hw_Zcu",
    "tags": [
     "start_task"
    ]
   },
   "source": [
    "**Задание 23**\n",
    "\n",
    "Сохраните таблицы с данными в две переменные:\n",
    "* по Москве — в `moscow_general`;\n",
    "* по Санкт-Петербургу — в `spb_general`."
   ]
  },
  {
   "cell_type": "code",
   "execution_count": 28,
   "metadata": {
    "deletable": false,
    "id": "qeaFfM_P_Zcu"
   },
   "outputs": [],
   "source": [
    "# получение таблицы moscow_general из тех строк таблицы df, \n",
    "# для которых значение в столбце 'city' равно 'Moscow'\n",
    "moscow_general = df[df['city'] == 'Moscow']\n"
   ]
  },
  {
   "cell_type": "code",
   "execution_count": 29,
   "metadata": {
    "deletable": false,
    "id": "ORaVRKto_Zcu"
   },
   "outputs": [],
   "source": [
    "# получение таблицы spb_general из тех строк таблицы df,\n",
    "# для которых значение в столбце 'city' равно 'Saint-Petersburg'\n",
    "spb_general = df[df['city'] == 'Saint-Petersburg']\n"
   ]
  },
  {
   "cell_type": "markdown",
   "metadata": {
    "deletable": false,
    "editable": false,
    "id": "MEJV-CX2_Zcu",
    "tags": [
     "start_task"
    ]
   },
   "source": [
    "**Задание 24**\n",
    "\n",
    "Создайте функцию `genre_weekday()` с четырьмя параметрами:\n",
    "* таблица (датафрейм) с данными,\n",
    "* день недели,\n",
    "* начальная временная метка в формате 'hh:mm', \n",
    "* последняя временная метка в формате 'hh:mm'.\n",
    "\n",
    "Функция должна вернуть информацию о топ-10 жанров тех треков, которые прослушивали в указанный день, в промежутке между двумя отметками времени."
   ]
  },
  {
   "cell_type": "code",
   "execution_count": 30,
   "metadata": {
    "deletable": false,
    "id": "laJT9BYl_Zcu"
   },
   "outputs": [],
   "source": [
    "# Объявление функции genre_weekday() с параметрами table, day, time1, time2,\n",
    "# которая возвращает информацию о самых популярных жанрах в указанный день в\n",
    "# заданное время:\n",
    "# 1) в переменную genre_df сохраняются те строки переданного датафрейма table, для\n",
    "#    которых одновременно:\n",
    "#    - значение в столбце day равно значению аргумента day\n",
    "#    - значение в столбце time больше значения аргумента time1\n",
    "#    - значение в столбце time меньше значения аргумента time2\n",
    "#    Используйте последовательную фильтрацию с помощью логической индексации.\n",
    "# 2) сгруппировать датафрейм genre_df по столбцу genre, взять один из его\n",
    "#    столбцов и посчитать методом count() количество записей для каждого из\n",
    "#    присутствующих жанров, получившийся Series записать в переменную\n",
    "#    genre_df_count\n",
    "# 3) отсортировать genre_df_count по убыванию встречаемости и сохранить\n",
    "#    в переменную genre_df_sorted\n",
    "# 4) вернуть Series из 10 первых значений genre_df_sorted, это будут топ-10\n",
    "#    популярных жанров (в указанный день, в заданное время)\n",
    "\n",
    "def genre_weekday(df, day, time1, time2):\n",
    "    # последовательная фильтрация\n",
    "    # оставляем в genre_df только те строки df, у которых день равен day\n",
    "    genre_df = df[df['day'] == day]    # ваш код здесь\n",
    "    # оставляем в genre_df только те строки genre_df, у которых время меньше time2\n",
    "    genre_df =  genre_df[genre_df['time'] < time2]   # ваш код здесь\n",
    "    # оставляем в genre_df только те строки genre_df, у которых время больше time1\n",
    "    genre_df = genre_df[genre_df['time'] > time1]   # ваш код здесь\n",
    "    # сгруппируем отфильтрованный датафрейм по столбцу с названиями жанров, возьмём столбец genre и посчитаем кол-во строк для каждого жанра методом count()\n",
    "    genre_df_grouped = genre_df.groupby('genre')['genre'].count()    # ваш код здесь\n",
    "    # отсортируем результат по убыванию (чтобы в начале Series оказались самые популярные жанры)\n",
    "    genre_df_sorted = genre_df_grouped.sort_values(ascending=False)    # ваш код здесь\n",
    "    # вернём Series с 10 самыми популярными жанрами в указанный отрезок времени заданного дня\n",
    "    return genre_df_sorted[:10]"
   ]
  },
  {
   "cell_type": "markdown",
   "metadata": {
    "deletable": false,
    "editable": false,
    "id": "la2s2_PF_Zcu",
    "tags": [
     "start_task"
    ]
   },
   "source": [
    "**Задание 25**\n",
    "\n",
    "\n",
    "Cравните результаты функции `genre_weekday()` для Москвы и Санкт-Петербурга в понедельник утром (с 7:00 до 11:00) и в пятницу вечером (с 17:00 до 23:00):"
   ]
  },
  {
   "cell_type": "code",
   "execution_count": 31,
   "metadata": {
    "deletable": false,
    "id": "yz7itPUQ_Zcu"
   },
   "outputs": [
    {
     "data": {
      "text/plain": [
       "genre\n",
       "pop            781\n",
       "dance          549\n",
       "electronic     480\n",
       "rock           474\n",
       "hiphop         286\n",
       "ruspop         186\n",
       "world          181\n",
       "rusrap         175\n",
       "alternative    164\n",
       "unknown        161\n",
       "Name: genre, dtype: int64"
      ]
     },
     "execution_count": 31,
     "metadata": {},
     "output_type": "execute_result"
    }
   ],
   "source": [
    "# вызов функции для утра понедельника в Москве (вместо df — таблица moscow_general)\n",
    "# объекты, хранящие время, являются строками и сравниваются как строки\n",
    "# пример вызова: genre_weekday(moscow_general, 'Monday', '07:00', '11:00')\n",
    "genre_weekday(moscow_general, 'Monday', '07:00', '11:00')"
   ]
  },
  {
   "cell_type": "code",
   "execution_count": 32,
   "metadata": {
    "deletable": false,
    "id": "kwUcHPdy_Zcu"
   },
   "outputs": [
    {
     "data": {
      "text/plain": [
       "genre\n",
       "pop            218\n",
       "dance          182\n",
       "rock           162\n",
       "electronic     147\n",
       "hiphop          80\n",
       "ruspop          64\n",
       "alternative     58\n",
       "rusrap          55\n",
       "jazz            44\n",
       "classical       40\n",
       "Name: genre, dtype: int64"
      ]
     },
     "execution_count": 32,
     "metadata": {},
     "output_type": "execute_result"
    }
   ],
   "source": [
    "# вызов функции для утра понедельника в Петербурге (вместо df — таблица spb_general)\n",
    "genre_weekday(spb_general, 'Monday', '07:00', '11:00')"
   ]
  },
  {
   "cell_type": "code",
   "execution_count": 33,
   "metadata": {
    "deletable": false,
    "id": "EzXVRE1o_Zcu"
   },
   "outputs": [
    {
     "data": {
      "text/plain": [
       "genre\n",
       "pop            713\n",
       "rock           517\n",
       "dance          495\n",
       "electronic     482\n",
       "hiphop         273\n",
       "world          208\n",
       "ruspop         170\n",
       "alternative    163\n",
       "classical      163\n",
       "rusrap         142\n",
       "Name: genre, dtype: int64"
      ]
     },
     "execution_count": 33,
     "metadata": {},
     "output_type": "execute_result"
    }
   ],
   "source": [
    "# вызов функции для вечера пятницы в Москве\n",
    "genre_weekday(moscow_general, 'Friday', '17:00', '23:00')"
   ]
  },
  {
   "cell_type": "code",
   "execution_count": 34,
   "metadata": {
    "deletable": false,
    "id": "JZaEKu5v_Zcu"
   },
   "outputs": [
    {
     "data": {
      "text/plain": [
       "genre\n",
       "pop            256\n",
       "electronic     216\n",
       "rock           216\n",
       "dance          210\n",
       "hiphop          97\n",
       "alternative     63\n",
       "jazz            61\n",
       "classical       60\n",
       "rusrap          59\n",
       "world           54\n",
       "Name: genre, dtype: int64"
      ]
     },
     "execution_count": 34,
     "metadata": {},
     "output_type": "execute_result"
    }
   ],
   "source": [
    "# вызов функции для вечера пятницы в Петербурге\n",
    "genre_weekday(spb_general, 'Friday', '17:00', '23:00')"
   ]
  },
  {
   "cell_type": "markdown",
   "metadata": {
    "deletable": false,
    "editable": false,
    "id": "wrCe4MNX_Zcu"
   },
   "source": [
    "**Выводы**\n",
    "\n",
    "Если сравнить топ-10 жанров в понедельник утром, можно сделать такие выводы:\n",
    "\n",
    "1. В Москве и Петербурге слушают похожую музыку. Единственное отличие — в московский рейтинг вошёл жанр “world”, а в петербургский — джаз и классика.\n",
    "\n",
    "2. В Москве пропущенных значений оказалось так много, что значение `'unknown'` заняло десятое место среди самых популярных жанров. Значит, пропущенные значения занимают существенную долю в данных и угрожают достоверности исследования.\n",
    "\n",
    "Вечер пятницы не меняет эту картину. Некоторые жанры поднимаются немного выше, другие спускаются, но в целом топ-10 остаётся тем же самым.\n",
    "\n",
    "Таким образом, вторая гипотеза подтвердилась лишь частично:\n",
    "* Пользователи слушают похожую музыку в начале недели и в конце.\n",
    "* Разница между Москвой и Петербургом не слишком выражена. В Москве чаще слушают русскую популярную музыку, в Петербурге — джаз.\n",
    "\n",
    "Однако пропуски в данных ставят под сомнение этот результат. В Москве их так много, что рейтинг топ-10 мог бы выглядеть иначе, если бы не утерянные  данные о жанрах."
   ]
  },
  {
   "cell_type": "markdown",
   "metadata": {
    "deletable": false,
    "editable": false,
    "id": "JolODAqr_Zcu"
   },
   "source": [
    "### Жанровые предпочтения в Москве и Петербурге\n",
    "\n",
    "Гипотеза: Петербург — столица рэпа, музыку этого жанра там слушают чаще, чем в Москве.  А Москва — город контрастов, в котором, тем не менее, преобладает поп-музыка."
   ]
  },
  {
   "cell_type": "markdown",
   "metadata": {
    "deletable": false,
    "editable": false,
    "id": "DlegSvaT_Zcu",
    "tags": [
     "start_task"
    ]
   },
   "source": [
    "**Задание 26**\n",
    "\n",
    "Сгруппируйте таблицу `moscow_general` по жанру и посчитайте прослушивания треков каждого жанра методом `count()`. Затем отсортируйте результат в порядке убывания и сохраните его в таблице `moscow_genres`."
   ]
  },
  {
   "cell_type": "code",
   "execution_count": 35,
   "metadata": {
    "deletable": false,
    "id": "r19lIPke_Zcu"
   },
   "outputs": [],
   "source": [
    "# одной строкой: группировка таблицы moscow_general по столбцу 'genre', \n",
    "# подсчёт числа значений 'genre' в этой группировке методом count(), \n",
    "# сортировка получившегося Series в порядке убывания и сохранение в moscow_genres\n",
    "moscow_genres = moscow_general.groupby('genre')['genre'].count().sort_values(ascending=False)"
   ]
  },
  {
   "cell_type": "markdown",
   "metadata": {
    "deletable": false,
    "editable": false,
    "id": "6kMuomxTiIr8",
    "tags": [
     "start_task"
    ]
   },
   "source": [
    "**Задание 27**\n",
    "\n",
    "Выведите на экран первые десять строк `moscow_genres`:"
   ]
  },
  {
   "cell_type": "code",
   "execution_count": 36,
   "metadata": {
    "deletable": false,
    "id": "WhCSooF8_Zcv"
   },
   "outputs": [
    {
     "data": {
      "text/plain": [
       "genre\n",
       "pop            5892\n",
       "dance          4435\n",
       "rock           3965\n",
       "electronic     3786\n",
       "hiphop         2096\n",
       "classical      1616\n",
       "world          1432\n",
       "alternative    1379\n",
       "ruspop         1372\n",
       "rusrap         1161\n",
       "Name: genre, dtype: int64"
      ]
     },
     "execution_count": 36,
     "metadata": {},
     "output_type": "execute_result"
    }
   ],
   "source": [
    "# просмотр первых 10 строк moscow_genres\n",
    "moscow_genres.head(10)"
   ]
  },
  {
   "cell_type": "markdown",
   "metadata": {
    "deletable": false,
    "editable": false,
    "id": "cnPG2vnN_Zcv",
    "tags": [
     "start_task"
    ]
   },
   "source": [
    "**Задание 28**\n",
    "\n",
    "\n",
    "Теперь повторите то же и для Петербурга.\n",
    "\n",
    "Сгруппируйте таблицу `spb_general` по жанру. Посчитайте прослушивания треков каждого жанра. Результат отсортируйте в порядке убывания и сохраните в таблице `spb_genres`:\n"
   ]
  },
  {
   "cell_type": "code",
   "execution_count": 37,
   "metadata": {
    "deletable": false,
    "id": "gluLIpE7_Zcv"
   },
   "outputs": [],
   "source": [
    "# одной строкой: группировка таблицы spb_general по столбцу 'genre', \n",
    "# подсчёт числа значений 'genre' в этой группировке методом count(), \n",
    "# сортировка получившегося Series в порядке убывания и сохранение в spb_genres\n",
    "spb_genres = spb_general.groupby('genre')['genre'].count().sort_values(ascending=False)"
   ]
  },
  {
   "cell_type": "markdown",
   "metadata": {
    "deletable": false,
    "editable": false,
    "id": "5Doha_ODgyQ8",
    "tags": [
     "start_task"
    ]
   },
   "source": [
    "**Задание 29**\n",
    "\n",
    "Выведите на экран первые десять строк `spb_genres`:"
   ]
  },
  {
   "cell_type": "code",
   "execution_count": 38,
   "metadata": {
    "deletable": false,
    "id": "uaGJHjVU_Zcv"
   },
   "outputs": [
    {
     "data": {
      "text/plain": [
       "genre\n",
       "pop            2431\n",
       "dance          1932\n",
       "rock           1879\n",
       "electronic     1736\n",
       "hiphop          960\n",
       "alternative     649\n",
       "classical       646\n",
       "rusrap          564\n",
       "ruspop          538\n",
       "world           515\n",
       "Name: genre, dtype: int64"
      ]
     },
     "execution_count": 38,
     "metadata": {},
     "output_type": "execute_result"
    }
   ],
   "source": [
    "# просмотр первых 10 строк spb_genres\n",
    "spb_genres.head(10)"
   ]
  },
  {
   "cell_type": "markdown",
   "metadata": {
    "deletable": false,
    "editable": false,
    "id": "RY51YJYu_Zcv"
   },
   "source": [
    "**Выводы**"
   ]
  },
  {
   "cell_type": "markdown",
   "metadata": {
    "deletable": false,
    "editable": false,
    "id": "nVhnJEm__Zcv"
   },
   "source": [
    "Гипотеза частично подтвердилась:\n",
    "* Поп-музыка — самый популярный жанр в Москве, как и предполагала гипотеза. Более того, в топ-10 жанров встречается близкий жанр — русская популярная музыка.\n",
    "* Вопреки ожиданиям, рэп одинаково популярен в Москве и Петербурге. \n"
   ]
  },
  {
   "cell_type": "markdown",
   "metadata": {
    "deletable": false,
    "editable": false,
    "id": "ykKQ0N65_Zcv"
   },
   "source": [
    "## Итоги исследования"
   ]
  },
  {
   "cell_type": "markdown",
   "metadata": {
    "deletable": false,
    "editable": false,
    "id": "tjUwbHb3_Zcv"
   },
   "source": [
    "Вы проверили три гипотезы и установили:\n",
    "\n",
    "1. День недели по-разному влияет на активность пользователей в Москве и Петербурге. \n",
    "\n",
    "Первая гипотеза полностью подтвердилась.\n",
    "\n",
    "2. Музыкальные предпочтения не сильно меняются в течение недели — будь то Москва или Петербург. Небольшие различия заметны в начале недели, по понедельникам:\n",
    "* в Москве слушают музыку жанра “world”,\n",
    "* в Петербурге — джаз и классику.\n",
    "\n",
    "Таким образом, вторая гипотеза подтвердилась лишь отчасти. Этот результат мог оказаться иным, если бы не пропуски в данных.\n",
    "\n",
    "3. Во вкусах пользователей Москвы и Петербурга больше общего чем различий. Вопреки ожиданиям, предпочтения жанров в Петербурге напоминают московские.\n",
    "\n",
    "Третья гипотеза не подтвердилась. Если различия в предпочтениях и существуют, на основной массе пользователей они незаметны.\n",
    "\n",
    "**На практике исследования содержат проверки статистических гипотез.**\n",
    "Из данных одного сервиса не всегда можно сделать вывод о всех жителях города.\n",
    "Проверки статистических гипотез покажут, насколько они достоверны, исходя из имеющихся данных. \n",
    "С методами проверок гипотез вы ещё познакомитесь в следующих темах."
   ]
  }
 ],
 "metadata": {
  "ExecuteTimeLog": [
   {
    "duration": 2,
    "start_time": "2022-10-20T16:03:07.304Z"
   },
   {
    "duration": 131,
    "start_time": "2022-10-20T16:04:26.482Z"
   },
   {
    "duration": 7,
    "start_time": "2022-10-20T16:04:51.525Z"
   },
   {
    "duration": 17,
    "start_time": "2022-10-20T16:05:38.547Z"
   },
   {
    "duration": 26,
    "start_time": "2022-10-20T16:08:52.184Z"
   },
   {
    "duration": 4,
    "start_time": "2022-10-20T16:12:01.801Z"
   },
   {
    "duration": 7,
    "start_time": "2022-10-20T16:18:00.984Z"
   },
   {
    "duration": 3,
    "start_time": "2022-10-20T16:18:10.831Z"
   },
   {
    "duration": 2,
    "start_time": "2022-10-20T16:18:24.271Z"
   },
   {
    "duration": 3,
    "start_time": "2022-10-20T16:18:39.287Z"
   },
   {
    "duration": 173,
    "start_time": "2022-10-20T16:18:39.292Z"
   },
   {
    "duration": 7,
    "start_time": "2022-10-20T16:18:39.467Z"
   },
   {
    "duration": 31,
    "start_time": "2022-10-20T16:18:39.476Z"
   },
   {
    "duration": 2,
    "start_time": "2022-10-20T16:18:39.509Z"
   },
   {
    "duration": 11,
    "start_time": "2022-10-20T16:18:39.513Z"
   },
   {
    "duration": 13,
    "start_time": "2022-10-20T16:18:39.526Z"
   },
   {
    "duration": 3,
    "start_time": "2022-10-20T16:18:46.558Z"
   },
   {
    "duration": 145,
    "start_time": "2022-10-20T16:18:46.563Z"
   },
   {
    "duration": 7,
    "start_time": "2022-10-20T16:18:46.709Z"
   },
   {
    "duration": 30,
    "start_time": "2022-10-20T16:18:46.717Z"
   },
   {
    "duration": 3,
    "start_time": "2022-10-20T16:18:46.748Z"
   },
   {
    "duration": 6,
    "start_time": "2022-10-20T16:18:46.752Z"
   },
   {
    "duration": 11,
    "start_time": "2022-10-20T16:18:46.759Z"
   },
   {
    "duration": 3,
    "start_time": "2022-10-20T16:18:52.066Z"
   },
   {
    "duration": 21,
    "start_time": "2022-10-20T16:20:16.136Z"
   },
   {
    "duration": 18,
    "start_time": "2022-10-20T16:27:25.280Z"
   },
   {
    "duration": 22,
    "start_time": "2022-10-20T16:27:35.111Z"
   },
   {
    "duration": 58,
    "start_time": "2022-10-20T16:28:59.745Z"
   },
   {
    "duration": 88,
    "start_time": "2022-10-20T16:30:43.412Z"
   },
   {
    "duration": 63,
    "start_time": "2022-10-20T16:30:49.854Z"
   },
   {
    "duration": 54,
    "start_time": "2022-10-20T16:30:57.548Z"
   },
   {
    "duration": 32,
    "start_time": "2022-10-20T16:37:08.702Z"
   },
   {
    "duration": 10,
    "start_time": "2022-10-20T16:40:52.582Z"
   },
   {
    "duration": 36,
    "start_time": "2022-10-20T16:41:05.761Z"
   },
   {
    "duration": 10,
    "start_time": "2022-10-20T16:45:49.485Z"
   },
   {
    "duration": 9,
    "start_time": "2022-10-20T16:47:18.732Z"
   },
   {
    "duration": 41,
    "start_time": "2022-10-20T17:02:40.163Z"
   },
   {
    "duration": 5,
    "start_time": "2022-10-20T17:02:47.590Z"
   },
   {
    "duration": 14,
    "start_time": "2022-10-20T17:03:49.011Z"
   },
   {
    "duration": 4,
    "start_time": "2022-10-20T17:05:04.761Z"
   },
   {
    "duration": 33,
    "start_time": "2022-10-20T17:05:08.132Z"
   },
   {
    "duration": 20,
    "start_time": "2022-10-20T17:06:15.020Z"
   },
   {
    "duration": 20,
    "start_time": "2022-10-20T17:06:17.358Z"
   },
   {
    "duration": 23,
    "start_time": "2022-10-20T17:06:19.588Z"
   },
   {
    "duration": 21,
    "start_time": "2022-10-20T17:06:21.925Z"
   },
   {
    "duration": 26,
    "start_time": "2022-10-20T17:15:27.085Z"
   },
   {
    "duration": 3,
    "start_time": "2022-10-20T17:17:53.680Z"
   },
   {
    "duration": 158,
    "start_time": "2022-10-20T17:17:53.685Z"
   },
   {
    "duration": 7,
    "start_time": "2022-10-20T17:17:53.845Z"
   },
   {
    "duration": 51,
    "start_time": "2022-10-20T17:17:53.854Z"
   },
   {
    "duration": 2,
    "start_time": "2022-10-20T17:17:53.907Z"
   },
   {
    "duration": 13,
    "start_time": "2022-10-20T17:17:53.911Z"
   },
   {
    "duration": 13,
    "start_time": "2022-10-20T17:17:53.926Z"
   },
   {
    "duration": 3,
    "start_time": "2022-10-20T17:17:53.941Z"
   },
   {
    "duration": 25,
    "start_time": "2022-10-20T17:17:53.946Z"
   },
   {
    "duration": 43,
    "start_time": "2022-10-20T17:17:53.974Z"
   },
   {
    "duration": 31,
    "start_time": "2022-10-20T17:17:54.019Z"
   },
   {
    "duration": 86,
    "start_time": "2022-10-20T17:17:54.052Z"
   },
   {
    "duration": 87,
    "start_time": "2022-10-20T17:17:54.139Z"
   },
   {
    "duration": 57,
    "start_time": "2022-10-20T17:17:54.228Z"
   },
   {
    "duration": 36,
    "start_time": "2022-10-20T17:17:54.299Z"
   },
   {
    "duration": 9,
    "start_time": "2022-10-20T17:17:54.337Z"
   },
   {
    "duration": 55,
    "start_time": "2022-10-20T17:17:54.348Z"
   },
   {
    "duration": 11,
    "start_time": "2022-10-20T17:17:54.405Z"
   },
   {
    "duration": 21,
    "start_time": "2022-10-20T17:17:54.419Z"
   },
   {
    "duration": 6,
    "start_time": "2022-10-20T17:17:54.442Z"
   },
   {
    "duration": 56,
    "start_time": "2022-10-20T17:17:54.450Z"
   },
   {
    "duration": 29,
    "start_time": "2022-10-20T17:17:54.508Z"
   },
   {
    "duration": 39,
    "start_time": "2022-10-20T17:17:54.539Z"
   },
   {
    "duration": 41,
    "start_time": "2022-10-20T17:17:54.581Z"
   },
   {
    "duration": 29,
    "start_time": "2022-10-20T17:17:54.624Z"
   },
   {
    "duration": 21,
    "start_time": "2022-10-20T17:17:54.656Z"
   },
   {
    "duration": 9,
    "start_time": "2022-10-20T17:18:37.720Z"
   },
   {
    "duration": 4,
    "start_time": "2022-10-20T17:19:31.352Z"
   },
   {
    "duration": 425,
    "start_time": "2022-10-20T17:20:03.180Z"
   },
   {
    "duration": 146,
    "start_time": "2022-10-20T17:20:03.606Z"
   },
   {
    "duration": 8,
    "start_time": "2022-10-20T17:20:03.753Z"
   },
   {
    "duration": 42,
    "start_time": "2022-10-20T17:20:03.763Z"
   },
   {
    "duration": 2,
    "start_time": "2022-10-20T17:20:03.807Z"
   },
   {
    "duration": 12,
    "start_time": "2022-10-20T17:20:03.810Z"
   },
   {
    "duration": 26,
    "start_time": "2022-10-20T17:20:03.823Z"
   },
   {
    "duration": 11,
    "start_time": "2022-10-20T17:20:03.851Z"
   },
   {
    "duration": 31,
    "start_time": "2022-10-20T17:20:03.865Z"
   },
   {
    "duration": 19,
    "start_time": "2022-10-20T17:20:03.898Z"
   },
   {
    "duration": 35,
    "start_time": "2022-10-20T17:20:03.919Z"
   },
   {
    "duration": 80,
    "start_time": "2022-10-20T17:20:03.956Z"
   },
   {
    "duration": 80,
    "start_time": "2022-10-20T17:20:04.038Z"
   },
   {
    "duration": 65,
    "start_time": "2022-10-20T17:20:04.120Z"
   },
   {
    "duration": 56,
    "start_time": "2022-10-20T17:20:04.186Z"
   },
   {
    "duration": 10,
    "start_time": "2022-10-20T17:20:04.243Z"
   },
   {
    "duration": 52,
    "start_time": "2022-10-20T17:20:04.255Z"
   },
   {
    "duration": 9,
    "start_time": "2022-10-20T17:20:04.309Z"
   },
   {
    "duration": 16,
    "start_time": "2022-10-20T17:20:04.319Z"
   },
   {
    "duration": 10,
    "start_time": "2022-10-20T17:20:04.337Z"
   },
   {
    "duration": 55,
    "start_time": "2022-10-20T17:20:04.349Z"
   },
   {
    "duration": 19,
    "start_time": "2022-10-20T17:20:04.407Z"
   },
   {
    "duration": 56,
    "start_time": "2022-10-20T17:20:04.428Z"
   },
   {
    "duration": 23,
    "start_time": "2022-10-20T17:20:04.486Z"
   },
   {
    "duration": 35,
    "start_time": "2022-10-20T17:20:04.511Z"
   },
   {
    "duration": 41,
    "start_time": "2022-10-20T17:20:04.548Z"
   },
   {
    "duration": 13,
    "start_time": "2022-10-20T17:20:04.591Z"
   },
   {
    "duration": 12,
    "start_time": "2022-10-20T17:20:04.607Z"
   },
   {
    "duration": 6,
    "start_time": "2022-10-20T17:20:04.621Z"
   },
   {
    "duration": 157,
    "start_time": "2022-10-20T17:20:04.629Z"
   },
   {
    "duration": 0,
    "start_time": "2022-10-20T17:20:04.789Z"
   },
   {
    "duration": 0,
    "start_time": "2022-10-20T17:20:04.790Z"
   },
   {
    "duration": 0,
    "start_time": "2022-10-20T17:20:04.792Z"
   },
   {
    "duration": 0,
    "start_time": "2022-10-20T17:20:04.793Z"
   },
   {
    "duration": 0,
    "start_time": "2022-10-20T17:20:04.795Z"
   },
   {
    "duration": 0,
    "start_time": "2022-10-20T17:20:04.796Z"
   },
   {
    "duration": 0,
    "start_time": "2022-10-20T17:20:04.798Z"
   },
   {
    "duration": 0,
    "start_time": "2022-10-20T17:20:04.799Z"
   },
   {
    "duration": 347,
    "start_time": "2022-10-20T17:20:33.846Z"
   },
   {
    "duration": 151,
    "start_time": "2022-10-20T17:20:34.195Z"
   },
   {
    "duration": 7,
    "start_time": "2022-10-20T17:20:34.348Z"
   },
   {
    "duration": 43,
    "start_time": "2022-10-20T17:20:34.357Z"
   },
   {
    "duration": 3,
    "start_time": "2022-10-20T17:20:34.403Z"
   },
   {
    "duration": 11,
    "start_time": "2022-10-20T17:20:34.408Z"
   },
   {
    "duration": 18,
    "start_time": "2022-10-20T17:20:34.421Z"
   },
   {
    "duration": 14,
    "start_time": "2022-10-20T17:20:34.442Z"
   },
   {
    "duration": 38,
    "start_time": "2022-10-20T17:20:34.459Z"
   },
   {
    "duration": 31,
    "start_time": "2022-10-20T17:20:34.501Z"
   },
   {
    "duration": 29,
    "start_time": "2022-10-20T17:20:34.534Z"
   },
   {
    "duration": 99,
    "start_time": "2022-10-20T17:20:34.565Z"
   },
   {
    "duration": 80,
    "start_time": "2022-10-20T17:20:34.666Z"
   },
   {
    "duration": 63,
    "start_time": "2022-10-20T17:20:34.748Z"
   },
   {
    "duration": 31,
    "start_time": "2022-10-20T17:20:34.813Z"
   },
   {
    "duration": 9,
    "start_time": "2022-10-20T17:20:34.846Z"
   },
   {
    "duration": 52,
    "start_time": "2022-10-20T17:20:34.856Z"
   },
   {
    "duration": 9,
    "start_time": "2022-10-20T17:20:34.909Z"
   },
   {
    "duration": 9,
    "start_time": "2022-10-20T17:20:34.920Z"
   },
   {
    "duration": 3,
    "start_time": "2022-10-20T17:20:34.930Z"
   },
   {
    "duration": 104,
    "start_time": "2022-10-20T17:20:34.935Z"
   },
   {
    "duration": 0,
    "start_time": "2022-10-20T17:20:35.042Z"
   },
   {
    "duration": 0,
    "start_time": "2022-10-20T17:20:35.043Z"
   },
   {
    "duration": 0,
    "start_time": "2022-10-20T17:20:35.044Z"
   },
   {
    "duration": 0,
    "start_time": "2022-10-20T17:20:35.045Z"
   },
   {
    "duration": 0,
    "start_time": "2022-10-20T17:20:35.046Z"
   },
   {
    "duration": 0,
    "start_time": "2022-10-20T17:20:35.047Z"
   },
   {
    "duration": 0,
    "start_time": "2022-10-20T17:20:35.048Z"
   },
   {
    "duration": 0,
    "start_time": "2022-10-20T17:20:35.049Z"
   },
   {
    "duration": 0,
    "start_time": "2022-10-20T17:20:35.050Z"
   },
   {
    "duration": 0,
    "start_time": "2022-10-20T17:20:35.052Z"
   },
   {
    "duration": 0,
    "start_time": "2022-10-20T17:20:35.053Z"
   },
   {
    "duration": 0,
    "start_time": "2022-10-20T17:20:35.053Z"
   },
   {
    "duration": 0,
    "start_time": "2022-10-20T17:20:35.054Z"
   },
   {
    "duration": 0,
    "start_time": "2022-10-20T17:20:35.056Z"
   },
   {
    "duration": 0,
    "start_time": "2022-10-20T17:20:35.057Z"
   },
   {
    "duration": 1,
    "start_time": "2022-10-20T17:20:35.057Z"
   },
   {
    "duration": 0,
    "start_time": "2022-10-20T17:20:35.058Z"
   },
   {
    "duration": 395,
    "start_time": "2022-10-20T17:21:27.582Z"
   },
   {
    "duration": 141,
    "start_time": "2022-10-20T17:21:27.979Z"
   },
   {
    "duration": 9,
    "start_time": "2022-10-20T17:21:28.122Z"
   },
   {
    "duration": 30,
    "start_time": "2022-10-20T17:21:28.133Z"
   },
   {
    "duration": 2,
    "start_time": "2022-10-20T17:21:28.165Z"
   },
   {
    "duration": 9,
    "start_time": "2022-10-20T17:21:28.168Z"
   },
   {
    "duration": 30,
    "start_time": "2022-10-20T17:21:28.178Z"
   },
   {
    "duration": 7,
    "start_time": "2022-10-20T17:21:28.209Z"
   },
   {
    "duration": 24,
    "start_time": "2022-10-20T17:21:28.217Z"
   },
   {
    "duration": 15,
    "start_time": "2022-10-20T17:21:28.244Z"
   },
   {
    "duration": 18,
    "start_time": "2022-10-20T17:21:28.260Z"
   },
   {
    "duration": 73,
    "start_time": "2022-10-20T17:21:28.279Z"
   },
   {
    "duration": 79,
    "start_time": "2022-10-20T17:21:28.354Z"
   },
   {
    "duration": 54,
    "start_time": "2022-10-20T17:21:28.435Z"
   },
   {
    "duration": 38,
    "start_time": "2022-10-20T17:21:28.490Z"
   },
   {
    "duration": 9,
    "start_time": "2022-10-20T17:21:28.530Z"
   },
   {
    "duration": 38,
    "start_time": "2022-10-20T17:21:28.541Z"
   },
   {
    "duration": 27,
    "start_time": "2022-10-20T17:21:28.580Z"
   },
   {
    "duration": 9,
    "start_time": "2022-10-20T17:21:28.609Z"
   },
   {
    "duration": 4,
    "start_time": "2022-10-20T17:21:28.619Z"
   },
   {
    "duration": 55,
    "start_time": "2022-10-20T17:21:28.624Z"
   },
   {
    "duration": 20,
    "start_time": "2022-10-20T17:21:28.681Z"
   },
   {
    "duration": 18,
    "start_time": "2022-10-20T17:21:28.703Z"
   },
   {
    "duration": 14,
    "start_time": "2022-10-20T17:21:28.723Z"
   },
   {
    "duration": 17,
    "start_time": "2022-10-20T17:21:28.739Z"
   },
   {
    "duration": 12,
    "start_time": "2022-10-20T17:21:28.758Z"
   },
   {
    "duration": 9,
    "start_time": "2022-10-20T17:21:28.801Z"
   },
   {
    "duration": 38,
    "start_time": "2022-10-20T17:21:28.812Z"
   },
   {
    "duration": 6,
    "start_time": "2022-10-20T17:21:28.852Z"
   },
   {
    "duration": 56,
    "start_time": "2022-10-20T17:21:28.859Z"
   },
   {
    "duration": 0,
    "start_time": "2022-10-20T17:21:28.916Z"
   },
   {
    "duration": 0,
    "start_time": "2022-10-20T17:21:28.917Z"
   },
   {
    "duration": 0,
    "start_time": "2022-10-20T17:21:28.918Z"
   },
   {
    "duration": 0,
    "start_time": "2022-10-20T17:21:28.920Z"
   },
   {
    "duration": 0,
    "start_time": "2022-10-20T17:21:28.921Z"
   },
   {
    "duration": 0,
    "start_time": "2022-10-20T17:21:28.922Z"
   },
   {
    "duration": 0,
    "start_time": "2022-10-20T17:21:28.923Z"
   },
   {
    "duration": 0,
    "start_time": "2022-10-20T17:21:28.924Z"
   },
   {
    "duration": 410,
    "start_time": "2022-10-20T17:22:03.815Z"
   },
   {
    "duration": 149,
    "start_time": "2022-10-20T17:22:04.227Z"
   },
   {
    "duration": 10,
    "start_time": "2022-10-20T17:22:04.378Z"
   },
   {
    "duration": 41,
    "start_time": "2022-10-20T17:22:04.390Z"
   },
   {
    "duration": 3,
    "start_time": "2022-10-20T17:22:04.434Z"
   },
   {
    "duration": 21,
    "start_time": "2022-10-20T17:22:04.439Z"
   },
   {
    "duration": 23,
    "start_time": "2022-10-20T17:22:04.462Z"
   },
   {
    "duration": 12,
    "start_time": "2022-10-20T17:22:04.487Z"
   },
   {
    "duration": 32,
    "start_time": "2022-10-20T17:22:04.501Z"
   },
   {
    "duration": 32,
    "start_time": "2022-10-20T17:22:04.537Z"
   },
   {
    "duration": 30,
    "start_time": "2022-10-20T17:22:04.571Z"
   },
   {
    "duration": 72,
    "start_time": "2022-10-20T17:22:04.603Z"
   },
   {
    "duration": 85,
    "start_time": "2022-10-20T17:22:04.676Z"
   },
   {
    "duration": 57,
    "start_time": "2022-10-20T17:22:04.763Z"
   },
   {
    "duration": 31,
    "start_time": "2022-10-20T17:22:04.821Z"
   },
   {
    "duration": 9,
    "start_time": "2022-10-20T17:22:04.854Z"
   },
   {
    "duration": 48,
    "start_time": "2022-10-20T17:22:04.864Z"
   },
   {
    "duration": 9,
    "start_time": "2022-10-20T17:22:04.913Z"
   },
   {
    "duration": 11,
    "start_time": "2022-10-20T17:22:04.924Z"
   },
   {
    "duration": 5,
    "start_time": "2022-10-20T17:22:04.936Z"
   },
   {
    "duration": 26,
    "start_time": "2022-10-20T17:22:04.943Z"
   },
   {
    "duration": 37,
    "start_time": "2022-10-20T17:22:04.971Z"
   },
   {
    "duration": 17,
    "start_time": "2022-10-20T17:22:05.010Z"
   },
   {
    "duration": 14,
    "start_time": "2022-10-20T17:22:05.028Z"
   },
   {
    "duration": 26,
    "start_time": "2022-10-20T17:22:05.044Z"
   },
   {
    "duration": 14,
    "start_time": "2022-10-20T17:22:05.101Z"
   },
   {
    "duration": 13,
    "start_time": "2022-10-20T17:22:59.109Z"
   },
   {
    "duration": 13,
    "start_time": "2022-10-20T17:27:37.422Z"
   },
   {
    "duration": 9,
    "start_time": "2022-10-20T17:27:57.958Z"
   },
   {
    "duration": 45,
    "start_time": "2022-10-20T17:34:20.190Z"
   },
   {
    "duration": 4,
    "start_time": "2022-10-20T17:34:26.233Z"
   },
   {
    "duration": 16,
    "start_time": "2022-10-20T17:36:05.918Z"
   },
   {
    "duration": 13,
    "start_time": "2022-10-20T17:36:09.261Z"
   },
   {
    "duration": 19,
    "start_time": "2022-10-20T17:36:11.895Z"
   },
   {
    "duration": 16,
    "start_time": "2022-10-20T17:36:14.293Z"
   },
   {
    "duration": 370,
    "start_time": "2022-10-20T17:37:25.537Z"
   },
   {
    "duration": 155,
    "start_time": "2022-10-20T17:37:25.909Z"
   },
   {
    "duration": 9,
    "start_time": "2022-10-20T17:37:26.065Z"
   },
   {
    "duration": 34,
    "start_time": "2022-10-20T17:37:26.076Z"
   },
   {
    "duration": 2,
    "start_time": "2022-10-20T17:37:26.112Z"
   },
   {
    "duration": 9,
    "start_time": "2022-10-20T17:37:26.116Z"
   },
   {
    "duration": 19,
    "start_time": "2022-10-20T17:37:26.126Z"
   },
   {
    "duration": 8,
    "start_time": "2022-10-20T17:37:26.146Z"
   },
   {
    "duration": 27,
    "start_time": "2022-10-20T17:37:26.155Z"
   },
   {
    "duration": 28,
    "start_time": "2022-10-20T17:37:26.184Z"
   },
   {
    "duration": 19,
    "start_time": "2022-10-20T17:37:26.214Z"
   },
   {
    "duration": 72,
    "start_time": "2022-10-20T17:37:26.234Z"
   },
   {
    "duration": 68,
    "start_time": "2022-10-20T17:37:26.307Z"
   },
   {
    "duration": 69,
    "start_time": "2022-10-20T17:37:26.378Z"
   },
   {
    "duration": 31,
    "start_time": "2022-10-20T17:37:26.448Z"
   },
   {
    "duration": 23,
    "start_time": "2022-10-20T17:37:26.480Z"
   },
   {
    "duration": 35,
    "start_time": "2022-10-20T17:37:26.504Z"
   },
   {
    "duration": 9,
    "start_time": "2022-10-20T17:37:26.540Z"
   },
   {
    "duration": 9,
    "start_time": "2022-10-20T17:37:26.550Z"
   },
   {
    "duration": 4,
    "start_time": "2022-10-20T17:37:26.560Z"
   },
   {
    "duration": 45,
    "start_time": "2022-10-20T17:37:26.565Z"
   },
   {
    "duration": 13,
    "start_time": "2022-10-20T17:37:26.612Z"
   },
   {
    "duration": 17,
    "start_time": "2022-10-20T17:37:26.627Z"
   },
   {
    "duration": 14,
    "start_time": "2022-10-20T17:37:26.646Z"
   },
   {
    "duration": 50,
    "start_time": "2022-10-20T17:37:26.661Z"
   },
   {
    "duration": 14,
    "start_time": "2022-10-20T17:37:26.712Z"
   },
   {
    "duration": 10,
    "start_time": "2022-10-20T17:37:26.728Z"
   },
   {
    "duration": 19,
    "start_time": "2022-10-20T17:37:26.739Z"
   },
   {
    "duration": 10,
    "start_time": "2022-10-20T17:37:26.759Z"
   },
   {
    "duration": 31,
    "start_time": "2022-10-20T17:37:26.770Z"
   },
   {
    "duration": 21,
    "start_time": "2022-10-20T17:37:26.802Z"
   },
   {
    "duration": 11,
    "start_time": "2022-10-20T17:37:26.825Z"
   },
   {
    "duration": 17,
    "start_time": "2022-10-20T17:37:26.837Z"
   },
   {
    "duration": 12,
    "start_time": "2022-10-20T17:37:29.648Z"
   },
   {
    "duration": 9,
    "start_time": "2022-10-20T17:40:18.618Z"
   },
   {
    "duration": 5,
    "start_time": "2022-10-20T17:40:35.017Z"
   },
   {
    "duration": 8,
    "start_time": "2022-10-20T17:40:57.664Z"
   },
   {
    "duration": 6,
    "start_time": "2022-10-20T17:41:14.082Z"
   },
   {
    "duration": 402,
    "start_time": "2022-10-20T17:53:27.993Z"
   },
   {
    "duration": 151,
    "start_time": "2022-10-20T17:53:28.396Z"
   },
   {
    "duration": 8,
    "start_time": "2022-10-20T17:53:28.549Z"
   },
   {
    "duration": 30,
    "start_time": "2022-10-20T17:53:28.559Z"
   },
   {
    "duration": 10,
    "start_time": "2022-10-20T17:53:28.591Z"
   },
   {
    "duration": 6,
    "start_time": "2022-10-20T17:53:28.603Z"
   },
   {
    "duration": 17,
    "start_time": "2022-10-20T17:53:28.610Z"
   },
   {
    "duration": 12,
    "start_time": "2022-10-20T17:53:28.629Z"
   },
   {
    "duration": 31,
    "start_time": "2022-10-20T17:53:28.642Z"
   },
   {
    "duration": 16,
    "start_time": "2022-10-20T17:53:28.676Z"
   },
   {
    "duration": 23,
    "start_time": "2022-10-20T17:53:28.694Z"
   },
   {
    "duration": 64,
    "start_time": "2022-10-20T17:53:28.719Z"
   },
   {
    "duration": 74,
    "start_time": "2022-10-20T17:53:28.800Z"
   },
   {
    "duration": 68,
    "start_time": "2022-10-20T17:53:28.876Z"
   },
   {
    "duration": 54,
    "start_time": "2022-10-20T17:53:28.946Z"
   },
   {
    "duration": 10,
    "start_time": "2022-10-20T17:53:29.002Z"
   },
   {
    "duration": 35,
    "start_time": "2022-10-20T17:53:29.013Z"
   },
   {
    "duration": 9,
    "start_time": "2022-10-20T17:53:29.049Z"
   },
   {
    "duration": 9,
    "start_time": "2022-10-20T17:53:29.059Z"
   },
   {
    "duration": 32,
    "start_time": "2022-10-20T17:53:29.069Z"
   },
   {
    "duration": 35,
    "start_time": "2022-10-20T17:53:29.103Z"
   },
   {
    "duration": 15,
    "start_time": "2022-10-20T17:53:29.140Z"
   },
   {
    "duration": 19,
    "start_time": "2022-10-20T17:53:29.156Z"
   },
   {
    "duration": 13,
    "start_time": "2022-10-20T17:53:29.200Z"
   },
   {
    "duration": 17,
    "start_time": "2022-10-20T17:53:29.215Z"
   },
   {
    "duration": 13,
    "start_time": "2022-10-20T17:53:29.234Z"
   },
   {
    "duration": 10,
    "start_time": "2022-10-20T17:53:29.249Z"
   },
   {
    "duration": 41,
    "start_time": "2022-10-20T17:53:29.262Z"
   },
   {
    "duration": 11,
    "start_time": "2022-10-20T17:53:29.304Z"
   },
   {
    "duration": 5,
    "start_time": "2022-10-20T17:53:29.317Z"
   },
   {
    "duration": 25,
    "start_time": "2022-10-20T17:53:29.324Z"
   },
   {
    "duration": 14,
    "start_time": "2022-10-20T17:53:29.350Z"
   },
   {
    "duration": 47,
    "start_time": "2022-10-20T17:53:29.367Z"
   },
   {
    "duration": 14,
    "start_time": "2022-10-20T17:53:29.415Z"
   },
   {
    "duration": 9,
    "start_time": "2022-10-20T17:53:29.431Z"
   },
   {
    "duration": 11,
    "start_time": "2022-10-20T17:53:29.442Z"
   },
   {
    "duration": 10,
    "start_time": "2022-10-20T17:53:29.455Z"
   },
   {
    "duration": 8,
    "start_time": "2022-10-20T17:53:29.466Z"
   },
   {
    "duration": 25,
    "start_time": "2022-10-20T17:54:36.763Z"
   },
   {
    "duration": 27,
    "start_time": "2022-10-20T17:55:08.712Z"
   },
   {
    "duration": 371,
    "start_time": "2022-10-20T17:55:35.755Z"
   },
   {
    "duration": 151,
    "start_time": "2022-10-20T17:55:36.128Z"
   },
   {
    "duration": 8,
    "start_time": "2022-10-20T17:55:36.280Z"
   },
   {
    "duration": 48,
    "start_time": "2022-10-20T17:55:36.291Z"
   },
   {
    "duration": 3,
    "start_time": "2022-10-20T17:55:36.341Z"
   },
   {
    "duration": 6,
    "start_time": "2022-10-20T17:55:36.345Z"
   },
   {
    "duration": 17,
    "start_time": "2022-10-20T17:55:36.353Z"
   },
   {
    "duration": 7,
    "start_time": "2022-10-20T17:55:36.372Z"
   },
   {
    "duration": 52,
    "start_time": "2022-10-20T17:55:36.381Z"
   },
   {
    "duration": 16,
    "start_time": "2022-10-20T17:55:36.437Z"
   },
   {
    "duration": 20,
    "start_time": "2022-10-20T17:55:36.455Z"
   },
   {
    "duration": 88,
    "start_time": "2022-10-20T17:55:36.476Z"
   },
   {
    "duration": 107,
    "start_time": "2022-10-20T17:55:36.566Z"
   },
   {
    "duration": 61,
    "start_time": "2022-10-20T17:55:36.675Z"
   },
   {
    "duration": 37,
    "start_time": "2022-10-20T17:55:36.738Z"
   },
   {
    "duration": 29,
    "start_time": "2022-10-20T17:55:36.777Z"
   },
   {
    "duration": 40,
    "start_time": "2022-10-20T17:55:36.807Z"
   },
   {
    "duration": 9,
    "start_time": "2022-10-20T17:55:36.849Z"
   },
   {
    "duration": 16,
    "start_time": "2022-10-20T17:55:36.860Z"
   },
   {
    "duration": 4,
    "start_time": "2022-10-20T17:55:36.879Z"
   },
   {
    "duration": 39,
    "start_time": "2022-10-20T17:55:36.884Z"
   },
   {
    "duration": 13,
    "start_time": "2022-10-20T17:55:36.925Z"
   },
   {
    "duration": 16,
    "start_time": "2022-10-20T17:55:36.939Z"
   },
   {
    "duration": 17,
    "start_time": "2022-10-20T17:55:36.957Z"
   },
   {
    "duration": 25,
    "start_time": "2022-10-20T17:55:37.001Z"
   },
   {
    "duration": 23,
    "start_time": "2022-10-20T17:55:37.030Z"
   },
   {
    "duration": 12,
    "start_time": "2022-10-20T17:55:37.056Z"
   },
   {
    "duration": 32,
    "start_time": "2022-10-20T17:55:37.072Z"
   },
   {
    "duration": 13,
    "start_time": "2022-10-20T17:55:37.106Z"
   },
   {
    "duration": 6,
    "start_time": "2022-10-20T17:55:37.121Z"
   },
   {
    "duration": 33,
    "start_time": "2022-10-20T17:55:37.129Z"
   },
   {
    "duration": 13,
    "start_time": "2022-10-20T17:55:37.165Z"
   },
   {
    "duration": 20,
    "start_time": "2022-10-20T17:55:37.200Z"
   },
   {
    "duration": 25,
    "start_time": "2022-10-20T17:55:37.221Z"
   },
   {
    "duration": 8,
    "start_time": "2022-10-20T17:55:37.247Z"
   },
   {
    "duration": 7,
    "start_time": "2022-10-20T17:55:37.256Z"
   },
   {
    "duration": 10,
    "start_time": "2022-10-20T17:55:37.265Z"
   },
   {
    "duration": 27,
    "start_time": "2022-10-20T17:55:37.277Z"
   },
   {
    "duration": 424,
    "start_time": "2022-10-20T17:56:22.806Z"
   },
   {
    "duration": 167,
    "start_time": "2022-10-20T17:56:23.232Z"
   },
   {
    "duration": 10,
    "start_time": "2022-10-20T17:56:23.400Z"
   },
   {
    "duration": 43,
    "start_time": "2022-10-20T17:56:23.412Z"
   },
   {
    "duration": 3,
    "start_time": "2022-10-20T17:56:23.457Z"
   },
   {
    "duration": 30,
    "start_time": "2022-10-20T17:56:23.461Z"
   },
   {
    "duration": 35,
    "start_time": "2022-10-20T17:56:23.493Z"
   },
   {
    "duration": 12,
    "start_time": "2022-10-20T17:56:23.530Z"
   },
   {
    "duration": 28,
    "start_time": "2022-10-20T17:56:23.544Z"
   },
   {
    "duration": 27,
    "start_time": "2022-10-20T17:56:23.575Z"
   },
   {
    "duration": 23,
    "start_time": "2022-10-20T17:56:23.604Z"
   },
   {
    "duration": 68,
    "start_time": "2022-10-20T17:56:23.629Z"
   },
   {
    "duration": 65,
    "start_time": "2022-10-20T17:56:23.700Z"
   },
   {
    "duration": 64,
    "start_time": "2022-10-20T17:56:23.767Z"
   },
   {
    "duration": 32,
    "start_time": "2022-10-20T17:56:23.832Z"
   },
   {
    "duration": 9,
    "start_time": "2022-10-20T17:56:23.866Z"
   },
   {
    "duration": 51,
    "start_time": "2022-10-20T17:56:23.877Z"
   },
   {
    "duration": 10,
    "start_time": "2022-10-20T17:56:23.929Z"
   },
   {
    "duration": 9,
    "start_time": "2022-10-20T17:56:23.941Z"
   },
   {
    "duration": 4,
    "start_time": "2022-10-20T17:56:23.951Z"
   },
   {
    "duration": 52,
    "start_time": "2022-10-20T17:56:23.956Z"
   },
   {
    "duration": 13,
    "start_time": "2022-10-20T17:56:24.009Z"
   },
   {
    "duration": 18,
    "start_time": "2022-10-20T17:56:24.024Z"
   },
   {
    "duration": 13,
    "start_time": "2022-10-20T17:56:24.044Z"
   },
   {
    "duration": 47,
    "start_time": "2022-10-20T17:56:24.059Z"
   },
   {
    "duration": 16,
    "start_time": "2022-10-20T17:56:24.108Z"
   },
   {
    "duration": 27,
    "start_time": "2022-10-20T17:56:24.126Z"
   },
   {
    "duration": 33,
    "start_time": "2022-10-20T17:56:24.158Z"
   },
   {
    "duration": 30,
    "start_time": "2022-10-20T17:56:24.193Z"
   },
   {
    "duration": 23,
    "start_time": "2022-10-20T17:56:24.225Z"
   },
   {
    "duration": 30,
    "start_time": "2022-10-20T17:56:24.250Z"
   },
   {
    "duration": 15,
    "start_time": "2022-10-20T17:56:24.283Z"
   },
   {
    "duration": 21,
    "start_time": "2022-10-20T17:56:24.300Z"
   },
   {
    "duration": 14,
    "start_time": "2022-10-20T17:56:24.323Z"
   },
   {
    "duration": 19,
    "start_time": "2022-10-20T17:56:24.339Z"
   },
   {
    "duration": 6,
    "start_time": "2022-10-20T17:56:24.361Z"
   },
   {
    "duration": 58,
    "start_time": "2022-10-20T17:56:24.370Z"
   },
   {
    "duration": 20,
    "start_time": "2022-10-20T17:56:24.430Z"
   },
   {
    "duration": 373,
    "start_time": "2022-10-20T17:56:36.465Z"
   },
   {
    "duration": 135,
    "start_time": "2022-10-20T17:56:36.840Z"
   },
   {
    "duration": 8,
    "start_time": "2022-10-20T17:56:36.977Z"
   },
   {
    "duration": 37,
    "start_time": "2022-10-20T17:56:36.987Z"
   },
   {
    "duration": 14,
    "start_time": "2022-10-20T17:56:37.026Z"
   },
   {
    "duration": 7,
    "start_time": "2022-10-20T17:56:37.041Z"
   },
   {
    "duration": 14,
    "start_time": "2022-10-20T17:56:37.050Z"
   },
   {
    "duration": 8,
    "start_time": "2022-10-20T17:56:37.066Z"
   },
   {
    "duration": 31,
    "start_time": "2022-10-20T17:56:37.075Z"
   },
   {
    "duration": 20,
    "start_time": "2022-10-20T17:56:37.108Z"
   },
   {
    "duration": 21,
    "start_time": "2022-10-20T17:56:37.129Z"
   },
   {
    "duration": 82,
    "start_time": "2022-10-20T17:56:37.152Z"
   },
   {
    "duration": 82,
    "start_time": "2022-10-20T17:56:37.236Z"
   },
   {
    "duration": 52,
    "start_time": "2022-10-20T17:56:37.321Z"
   },
   {
    "duration": 47,
    "start_time": "2022-10-20T17:56:37.374Z"
   },
   {
    "duration": 14,
    "start_time": "2022-10-20T17:56:37.435Z"
   },
   {
    "duration": 44,
    "start_time": "2022-10-20T17:56:37.451Z"
   },
   {
    "duration": 10,
    "start_time": "2022-10-20T17:56:37.496Z"
   },
   {
    "duration": 9,
    "start_time": "2022-10-20T17:56:37.508Z"
   },
   {
    "duration": 5,
    "start_time": "2022-10-20T17:56:37.519Z"
   },
   {
    "duration": 27,
    "start_time": "2022-10-20T17:56:37.526Z"
   },
   {
    "duration": 15,
    "start_time": "2022-10-20T17:56:37.554Z"
   },
   {
    "duration": 43,
    "start_time": "2022-10-20T17:56:37.571Z"
   },
   {
    "duration": 13,
    "start_time": "2022-10-20T17:56:37.616Z"
   },
   {
    "duration": 19,
    "start_time": "2022-10-20T17:56:37.631Z"
   },
   {
    "duration": 19,
    "start_time": "2022-10-20T17:56:37.652Z"
   },
   {
    "duration": 36,
    "start_time": "2022-10-20T17:56:37.673Z"
   },
   {
    "duration": 11,
    "start_time": "2022-10-20T17:56:37.711Z"
   },
   {
    "duration": 9,
    "start_time": "2022-10-20T17:56:37.723Z"
   },
   {
    "duration": 10,
    "start_time": "2022-10-20T17:56:37.734Z"
   },
   {
    "duration": 18,
    "start_time": "2022-10-20T17:56:37.746Z"
   },
   {
    "duration": 38,
    "start_time": "2022-10-20T17:56:37.766Z"
   },
   {
    "duration": 24,
    "start_time": "2022-10-20T17:56:37.806Z"
   },
   {
    "duration": 14,
    "start_time": "2022-10-20T17:56:37.831Z"
   },
   {
    "duration": 9,
    "start_time": "2022-10-20T17:56:37.846Z"
   },
   {
    "duration": 6,
    "start_time": "2022-10-20T17:56:37.856Z"
   },
   {
    "duration": 43,
    "start_time": "2022-10-20T17:56:37.864Z"
   },
   {
    "duration": 5,
    "start_time": "2022-10-20T17:56:37.908Z"
   },
   {
    "duration": 390,
    "start_time": "2022-10-20T17:57:35.068Z"
   },
   {
    "duration": 147,
    "start_time": "2022-10-20T17:57:35.460Z"
   },
   {
    "duration": 8,
    "start_time": "2022-10-20T17:57:35.608Z"
   },
   {
    "duration": 33,
    "start_time": "2022-10-20T17:57:35.618Z"
   },
   {
    "duration": 2,
    "start_time": "2022-10-20T17:57:35.653Z"
   },
   {
    "duration": 7,
    "start_time": "2022-10-20T17:57:35.656Z"
   },
   {
    "duration": 17,
    "start_time": "2022-10-20T17:57:35.664Z"
   },
   {
    "duration": 17,
    "start_time": "2022-10-20T17:57:35.683Z"
   },
   {
    "duration": 22,
    "start_time": "2022-10-20T17:57:35.702Z"
   },
   {
    "duration": 17,
    "start_time": "2022-10-20T17:57:35.726Z"
   },
   {
    "duration": 23,
    "start_time": "2022-10-20T17:57:35.745Z"
   },
   {
    "duration": 83,
    "start_time": "2022-10-20T17:57:35.769Z"
   },
   {
    "duration": 77,
    "start_time": "2022-10-20T17:57:35.853Z"
   },
   {
    "duration": 52,
    "start_time": "2022-10-20T17:57:35.932Z"
   },
   {
    "duration": 42,
    "start_time": "2022-10-20T17:57:35.985Z"
   },
   {
    "duration": 11,
    "start_time": "2022-10-20T17:57:36.029Z"
   },
   {
    "duration": 35,
    "start_time": "2022-10-20T17:57:36.042Z"
   },
   {
    "duration": 29,
    "start_time": "2022-10-20T17:57:36.079Z"
   },
   {
    "duration": 9,
    "start_time": "2022-10-20T17:57:36.110Z"
   },
   {
    "duration": 4,
    "start_time": "2022-10-20T17:57:36.121Z"
   },
   {
    "duration": 30,
    "start_time": "2022-10-20T17:57:36.126Z"
   },
   {
    "duration": 14,
    "start_time": "2022-10-20T17:57:36.158Z"
   },
   {
    "duration": 42,
    "start_time": "2022-10-20T17:57:36.174Z"
   },
   {
    "duration": 14,
    "start_time": "2022-10-20T17:57:36.218Z"
   },
   {
    "duration": 20,
    "start_time": "2022-10-20T17:57:36.234Z"
   },
   {
    "duration": 14,
    "start_time": "2022-10-20T17:57:36.256Z"
   },
   {
    "duration": 10,
    "start_time": "2022-10-20T17:57:36.301Z"
   },
   {
    "duration": 12,
    "start_time": "2022-10-20T17:57:36.314Z"
   },
   {
    "duration": 10,
    "start_time": "2022-10-20T17:57:36.328Z"
   },
   {
    "duration": 7,
    "start_time": "2022-10-20T17:57:36.340Z"
   },
   {
    "duration": 103,
    "start_time": "2022-10-20T17:57:36.349Z"
   },
   {
    "duration": 0,
    "start_time": "2022-10-20T17:57:36.454Z"
   },
   {
    "duration": 0,
    "start_time": "2022-10-20T17:57:36.455Z"
   },
   {
    "duration": 0,
    "start_time": "2022-10-20T17:57:36.456Z"
   },
   {
    "duration": 0,
    "start_time": "2022-10-20T17:57:36.457Z"
   },
   {
    "duration": 0,
    "start_time": "2022-10-20T17:57:36.459Z"
   },
   {
    "duration": 0,
    "start_time": "2022-10-20T17:57:36.460Z"
   },
   {
    "duration": 0,
    "start_time": "2022-10-20T17:57:36.461Z"
   },
   {
    "duration": 364,
    "start_time": "2022-10-20T17:58:48.913Z"
   },
   {
    "duration": 143,
    "start_time": "2022-10-20T17:58:49.279Z"
   },
   {
    "duration": 11,
    "start_time": "2022-10-20T17:58:49.424Z"
   },
   {
    "duration": 34,
    "start_time": "2022-10-20T17:58:49.437Z"
   },
   {
    "duration": 2,
    "start_time": "2022-10-20T17:58:49.474Z"
   },
   {
    "duration": 11,
    "start_time": "2022-10-20T17:58:49.478Z"
   },
   {
    "duration": 13,
    "start_time": "2022-10-20T17:58:49.501Z"
   },
   {
    "duration": 6,
    "start_time": "2022-10-20T17:58:49.515Z"
   },
   {
    "duration": 24,
    "start_time": "2022-10-20T17:58:49.522Z"
   },
   {
    "duration": 18,
    "start_time": "2022-10-20T17:58:49.547Z"
   },
   {
    "duration": 41,
    "start_time": "2022-10-20T17:58:49.567Z"
   },
   {
    "duration": 67,
    "start_time": "2022-10-20T17:58:49.610Z"
   },
   {
    "duration": 82,
    "start_time": "2022-10-20T17:58:49.679Z"
   },
   {
    "duration": 60,
    "start_time": "2022-10-20T17:58:49.764Z"
   },
   {
    "duration": 34,
    "start_time": "2022-10-20T17:58:49.825Z"
   },
   {
    "duration": 9,
    "start_time": "2022-10-20T17:58:49.861Z"
   },
   {
    "duration": 48,
    "start_time": "2022-10-20T17:58:49.871Z"
   },
   {
    "duration": 9,
    "start_time": "2022-10-20T17:58:49.921Z"
   },
   {
    "duration": 12,
    "start_time": "2022-10-20T17:58:49.931Z"
   },
   {
    "duration": 3,
    "start_time": "2022-10-20T17:58:49.945Z"
   },
   {
    "duration": 28,
    "start_time": "2022-10-20T17:58:49.950Z"
   },
   {
    "duration": 30,
    "start_time": "2022-10-20T17:58:49.979Z"
   },
   {
    "duration": 24,
    "start_time": "2022-10-20T17:58:50.011Z"
   },
   {
    "duration": 14,
    "start_time": "2022-10-20T17:58:50.037Z"
   },
   {
    "duration": 25,
    "start_time": "2022-10-20T17:58:50.052Z"
   },
   {
    "duration": 30,
    "start_time": "2022-10-20T17:58:50.079Z"
   },
   {
    "duration": 10,
    "start_time": "2022-10-20T17:58:50.111Z"
   },
   {
    "duration": 19,
    "start_time": "2022-10-20T17:58:50.122Z"
   },
   {
    "duration": 8,
    "start_time": "2022-10-20T17:58:50.143Z"
   },
   {
    "duration": 4,
    "start_time": "2022-10-20T17:58:50.153Z"
   },
   {
    "duration": 42,
    "start_time": "2022-10-20T17:58:50.159Z"
   },
   {
    "duration": 12,
    "start_time": "2022-10-20T17:58:50.202Z"
   },
   {
    "duration": 19,
    "start_time": "2022-10-20T17:58:50.215Z"
   },
   {
    "duration": 11,
    "start_time": "2022-10-20T17:58:50.235Z"
   },
   {
    "duration": 12,
    "start_time": "2022-10-20T17:58:50.247Z"
   },
   {
    "duration": 4,
    "start_time": "2022-10-20T17:58:50.261Z"
   },
   {
    "duration": 38,
    "start_time": "2022-10-20T17:58:50.268Z"
   },
   {
    "duration": 6,
    "start_time": "2022-10-20T17:58:50.308Z"
   },
   {
    "duration": 415,
    "start_time": "2022-10-20T18:19:07.281Z"
   },
   {
    "duration": 151,
    "start_time": "2022-10-20T18:19:07.698Z"
   },
   {
    "duration": 9,
    "start_time": "2022-10-20T18:19:07.850Z"
   },
   {
    "duration": 29,
    "start_time": "2022-10-20T18:19:07.861Z"
   },
   {
    "duration": 3,
    "start_time": "2022-10-20T18:19:07.900Z"
   },
   {
    "duration": 7,
    "start_time": "2022-10-20T18:19:07.905Z"
   },
   {
    "duration": 21,
    "start_time": "2022-10-20T18:19:07.913Z"
   },
   {
    "duration": 9,
    "start_time": "2022-10-20T18:19:07.936Z"
   },
   {
    "duration": 26,
    "start_time": "2022-10-20T18:19:07.946Z"
   },
   {
    "duration": 36,
    "start_time": "2022-10-20T18:19:07.976Z"
   },
   {
    "duration": 30,
    "start_time": "2022-10-20T18:19:08.014Z"
   },
   {
    "duration": 73,
    "start_time": "2022-10-20T18:19:08.046Z"
   },
   {
    "duration": 80,
    "start_time": "2022-10-20T18:19:08.120Z"
   },
   {
    "duration": 50,
    "start_time": "2022-10-20T18:19:08.202Z"
   },
   {
    "duration": 46,
    "start_time": "2022-10-20T18:19:08.254Z"
   },
   {
    "duration": 9,
    "start_time": "2022-10-20T18:19:08.302Z"
   },
   {
    "duration": 34,
    "start_time": "2022-10-20T18:19:08.313Z"
   },
   {
    "duration": 9,
    "start_time": "2022-10-20T18:19:08.349Z"
   },
   {
    "duration": 8,
    "start_time": "2022-10-20T18:19:08.359Z"
   },
   {
    "duration": 31,
    "start_time": "2022-10-20T18:19:08.369Z"
   },
   {
    "duration": 29,
    "start_time": "2022-10-20T18:19:08.402Z"
   },
   {
    "duration": 13,
    "start_time": "2022-10-20T18:19:08.433Z"
   },
   {
    "duration": 16,
    "start_time": "2022-10-20T18:19:08.448Z"
   },
   {
    "duration": 35,
    "start_time": "2022-10-20T18:19:08.466Z"
   },
   {
    "duration": 19,
    "start_time": "2022-10-20T18:19:08.503Z"
   },
   {
    "duration": 13,
    "start_time": "2022-10-20T18:19:08.524Z"
   },
   {
    "duration": 9,
    "start_time": "2022-10-20T18:19:08.538Z"
   },
   {
    "duration": 10,
    "start_time": "2022-10-20T18:19:08.550Z"
   },
   {
    "duration": 8,
    "start_time": "2022-10-20T18:19:08.562Z"
   },
   {
    "duration": 5,
    "start_time": "2022-10-20T18:19:08.600Z"
   },
   {
    "duration": 21,
    "start_time": "2022-10-20T18:19:08.606Z"
   },
   {
    "duration": 10,
    "start_time": "2022-10-20T18:19:08.628Z"
   },
   {
    "duration": 18,
    "start_time": "2022-10-20T18:19:08.639Z"
   },
   {
    "duration": 13,
    "start_time": "2022-10-20T18:19:08.658Z"
   },
   {
    "duration": 33,
    "start_time": "2022-10-20T18:19:08.672Z"
   },
   {
    "duration": 5,
    "start_time": "2022-10-20T18:19:08.707Z"
   },
   {
    "duration": 7,
    "start_time": "2022-10-20T18:19:08.714Z"
   },
   {
    "duration": 6,
    "start_time": "2022-10-20T18:19:08.722Z"
   }
  ],
  "colab": {
   "collapsed_sections": [
    "E0vqbgi9ay0H",
    "VUC88oWjTJw2"
   ],
   "name": "automatization_template_upd4.ipynb",
   "provenance": []
  },
  "kernelspec": {
   "display_name": "Python 3 (ipykernel)",
   "language": "python",
   "name": "python3"
  },
  "language_info": {
   "codemirror_mode": {
    "name": "ipython",
    "version": 3
   },
   "file_extension": ".py",
   "mimetype": "text/x-python",
   "name": "python",
   "nbconvert_exporter": "python",
   "pygments_lexer": "ipython3",
   "version": "3.9.12"
  },
  "toc": {
   "base_numbering": 1,
   "nav_menu": {
    "height": "215px",
    "width": "403px"
   },
   "number_sections": true,
   "sideBar": true,
   "skip_h1_title": true,
   "title_cell": "Table of Contents",
   "title_sidebar": "Contents",
   "toc_cell": false,
   "toc_position": {
    "height": "calc(100% - 180px)",
    "left": "10px",
    "top": "150px",
    "width": "285.825px"
   },
   "toc_section_display": true,
   "toc_window_display": false
  }
 },
 "nbformat": 4,
 "nbformat_minor": 1
}
