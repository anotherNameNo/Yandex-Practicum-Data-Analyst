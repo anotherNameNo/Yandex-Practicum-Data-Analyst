{
 "cells": [
  {
   "cell_type": "markdown",
   "metadata": {},
   "source": [
    "# Анализ тарифов мобильного оператора\n",
    "## Описание проекта\n",
    "Клиентам предлагают два тарифных плана: «Смарт» и «Ультра». Чтобы скорректировать рекламный бюджет, коммерческий департамент хочет понять, какой тариф приносит больше денег.  \n",
    "Вам предстоит сделать предварительный анализ тарифов на небольшой выборке клиентов. В вашем распоряжении данные 500 пользователей «Мегалайна»: кто они, откуда, каким тарифом пользуются, сколько звонков и сообщений каждый отправил за 2018-й год. Нужно проанализировать поведение клиентов и сделать вывод — какой тариф лучше."
   ]
  },
  {
   "cell_type": "code",
   "execution_count": null,
   "metadata": {
    "deletable": false
   },
   "outputs": [],
   "source": [
    "import pandas as pd\n",
    "import numpy as np \n",
    "from math import factorial\n",
    "from matplotlib import pyplot as plt\n",
    "from scipy import stats as st"
   ]
  },
  {
   "cell_type": "markdown",
   "metadata": {
    "deletable": false,
    "editable": false
   },
   "source": [
    "### Откройте файл с данными и изучите общую информацию"
   ]
  },
  {
   "cell_type": "markdown",
   "metadata": {
    "deletable": false,
    "editable": false,
    "tags": [
     "start_task"
    ]
   },
   "source": [
    "**Задание 1.** Откройте файл `/datasets/calls.csv`, сохраните датафрейм в переменную `calls`."
   ]
  },
  {
   "cell_type": "code",
   "execution_count": null,
   "metadata": {
    "deletable": false
   },
   "outputs": [],
   "source": [
    "try:\n",
    "    calls = pd.read_csv(r'/datasets/calls.csv')\n",
    "except:\n",
    "    calls = pd.read_csv('https://code.s3.yandex.net/datasets/calls.csv')"
   ]
  },
  {
   "cell_type": "markdown",
   "metadata": {
    "deletable": false,
    "editable": false,
    "tags": [
     "start_task"
    ]
   },
   "source": [
    "**Задание 2.** Выведите первые 5 строк датафрейма `calls`."
   ]
  },
  {
   "cell_type": "code",
   "execution_count": null,
   "metadata": {
    "deletable": false
   },
   "outputs": [],
   "source": [
    "calls.head()"
   ]
  },
  {
   "cell_type": "markdown",
   "metadata": {
    "deletable": false,
    "editable": false,
    "tags": [
     "start_task"
    ]
   },
   "source": [
    "**Задание 3.** Выведите основную информацию для датафрейма `calls` с помощью метода `info()`."
   ]
  },
  {
   "cell_type": "code",
   "execution_count": null,
   "metadata": {
    "deletable": false
   },
   "outputs": [],
   "source": [
    "calls.info()"
   ]
  },
  {
   "cell_type": "markdown",
   "metadata": {
    "deletable": false,
    "editable": false,
    "tags": [
     "start_task"
    ]
   },
   "source": [
    "**Задание 4.** С помощью метода `hist()` выведите гистограмму для столбца с продолжительностью звонков. Подумайте о том, как распределены данные."
   ]
  },
  {
   "cell_type": "code",
   "execution_count": null,
   "metadata": {
    "deletable": false
   },
   "outputs": [],
   "source": [
    "calls.duration.hist();"
   ]
  },
  {
   "cell_type": "markdown",
   "metadata": {
    "deletable": false,
    "editable": false,
    "tags": [
     "start_task"
    ]
   },
   "source": [
    "**Задание 5.** Откройте файл `/datasets/internet.csv`, сохраните датафрейм в переменную `sessions`."
   ]
  },
  {
   "cell_type": "code",
   "execution_count": null,
   "metadata": {
    "deletable": false
   },
   "outputs": [],
   "source": [
    "try:\n",
    "    sessions = pd.read_csv(r'/datasets/internet.csv')\n",
    "except:\n",
    "    sessions = pd.read_csv('https://code.s3.yandex.net/datasets/internet.csv')"
   ]
  },
  {
   "cell_type": "markdown",
   "metadata": {
    "deletable": false,
    "editable": false,
    "tags": [
     "start_task"
    ]
   },
   "source": [
    "**Задание 6.** Выведите первые 5 строк датафрейма `sessions`."
   ]
  },
  {
   "cell_type": "code",
   "execution_count": null,
   "metadata": {
    "deletable": false
   },
   "outputs": [],
   "source": [
    "sessions.head()"
   ]
  },
  {
   "cell_type": "markdown",
   "metadata": {
    "deletable": false,
    "editable": false,
    "tags": [
     "start_task"
    ]
   },
   "source": [
    "**Задание 7.** Выведите основную информацию для датафрейма sessions с помощью метода `info()`. "
   ]
  },
  {
   "cell_type": "code",
   "execution_count": null,
   "metadata": {
    "deletable": false
   },
   "outputs": [],
   "source": [
    "sessions.info()"
   ]
  },
  {
   "cell_type": "markdown",
   "metadata": {
    "deletable": false,
    "editable": false,
    "tags": [
     "start_task"
    ]
   },
   "source": [
    "**Задание 8.** С помощью метода `hist()` выведите гистограмму для столбца с количеством потраченных мегабайт."
   ]
  },
  {
   "cell_type": "code",
   "execution_count": null,
   "metadata": {
    "deletable": false
   },
   "outputs": [],
   "source": [
    "sessions.mb_used.hist();"
   ]
  },
  {
   "cell_type": "markdown",
   "metadata": {
    "deletable": false,
    "editable": false,
    "tags": [
     "start_task"
    ]
   },
   "source": [
    "**Задание 9.** Откройте файл `/datasets/messages.csv`, сохраните датафрейм в переменную `messages`."
   ]
  },
  {
   "cell_type": "code",
   "execution_count": null,
   "metadata": {
    "deletable": false
   },
   "outputs": [],
   "source": [
    "try:\n",
    "    messages = pd.read_csv(r'/datasets/messages.csv')\n",
    "except:\n",
    "    messages = pd.read_csv('https://code.s3.yandex.net/datasets/messages.csv')"
   ]
  },
  {
   "cell_type": "markdown",
   "metadata": {
    "deletable": false,
    "editable": false,
    "tags": [
     "start_task"
    ]
   },
   "source": [
    "**Задание 10.** Выведите первые 5 строк датафрейма `messages`."
   ]
  },
  {
   "cell_type": "code",
   "execution_count": null,
   "metadata": {
    "deletable": false
   },
   "outputs": [],
   "source": [
    "messages.head()"
   ]
  },
  {
   "cell_type": "markdown",
   "metadata": {
    "deletable": false,
    "editable": false,
    "tags": [
     "start_task"
    ]
   },
   "source": [
    "**Задание 11.** Выведите основную информацию для датафрейма `messages` с помощью метода `info()`. "
   ]
  },
  {
   "cell_type": "code",
   "execution_count": null,
   "metadata": {
    "deletable": false
   },
   "outputs": [],
   "source": [
    "messages.info()"
   ]
  },
  {
   "cell_type": "markdown",
   "metadata": {
    "deletable": false,
    "editable": false,
    "tags": [
     "start_task"
    ]
   },
   "source": [
    "**Задание 12.** Откройте файл `/datasets/tariffs.csv`, сохраните датафрейм в переменную `tariffs`."
   ]
  },
  {
   "cell_type": "code",
   "execution_count": null,
   "metadata": {
    "deletable": false
   },
   "outputs": [],
   "source": [
    "try:\n",
    "    tariffs = pd.read_csv(r'/datasets/tariffs.csv')\n",
    "except:\n",
    "    tariffs = pd.read_csv('https://code.s3.yandex.net/datasets/tariffs.csv')"
   ]
  },
  {
   "cell_type": "markdown",
   "metadata": {
    "deletable": false,
    "editable": false,
    "tags": [
     "start_task"
    ]
   },
   "source": [
    "**Задание 13.** Выведите весь датафрейм `tariffs`."
   ]
  },
  {
   "cell_type": "code",
   "execution_count": null,
   "metadata": {
    "deletable": false
   },
   "outputs": [],
   "source": [
    "#with pd.option_context('display.max_rows', None):\n",
    " #   print(tariffs)\n",
    "tariffs    "
   ]
  },
  {
   "cell_type": "markdown",
   "metadata": {
    "deletable": false,
    "editable": false,
    "tags": [
     "start_task"
    ]
   },
   "source": [
    "**Задание 14.** Выведите основную информацию для датафрейма `tariffs` с помощью метода `info()`."
   ]
  },
  {
   "cell_type": "code",
   "execution_count": null,
   "metadata": {
    "deletable": false
   },
   "outputs": [],
   "source": [
    "tariffs.info()"
   ]
  },
  {
   "cell_type": "markdown",
   "metadata": {
    "deletable": false,
    "editable": false,
    "tags": [
     "start_task"
    ]
   },
   "source": [
    "**Задание 15.** Откройте файл `/datasets/users.csv`, сохраните датафрейм в переменную `users`."
   ]
  },
  {
   "cell_type": "code",
   "execution_count": null,
   "metadata": {
    "deletable": false
   },
   "outputs": [],
   "source": [
    "try:\n",
    "    users = pd.read_csv(r'/datasets/users.csv')\n",
    "except:\n",
    "    users = pd.read_csv('https://code.s3.yandex.net/datasets/users.csv')"
   ]
  },
  {
   "cell_type": "markdown",
   "metadata": {
    "deletable": false,
    "editable": false,
    "tags": [
     "start_task"
    ]
   },
   "source": [
    "**Задание 16.** Выведите первые 5 строк датафрейма `users`."
   ]
  },
  {
   "cell_type": "code",
   "execution_count": null,
   "metadata": {
    "deletable": false
   },
   "outputs": [],
   "source": [
    "users.head()"
   ]
  },
  {
   "cell_type": "markdown",
   "metadata": {
    "deletable": false,
    "editable": false,
    "tags": [
     "start_task"
    ]
   },
   "source": [
    "**Задание 17.** Выведите основную информацию для датафрейма `users` с помощью метода `info()`."
   ]
  },
  {
   "cell_type": "code",
   "execution_count": null,
   "metadata": {
    "deletable": false
   },
   "outputs": [],
   "source": [
    "users.info()"
   ]
  },
  {
   "cell_type": "markdown",
   "metadata": {
    "deletable": false,
    "editable": false
   },
   "source": [
    "### Подготовьте данные"
   ]
  },
  {
   "cell_type": "markdown",
   "metadata": {
    "deletable": false,
    "editable": false,
    "tags": [
     "start_task"
    ]
   },
   "source": [
    "**Задание 18.**  Приведите столбцы\n",
    "\n",
    "- `reg_date` из таблицы `users`\n",
    "- `churn_date` из таблицы `users`\n",
    "- `call_date` из таблицы `calls`\n",
    "- `message_date` из таблицы `messages`\n",
    "- `session_date` из таблицы `sessions`\n",
    "\n",
    "к новому типу с помощью метода `to_datetime()`."
   ]
  },
  {
   "cell_type": "code",
   "execution_count": null,
   "metadata": {
    "deletable": false
   },
   "outputs": [],
   "source": [
    "# обработка столбца reg_date\n",
    "users.reg_date = pd.to_datetime(users.reg_date, format='%Y-%m-%d')\n",
    "\n",
    "# обработка столбца churn_date\n",
    "users.churn_date = pd.to_datetime(users.churn_date, format='%Y-%m-%d')\n",
    "\n",
    "# обработка столбца call_date\n",
    "calls.call_date = pd.to_datetime(calls.call_date, format='%Y-%m-%d')\n",
    "\n",
    "# обработка столбца message_date\n",
    "messages.message_date = pd.to_datetime(messages.message_date, format='%Y-%m-%d')\n",
    "\n",
    "# обработка столбца session_date\n",
    "sessions.session_date = pd.to_datetime(sessions.session_date, format='%Y-%m-%d')"
   ]
  },
  {
   "cell_type": "markdown",
   "metadata": {
    "deletable": false,
    "editable": false,
    "tags": [
     "start_task"
    ]
   },
   "source": [
    "**Задание 19.** В данных вы найдёте звонки с нулевой продолжительностью. Это не ошибка: нулями обозначены пропущенные звонки, поэтому их не нужно удалять.\n",
    "\n",
    "Однако в столбце `duration` датафрейма `calls` значения дробные. Округлите значения столбца `duration` вверх с помощью метода `numpy.ceil()` и приведите столбец `duration` к типу `int`."
   ]
  },
  {
   "cell_type": "code",
   "execution_count": null,
   "metadata": {
    "deletable": false
   },
   "outputs": [],
   "source": [
    "#import numpy as np\n",
    "\n",
    "# округление значений столбца duration с помощью np.ceil() и приведение типа к int\n",
    "calls.duration = np.ceil(calls.duration).astype('int')"
   ]
  },
  {
   "cell_type": "markdown",
   "metadata": {
    "deletable": false,
    "editable": false,
    "tags": [
     "start_task"
    ]
   },
   "source": [
    "**Задание 20.** Удалите столбец `Unnamed: 0` из датафрейма `sessions`. Столбец с таким названием возникает, когда данные сохраняют с указанием индекса (`df.to_csv(..., index=column)`). Он сейчас не понадобится."
   ]
  },
  {
   "cell_type": "code",
   "execution_count": null,
   "metadata": {
    "deletable": false
   },
   "outputs": [],
   "source": [
    "sessions.drop(['Unnamed: 0'], axis=1, inplace=True)\n"
   ]
  },
  {
   "cell_type": "markdown",
   "metadata": {
    "deletable": false,
    "editable": false,
    "tags": [
     "start_task"
    ]
   },
   "source": [
    "**Задание 21.** Создайте столбец `month` в датафрейме `calls` с номером месяца из столбца `call_date`."
   ]
  },
  {
   "cell_type": "code",
   "execution_count": null,
   "metadata": {
    "deletable": false
   },
   "outputs": [],
   "source": [
    "calls['month'] = pd.DatetimeIndex(calls.call_date).month"
   ]
  },
  {
   "cell_type": "markdown",
   "metadata": {
    "deletable": false,
    "editable": false,
    "tags": [
     "start_task"
    ]
   },
   "source": [
    "**Задание 22.** Создайте столбец `month` в датафрейме `messages` с номером месяца из столбца `message_date`."
   ]
  },
  {
   "cell_type": "code",
   "execution_count": null,
   "metadata": {
    "deletable": false
   },
   "outputs": [],
   "source": [
    "messages['month'] = pd.DatetimeIndex(messages.message_date).month"
   ]
  },
  {
   "cell_type": "markdown",
   "metadata": {
    "deletable": false,
    "editable": false,
    "tags": [
     "start_task"
    ]
   },
   "source": [
    "**Задание 23.** Создайте столбец `month` в датафрейме `sessions` с номером месяца из столбца `session_date`."
   ]
  },
  {
   "cell_type": "code",
   "execution_count": null,
   "metadata": {
    "deletable": false
   },
   "outputs": [],
   "source": [
    "sessions['month'] = pd.DatetimeIndex(sessions.session_date).month"
   ]
  },
  {
   "cell_type": "markdown",
   "metadata": {
    "deletable": false,
    "editable": false,
    "tags": [
     "start_task"
    ]
   },
   "source": [
    "**Задание 24.** Посчитайте количество сделанных звонков разговора для каждого пользователя по месяцам."
   ]
  },
  {
   "cell_type": "code",
   "execution_count": null,
   "metadata": {
    "deletable": false
   },
   "outputs": [],
   "source": [
    "# подсчёт количества звонков для каждого пользователя по месяцам\n",
    "calls_per_month = calls.groupby(['user_id','month']).agg(calls=('duration', 'count'))"
   ]
  },
  {
   "cell_type": "code",
   "execution_count": null,
   "metadata": {
    "deletable": false
   },
   "outputs": [],
   "source": [
    "# вывод 30 первых строк на экран\n",
    "calls_per_month.head(30)"
   ]
  },
  {
   "cell_type": "markdown",
   "metadata": {
    "deletable": false,
    "editable": false,
    "tags": [
     "start_task"
    ]
   },
   "source": [
    "**Задание 25.** Посчитайте количество израсходованных минут разговора для каждого пользователя по месяцам и сохраните в переменную `minutes_per_month`. Вам понадобится\n",
    "\n",
    "- сгруппировать датафрейм с информацией о звонках по двум столбцам — с идентификаторами пользователей и номерами месяцев;\n",
    "- после группировки выбрать столбец `duration`\n",
    "- затем применить метод для подсчёта суммы.\n",
    "\n",
    "Выведите первые 30 строчек `minutes_per_month`."
   ]
  },
  {
   "cell_type": "code",
   "execution_count": null,
   "metadata": {
    "deletable": false
   },
   "outputs": [],
   "source": [
    "# подсчёт израсходованных минут для каждого пользователя по месяцам\n",
    "minutes_per_month = calls.groupby(['user_id','month']).agg(minutes=('duration', 'sum'))"
   ]
  },
  {
   "cell_type": "code",
   "execution_count": null,
   "metadata": {
    "deletable": false
   },
   "outputs": [],
   "source": [
    "# вывод первых 30 строк на экран\n",
    "minutes_per_month.head(30)"
   ]
  },
  {
   "cell_type": "markdown",
   "metadata": {
    "deletable": false,
    "editable": false,
    "tags": [
     "start_task"
    ]
   },
   "source": [
    "**Задание 26.** Посчитайте количество отправленных сообщений по месяцам для каждого пользователя и сохраните в переменную `messages_per_month`. Вам понадобится\n",
    "\n",
    "- сгруппировать датафрейм с информацией о сообщениях по двум столбцам — с идентификаторами пользователей и номерами месяцев;\n",
    "- после группировки выбрать столбец `message_date`;\n",
    "- затем применить метод для подсчёта количества.\n",
    "\n",
    "Выведите первые 30 строчек `messages_per_month`."
   ]
  },
  {
   "cell_type": "code",
   "execution_count": null,
   "metadata": {
    "deletable": false
   },
   "outputs": [],
   "source": [
    "# подсчёт количества отправленных сообщений для каждого пользователя по месяцам\n",
    "messages_per_month = messages.groupby(['user_id','month']).agg(messages=('message_date', 'count'))"
   ]
  },
  {
   "cell_type": "code",
   "execution_count": null,
   "metadata": {
    "deletable": false
   },
   "outputs": [],
   "source": [
    "# вывод первых 30 строк на экран\n",
    "messages_per_month.head(30)"
   ]
  },
  {
   "cell_type": "markdown",
   "metadata": {
    "deletable": false,
    "editable": false,
    "tags": [
     "start_task"
    ]
   },
   "source": [
    "**Задание 27.** Посчитайте количество потраченных мегабайт по месяцам для каждого пользователя и сохраните в переменную `sessions_per_month`. Вам понадобится\n",
    "\n",
    "- сгруппировать датафрейм с информацией о сообщениях по двум столбцам — с идентификаторами пользователей и номерами месяцев;\n",
    "- затем применить метод для подсчёта суммы: `.agg({'mb_used': 'sum'})`"
   ]
  },
  {
   "cell_type": "code",
   "execution_count": null,
   "metadata": {
    "deletable": false
   },
   "outputs": [],
   "source": [
    "# подсчёт потраченных мегабайт для каждого пользователя по месяцам\n",
    "sessions_per_month = sessions.groupby(['user_id','month']).agg({'mb_used': 'sum'})"
   ]
  },
  {
   "cell_type": "code",
   "execution_count": null,
   "metadata": {
    "deletable": false
   },
   "outputs": [],
   "source": [
    "# вывод первых 30 строк на экран\n",
    "sessions_per_month.head(30)"
   ]
  },
  {
   "cell_type": "markdown",
   "metadata": {
    "deletable": false,
    "editable": false
   },
   "source": [
    "### Анализ данных и подсчёт выручки"
   ]
  },
  {
   "cell_type": "markdown",
   "metadata": {
    "deletable": false,
    "editable": false
   },
   "source": [
    "Объединяем все посчитанные выше значения в один датафрейм `user_behavior`.\n",
    "Для каждой пары \"пользователь - месяц\" будут доступны информация о тарифе, количестве звонков, сообщений и потраченных мегабайтах."
   ]
  },
  {
   "cell_type": "code",
   "execution_count": null,
   "metadata": {
    "deletable": false
   },
   "outputs": [],
   "source": [
    "users['churn_date'].count() / users['churn_date'].shape[0] * 100"
   ]
  },
  {
   "cell_type": "markdown",
   "metadata": {
    "deletable": false,
    "editable": false
   },
   "source": [
    "Расторгли договор 7.6% клиентов из датасета"
   ]
  },
  {
   "cell_type": "code",
   "execution_count": null,
   "metadata": {
    "deletable": false
   },
   "outputs": [],
   "source": [
    "user_behavior = calls_per_month\\\n",
    "    .merge(messages_per_month, left_index=True, right_index=True, how='outer')\\\n",
    "    .merge(sessions_per_month, left_index=True, right_index=True, how='outer')\\\n",
    "    .merge(minutes_per_month, left_index=True, right_index=True, how='outer')\\\n",
    "    .reset_index()\\\n",
    "    .merge(users, how='left', left_on='user_id', right_on='user_id')\\\n",
    "\n",
    "user_behavior.head()"
   ]
  },
  {
   "cell_type": "markdown",
   "metadata": {
    "deletable": false,
    "editable": false
   },
   "source": [
    "Проверим пропуски в таблице `user_behavior` после объединения:"
   ]
  },
  {
   "cell_type": "code",
   "execution_count": null,
   "metadata": {
    "deletable": false
   },
   "outputs": [],
   "source": [
    "user_behavior.isna().sum()"
   ]
  },
  {
   "cell_type": "markdown",
   "metadata": {
    "deletable": false,
    "editable": false
   },
   "source": [
    "Заполним образовавшиеся пропуски в данных:"
   ]
  },
  {
   "cell_type": "code",
   "execution_count": null,
   "metadata": {
    "deletable": false
   },
   "outputs": [],
   "source": [
    "user_behavior['calls'] = user_behavior['calls'].fillna(0)\n",
    "user_behavior['minutes'] = user_behavior['minutes'].fillna(0)\n",
    "user_behavior['messages'] = user_behavior['messages'].fillna(0)\n",
    "user_behavior['mb_used'] = user_behavior['mb_used'].fillna(0)"
   ]
  },
  {
   "cell_type": "markdown",
   "metadata": {
    "deletable": false,
    "editable": false
   },
   "source": [
    "Присоединяем информацию о тарифах"
   ]
  },
  {
   "cell_type": "code",
   "execution_count": null,
   "metadata": {
    "deletable": false
   },
   "outputs": [],
   "source": [
    "# переименование столбца tariff_name на более простое tariff\n",
    "\n",
    "tariffs = tariffs.rename(\n",
    "    columns={\n",
    "        'tariff_name': 'tariff'\n",
    "    }\n",
    ")"
   ]
  },
  {
   "cell_type": "code",
   "execution_count": null,
   "metadata": {
    "deletable": false
   },
   "outputs": [],
   "source": [
    "user_behavior = user_behavior.merge(tariffs, on='tariff')"
   ]
  },
  {
   "cell_type": "markdown",
   "metadata": {
    "deletable": false,
    "editable": false
   },
   "source": [
    "Считаем количество минут разговора, сообщений и мегабайт, превышающих включенные в тариф\n"
   ]
  },
  {
   "cell_type": "code",
   "execution_count": null,
   "metadata": {
    "deletable": false
   },
   "outputs": [],
   "source": [
    "user_behavior['paid_minutes'] = user_behavior['minutes'] - user_behavior['minutes_included']\n",
    "user_behavior['paid_messages'] = user_behavior['messages'] - user_behavior['messages_included']\n",
    "user_behavior['paid_mb'] = user_behavior['mb_used'] - user_behavior['mb_per_month_included']\n",
    "\n",
    "for col in ['paid_messages', 'paid_minutes', 'paid_mb']:\n",
    "    user_behavior.loc[user_behavior[col] < 0, col] = 0"
   ]
  },
  {
   "cell_type": "markdown",
   "metadata": {
    "deletable": false,
    "editable": false
   },
   "source": [
    "Переводим превышающие тариф мегабайты в гигабайты и сохраняем в столбец `paid_gb`"
   ]
  },
  {
   "cell_type": "code",
   "execution_count": null,
   "metadata": {
    "deletable": false
   },
   "outputs": [],
   "source": [
    "user_behavior['paid_gb'] = np.ceil(user_behavior['paid_mb'] / 1024).astype(int)"
   ]
  },
  {
   "cell_type": "markdown",
   "metadata": {
    "deletable": false,
    "editable": false
   },
   "source": [
    "Считаем выручку за минуты разговора, сообщения и интернет"
   ]
  },
  {
   "cell_type": "code",
   "execution_count": null,
   "metadata": {
    "deletable": false
   },
   "outputs": [],
   "source": [
    "user_behavior['cost_minutes'] = user_behavior['paid_minutes'] * user_behavior['rub_per_minute']\n",
    "user_behavior['cost_messages'] = user_behavior['paid_messages'] * user_behavior['rub_per_message']\n",
    "user_behavior['cost_gb'] = user_behavior['paid_gb'] * user_behavior['rub_per_gb']"
   ]
  },
  {
   "cell_type": "markdown",
   "metadata": {
    "deletable": false,
    "editable": false
   },
   "source": [
    "Считаем помесячную выручку с каждого пользователя, она будет храниться в столбец `total_cost`"
   ]
  },
  {
   "cell_type": "code",
   "execution_count": null,
   "metadata": {
    "deletable": false
   },
   "outputs": [],
   "source": [
    "user_behavior['total_cost'] = \\\n",
    "      user_behavior['rub_monthly_fee']\\\n",
    "    + user_behavior['cost_minutes']\\\n",
    "    + user_behavior['cost_messages']\\\n",
    "    + user_behavior['cost_gb']"
   ]
  },
  {
   "cell_type": "markdown",
   "metadata": {
    "deletable": false,
    "editable": false
   },
   "source": [
    "Датафрейм `stats_df` для каждой пары \"месяц-тариф\" будет хранить основные характеристики"
   ]
  },
  {
   "cell_type": "code",
   "execution_count": null,
   "metadata": {
    "deletable": false
   },
   "outputs": [],
   "source": [
    "# сохранение статистических метрик для каждой пары месяц-тариф\n",
    "# в одной таблице stats_df (среднее значение, стандартное отклонение, медиана)\n",
    "\n",
    "stats_df = user_behavior.pivot_table(\n",
    "            index=['month', 'tariff'],\\\n",
    "            values=['calls', 'minutes', 'messages', 'mb_used'],\\\n",
    "            aggfunc=['mean', 'std', 'median']\\\n",
    ").round(2).reset_index()\n",
    "\n",
    "stats_df.columns=['month', 'tariff', 'calls_mean', 'sessions_mean', 'messages_mean', 'minutes_mean',\n",
    "                                     'calls_std',  'sessions_std', 'messages_std', 'minutes_std', \n",
    "                                     'calls_median', 'sessions_median', 'messages_median',  'minutes_median']\n",
    "\n",
    "stats_df.head(10)"
   ]
  },
  {
   "cell_type": "markdown",
   "metadata": {
    "deletable": false,
    "editable": false
   },
   "source": [
    "Распределение среднего количества звонков по видам тарифов и месяцам"
   ]
  },
  {
   "cell_type": "code",
   "execution_count": null,
   "metadata": {
    "deletable": false
   },
   "outputs": [],
   "source": [
    "import seaborn as sns\n",
    "\n",
    "ax = sns.barplot(x='month',\n",
    "            y='calls_mean',\n",
    "            hue=\"tariff\",\n",
    "            data=stats_df,\n",
    "            palette=['lightblue', 'blue'])\n",
    "\n",
    "ax.set_title('Распределение количества звонков по видам тарифов и месяцам')\n",
    "ax.set(xlabel='Номер месяца', ylabel='Среднее количество звонков');"
   ]
  },
  {
   "cell_type": "code",
   "execution_count": null,
   "metadata": {
    "deletable": false
   },
   "outputs": [],
   "source": [
    "#import matplotlib.pyplot as plt\n",
    "\n",
    "user_behavior.groupby('tariff')['calls'].plot(kind='hist', bins=35, alpha=0.5)\n",
    "plt.legend(['Smart', 'Ultra'])\n",
    "plt.xlabel('Количество звонков')\n",
    "plt.ylabel('Количество клиентов')\n",
    "plt.show()"
   ]
  },
  {
   "cell_type": "markdown",
   "metadata": {
    "deletable": false,
    "editable": false
   },
   "source": [
    "Распределение средней продолжительности звонков по видам тарифов и месяцам"
   ]
  },
  {
   "cell_type": "code",
   "execution_count": null,
   "metadata": {
    "deletable": false
   },
   "outputs": [],
   "source": [
    "ax = sns.barplot(x='month',\n",
    "            y='minutes_mean',\n",
    "            hue=\"tariff\",\n",
    "            data=stats_df,\n",
    "            palette=['lightblue', 'blue'])\n",
    "\n",
    "ax.set_title('Распределение продолжительности звонков по видам тарифов и месяцам')\n",
    "ax.set(xlabel='Номер месяца', ylabel='Средняя продолжительность звонков');"
   ]
  },
  {
   "cell_type": "code",
   "execution_count": null,
   "metadata": {
    "deletable": false
   },
   "outputs": [],
   "source": [
    "user_behavior[user_behavior['tariff'] =='smart']['minutes'].hist(bins=35, alpha=0.5, color='green')\n",
    "user_behavior[user_behavior['tariff'] =='ultra']['minutes'].hist(bins=35, alpha=0.5, color='blue');"
   ]
  },
  {
   "cell_type": "markdown",
   "metadata": {
    "deletable": false,
    "editable": false
   },
   "source": [
    "Средняя длительность разговоров у абонентов тарифа Ultra больше, чем у абонентов тарифа Smart. В течение года пользователи обоих тарифов увеличивают среднюю продолжительность своих разговоров. Рост средней длительности разговоров у абонентов тарифа Smart равномерный в течение года. Пользователи тарифа Ultra не проявляют подобной линейной стабильности. Стоит отметить, что феврале у абонентов обоих тарифных планов наблюдались самые низкие показатели."
   ]
  },
  {
   "cell_type": "markdown",
   "metadata": {
    "deletable": false,
    "editable": false
   },
   "source": [
    "Распределение среднего количества сообщений по видам тарифов и месяцам"
   ]
  },
  {
   "cell_type": "code",
   "execution_count": null,
   "metadata": {
    "deletable": false
   },
   "outputs": [],
   "source": [
    "ax = sns.barplot(x='month',\n",
    "            y='messages_mean',\n",
    "            hue=\"tariff\",\n",
    "            data=stats_df,\n",
    "            palette=['lightblue', 'blue']\n",
    ")\n",
    "\n",
    "ax.set_title('Распределение количества сообщений по видам тарифов и месяцам')\n",
    "ax.set(xlabel='Номер месяца', ylabel='Среднее количество сообщений');"
   ]
  },
  {
   "cell_type": "code",
   "execution_count": null,
   "metadata": {
    "deletable": false
   },
   "outputs": [],
   "source": [
    "user_behavior[user_behavior['tariff'] =='smart']['messages'].hist(bins=35, alpha=0.5, color='green')\n",
    "user_behavior[user_behavior['tariff'] =='ultra']['messages'].hist(bins=35, alpha=0.5, color='blue');"
   ]
  },
  {
   "cell_type": "markdown",
   "metadata": {},
   "source": [
    "В среднем количество сообщений пользователи тарифа Ultra отправляют больше - почти на 20 сообщений больше, чем пользователи тарифа Smart. Количество сообщений в течение года на обоих тарифак растет. Динамика по отправке сообщений схожа с тенденциями по длительности разговоров: в феврале отмечено наименьшее количество сообщений за год и пользователи тарифа Ultra также проявляют нелинейную положительную динамику."
   ]
  },
  {
   "cell_type": "code",
   "execution_count": null,
   "metadata": {
    "deletable": false
   },
   "outputs": [],
   "source": [
    "ax = sns.barplot(x='month',\n",
    "            y='sessions_mean',\n",
    "            hue=\"tariff\",\n",
    "            data=stats_df,\n",
    "            palette=['lightblue', 'blue']\n",
    ")\n",
    "\n",
    "ax.set_title('Распределение количества потраченного трафика (Мб) по видам тарифов и месяцам')\n",
    "ax.set(xlabel='Номер месяца', ylabel='Среднее количество мегабайт');"
   ]
  },
  {
   "cell_type": "markdown",
   "metadata": {
    "deletable": false,
    "editable": false
   },
   "source": [
    "Сравнение потраченных мегабайт среди пользователей тарифов Smart и Ultra"
   ]
  },
  {
   "cell_type": "code",
   "execution_count": null,
   "metadata": {
    "deletable": false
   },
   "outputs": [],
   "source": [
    "user_behavior[user_behavior['tariff'] =='smart']['mb_used'].hist(bins=35, alpha=0.5, color='green')\n",
    "user_behavior[user_behavior['tariff'] =='ultra']['mb_used'].hist(bins=35, alpha=0.5, color='blue');"
   ]
  },
  {
   "cell_type": "markdown",
   "metadata": {
    "deletable": false,
    "editable": false
   },
   "source": [
    "Меньше всего пользователи использовали интернет в январе, феврале и апреле. Чаще всего абоненты тарифа Smart тратят 15-17 Гб, а абоненты тарифного плана Ultra - 19-21 ГБ."
   ]
  },
  {
   "cell_type": "markdown",
   "metadata": {
    "deletable": false,
    "editable": false
   },
   "source": [
    "### Проверка гипотез"
   ]
  },
  {
   "cell_type": "markdown",
   "metadata": {
    "deletable": false,
    "editable": false,
    "tags": [
     "start_task"
    ]
   },
   "source": [
    "**Задание 28.** Проверка гипотезы: средняя выручка пользователей тарифов «Ультра» и «Смарт» различаются;\n",
    "\n",
    "```\n",
    "H_0: Выручка (total_cost) пользователей \"Ультра\" = выручка (total_cost) пользователей \"Смарт\"`\n",
    "H_a: Выручка (total_cost) пользователей \"Ультра\" ≠ выручка (total_cost) пользователей \"Смарт\"`\n",
    "alpha = 0.05\n",
    "```"
   ]
  },
  {
   "cell_type": "code",
   "execution_count": null,
   "metadata": {
    "deletable": false
   },
   "outputs": [],
   "source": [
    "from scipy import stats as st"
   ]
  },
  {
   "cell_type": "code",
   "execution_count": null,
   "metadata": {
    "deletable": false
   },
   "outputs": [],
   "source": [
    "# results = вызов метода для проверки гипотезы\n",
    "results = st.ttest_ind(user_behavior[user_behavior['tariff'] =='smart']['total_cost'], \n",
    "                       user_behavior[user_behavior['tariff'] =='ultra']['total_cost'],\n",
    "                      equal_var=False)\n",
    "# alpha = задайте значение уровня значимости\n",
    "alpha = 0.05\n",
    "# вывод значения p-value на экран \n",
    "# условный оператор с выводом строки с ответом\n",
    "print('p-значение:', results.pvalue)\n",
    "\n",
    "if results.pvalue < alpha:\n",
    "    print(\"Отвергаем нулевую гипотезу\")\n",
    "else:\n",
    "    print(\"Не получилось отвергнуть нулевую гипотезу\")"
   ]
  },
  {
   "cell_type": "markdown",
   "metadata": {
    "deletable": false,
    "editable": false,
    "tags": [
     "start_task"
    ]
   },
   "source": [
    "**Задание 29.** Проверка гипотезы: пользователи из Москвы приносят больше выручки, чем пользователи из других городов;\n",
    "\n",
    "```\n",
    "H_0: Выручка (total_cost) пользователей из Москвы = выручка (total_cost) пользователей не из Москвы`\n",
    "H_1: Выручка (total_cost) пользователей из Москвы ≠ выручка (total_cost) пользователей не из Москвы`\n",
    "alpha = 0.05\n",
    "```"
   ]
  },
  {
   "cell_type": "code",
   "execution_count": null,
   "metadata": {
    "deletable": false
   },
   "outputs": [],
   "source": [
    "# results = вызов метода для проверки гипотезы\n",
    "results = st.ttest_ind(user_behavior[user_behavior['city'] =='Москва']['total_cost'], \n",
    "                       user_behavior[user_behavior['city'] !='Москва']['total_cost'],\n",
    "                      equal_var=False)\n",
    "# alpha = задайте значение уровня значимости\n",
    "alpha = 0.05\n",
    "# вывод значения p-value на экран \n",
    "# условный оператор с выводом строки с ответом\n",
    "print('p-значение:', results.pvalue)\n",
    "\n",
    "if results.pvalue < alpha:\n",
    "    print(\"Отвергаем нулевую гипотезу\")\n",
    "else:\n",
    "    print(\"Не получилось отвергнуть нулевую гипотезу\")"
   ]
  }
 ],
 "metadata": {
  "ExecuteTimeLog": [
   {
    "duration": 47,
    "start_time": "2022-12-04T12:59:46.677Z"
   },
   {
    "duration": 8,
    "start_time": "2022-12-04T12:59:56.109Z"
   },
   {
    "duration": 377,
    "start_time": "2022-12-04T13:00:02.538Z"
   },
   {
    "duration": 403,
    "start_time": "2022-12-04T13:00:08.814Z"
   },
   {
    "duration": 324,
    "start_time": "2022-12-04T13:00:09.219Z"
   },
   {
    "duration": 3,
    "start_time": "2022-12-04T13:00:09.545Z"
   },
   {
    "duration": 7,
    "start_time": "2022-12-04T13:00:09.551Z"
   },
   {
    "duration": 4,
    "start_time": "2022-12-04T13:00:09.560Z"
   },
   {
    "duration": 5,
    "start_time": "2022-12-04T13:00:09.565Z"
   },
   {
    "duration": 4,
    "start_time": "2022-12-04T13:00:09.572Z"
   },
   {
    "duration": 5,
    "start_time": "2022-12-04T13:00:09.578Z"
   },
   {
    "duration": 4,
    "start_time": "2022-12-04T13:00:09.585Z"
   },
   {
    "duration": 22,
    "start_time": "2022-12-04T13:00:09.591Z"
   },
   {
    "duration": 3,
    "start_time": "2022-12-04T13:00:09.615Z"
   },
   {
    "duration": 5,
    "start_time": "2022-12-04T13:00:09.620Z"
   },
   {
    "duration": 93,
    "start_time": "2022-12-04T13:00:09.627Z"
   },
   {
    "duration": 0,
    "start_time": "2022-12-04T13:00:09.721Z"
   },
   {
    "duration": 0,
    "start_time": "2022-12-04T13:00:09.723Z"
   },
   {
    "duration": 0,
    "start_time": "2022-12-04T13:00:09.724Z"
   },
   {
    "duration": 0,
    "start_time": "2022-12-04T13:00:09.725Z"
   },
   {
    "duration": 0,
    "start_time": "2022-12-04T13:00:09.726Z"
   },
   {
    "duration": 0,
    "start_time": "2022-12-04T13:00:09.727Z"
   },
   {
    "duration": 0,
    "start_time": "2022-12-04T13:00:09.727Z"
   },
   {
    "duration": 0,
    "start_time": "2022-12-04T13:00:09.728Z"
   },
   {
    "duration": 0,
    "start_time": "2022-12-04T13:00:09.729Z"
   },
   {
    "duration": 0,
    "start_time": "2022-12-04T13:00:09.730Z"
   },
   {
    "duration": 0,
    "start_time": "2022-12-04T13:00:09.731Z"
   },
   {
    "duration": 0,
    "start_time": "2022-12-04T13:00:09.732Z"
   },
   {
    "duration": 0,
    "start_time": "2022-12-04T13:00:09.733Z"
   },
   {
    "duration": 0,
    "start_time": "2022-12-04T13:00:09.734Z"
   },
   {
    "duration": 0,
    "start_time": "2022-12-04T13:00:09.735Z"
   },
   {
    "duration": 0,
    "start_time": "2022-12-04T13:00:09.736Z"
   },
   {
    "duration": 0,
    "start_time": "2022-12-04T13:00:09.737Z"
   },
   {
    "duration": 0,
    "start_time": "2022-12-04T13:00:09.738Z"
   },
   {
    "duration": 0,
    "start_time": "2022-12-04T13:00:09.740Z"
   },
   {
    "duration": 0,
    "start_time": "2022-12-04T13:00:09.740Z"
   },
   {
    "duration": 0,
    "start_time": "2022-12-04T13:00:09.742Z"
   },
   {
    "duration": 415,
    "start_time": "2022-12-04T13:00:23.993Z"
   },
   {
    "duration": 273,
    "start_time": "2022-12-04T13:00:27.061Z"
   },
   {
    "duration": 16,
    "start_time": "2022-12-04T13:00:44.473Z"
   },
   {
    "duration": 22,
    "start_time": "2022-12-04T13:01:37.413Z"
   },
   {
    "duration": 567,
    "start_time": "2022-12-04T13:02:18.676Z"
   },
   {
    "duration": 453,
    "start_time": "2022-12-04T13:02:56.040Z"
   },
   {
    "duration": 10,
    "start_time": "2022-12-04T13:03:13.566Z"
   },
   {
    "duration": 20,
    "start_time": "2022-12-04T13:03:28.860Z"
   },
   {
    "duration": 149,
    "start_time": "2022-12-04T13:04:01.164Z"
   },
   {
    "duration": 156,
    "start_time": "2022-12-04T13:04:37.611Z"
   },
   {
    "duration": 8,
    "start_time": "2022-12-04T13:04:57.960Z"
   },
   {
    "duration": 24,
    "start_time": "2022-12-04T13:05:14.300Z"
   },
   {
    "duration": 72,
    "start_time": "2022-12-04T13:05:46.441Z"
   },
   {
    "duration": 68,
    "start_time": "2022-12-04T13:14:37.679Z"
   },
   {
    "duration": 2,
    "start_time": "2022-12-04T13:14:42.974Z"
   },
   {
    "duration": 6,
    "start_time": "2022-12-04T13:14:52.303Z"
   },
   {
    "duration": 7,
    "start_time": "2022-12-04T13:15:09.907Z"
   },
   {
    "duration": 391,
    "start_time": "2022-12-04T13:15:26.422Z"
   },
   {
    "duration": 491,
    "start_time": "2022-12-04T13:15:26.815Z"
   },
   {
    "duration": 16,
    "start_time": "2022-12-04T13:15:27.308Z"
   },
   {
    "duration": 22,
    "start_time": "2022-12-04T13:15:27.325Z"
   },
   {
    "duration": 398,
    "start_time": "2022-12-04T13:15:27.349Z"
   },
   {
    "duration": 123,
    "start_time": "2022-12-04T13:15:27.748Z"
   },
   {
    "duration": 9,
    "start_time": "2022-12-04T13:15:27.872Z"
   },
   {
    "duration": 22,
    "start_time": "2022-12-04T13:15:27.883Z"
   },
   {
    "duration": 158,
    "start_time": "2022-12-04T13:15:27.913Z"
   },
   {
    "duration": 100,
    "start_time": "2022-12-04T13:15:28.072Z"
   },
   {
    "duration": 8,
    "start_time": "2022-12-04T13:15:28.174Z"
   },
   {
    "duration": 19,
    "start_time": "2022-12-04T13:15:28.184Z"
   },
   {
    "duration": 15,
    "start_time": "2022-12-04T13:15:28.205Z"
   },
   {
    "duration": 7,
    "start_time": "2022-12-04T13:15:32.771Z"
   },
   {
    "duration": 10,
    "start_time": "2022-12-04T13:15:47.364Z"
   },
   {
    "duration": 91,
    "start_time": "2022-12-04T13:16:34.460Z"
   },
   {
    "duration": 10,
    "start_time": "2022-12-04T13:16:35.768Z"
   },
   {
    "duration": 11,
    "start_time": "2022-12-04T13:16:37.248Z"
   },
   {
    "duration": 996,
    "start_time": "2022-12-04T13:21:38.466Z"
   },
   {
    "duration": 152,
    "start_time": "2022-12-04T13:21:39.464Z"
   },
   {
    "duration": 14,
    "start_time": "2022-12-04T13:21:39.618Z"
   },
   {
    "duration": 25,
    "start_time": "2022-12-04T13:21:39.633Z"
   },
   {
    "duration": 166,
    "start_time": "2022-12-04T13:21:39.661Z"
   },
   {
    "duration": 122,
    "start_time": "2022-12-04T13:21:39.829Z"
   },
   {
    "duration": 9,
    "start_time": "2022-12-04T13:21:39.953Z"
   },
   {
    "duration": 24,
    "start_time": "2022-12-04T13:21:39.963Z"
   },
   {
    "duration": 154,
    "start_time": "2022-12-04T13:21:39.988Z"
   },
   {
    "duration": 89,
    "start_time": "2022-12-04T13:21:40.144Z"
   },
   {
    "duration": 9,
    "start_time": "2022-12-04T13:21:40.235Z"
   },
   {
    "duration": 31,
    "start_time": "2022-12-04T13:21:40.246Z"
   },
   {
    "duration": 17,
    "start_time": "2022-12-04T13:21:40.278Z"
   },
   {
    "duration": 11,
    "start_time": "2022-12-04T13:21:40.298Z"
   },
   {
    "duration": 19,
    "start_time": "2022-12-04T13:21:40.313Z"
   },
   {
    "duration": 31,
    "start_time": "2022-12-04T13:21:40.334Z"
   },
   {
    "duration": 10,
    "start_time": "2022-12-04T13:21:40.367Z"
   },
   {
    "duration": 20,
    "start_time": "2022-12-04T13:21:40.379Z"
   },
   {
    "duration": 5,
    "start_time": "2022-12-04T13:21:40.401Z"
   },
   {
    "duration": 8,
    "start_time": "2022-12-04T13:21:40.408Z"
   },
   {
    "duration": 13,
    "start_time": "2022-12-04T13:21:40.418Z"
   },
   {
    "duration": 7,
    "start_time": "2022-12-04T13:21:40.433Z"
   },
   {
    "duration": 6,
    "start_time": "2022-12-04T13:21:40.443Z"
   },
   {
    "duration": 6,
    "start_time": "2022-12-04T13:21:40.451Z"
   },
   {
    "duration": 4,
    "start_time": "2022-12-04T13:21:40.459Z"
   },
   {
    "duration": 7,
    "start_time": "2022-12-04T13:21:40.465Z"
   },
   {
    "duration": 5,
    "start_time": "2022-12-04T13:21:40.474Z"
   },
   {
    "duration": 5,
    "start_time": "2022-12-04T13:21:40.481Z"
   },
   {
    "duration": 9,
    "start_time": "2022-12-04T13:21:40.488Z"
   },
   {
    "duration": 94,
    "start_time": "2022-12-04T13:21:40.498Z"
   },
   {
    "duration": 0,
    "start_time": "2022-12-04T13:21:40.593Z"
   },
   {
    "duration": 0,
    "start_time": "2022-12-04T13:21:40.594Z"
   },
   {
    "duration": 0,
    "start_time": "2022-12-04T13:21:40.595Z"
   },
   {
    "duration": 0,
    "start_time": "2022-12-04T13:21:40.597Z"
   },
   {
    "duration": 0,
    "start_time": "2022-12-04T13:21:40.597Z"
   },
   {
    "duration": 0,
    "start_time": "2022-12-04T13:21:40.598Z"
   },
   {
    "duration": 0,
    "start_time": "2022-12-04T13:21:40.599Z"
   },
   {
    "duration": 0,
    "start_time": "2022-12-04T13:21:40.613Z"
   },
   {
    "duration": 0,
    "start_time": "2022-12-04T13:21:40.614Z"
   },
   {
    "duration": 0,
    "start_time": "2022-12-04T13:21:40.615Z"
   },
   {
    "duration": 0,
    "start_time": "2022-12-04T13:21:40.616Z"
   },
   {
    "duration": 0,
    "start_time": "2022-12-04T13:21:40.617Z"
   },
   {
    "duration": 0,
    "start_time": "2022-12-04T13:21:40.618Z"
   },
   {
    "duration": 0,
    "start_time": "2022-12-04T13:21:40.619Z"
   },
   {
    "duration": 0,
    "start_time": "2022-12-04T13:21:40.619Z"
   },
   {
    "duration": 0,
    "start_time": "2022-12-04T13:21:40.620Z"
   },
   {
    "duration": 0,
    "start_time": "2022-12-04T13:21:40.622Z"
   },
   {
    "duration": 0,
    "start_time": "2022-12-04T13:21:40.622Z"
   },
   {
    "duration": 0,
    "start_time": "2022-12-04T13:21:40.623Z"
   },
   {
    "duration": 0,
    "start_time": "2022-12-04T13:21:40.624Z"
   },
   {
    "duration": 999,
    "start_time": "2022-12-04T13:21:59.260Z"
   },
   {
    "duration": 176,
    "start_time": "2022-12-04T13:22:00.261Z"
   },
   {
    "duration": 17,
    "start_time": "2022-12-04T13:22:00.440Z"
   },
   {
    "duration": 37,
    "start_time": "2022-12-04T13:22:00.459Z"
   },
   {
    "duration": 179,
    "start_time": "2022-12-04T13:22:00.499Z"
   },
   {
    "duration": 120,
    "start_time": "2022-12-04T13:22:00.680Z"
   },
   {
    "duration": 10,
    "start_time": "2022-12-04T13:22:00.802Z"
   },
   {
    "duration": 28,
    "start_time": "2022-12-04T13:22:00.814Z"
   },
   {
    "duration": 159,
    "start_time": "2022-12-04T13:22:00.843Z"
   },
   {
    "duration": 88,
    "start_time": "2022-12-04T13:22:01.004Z"
   },
   {
    "duration": 7,
    "start_time": "2022-12-04T13:22:01.094Z"
   },
   {
    "duration": 24,
    "start_time": "2022-12-04T13:22:01.103Z"
   },
   {
    "duration": 15,
    "start_time": "2022-12-04T13:22:01.129Z"
   },
   {
    "duration": 9,
    "start_time": "2022-12-04T13:22:01.146Z"
   },
   {
    "duration": 47,
    "start_time": "2022-12-04T13:22:01.157Z"
   },
   {
    "duration": 54,
    "start_time": "2022-12-04T13:22:01.206Z"
   },
   {
    "duration": 10,
    "start_time": "2022-12-04T13:22:01.262Z"
   },
   {
    "duration": 47,
    "start_time": "2022-12-04T13:22:01.274Z"
   },
   {
    "duration": 6,
    "start_time": "2022-12-04T13:28:17.955Z"
   },
   {
    "duration": 13,
    "start_time": "2022-12-04T13:28:27.382Z"
   },
   {
    "duration": 10,
    "start_time": "2022-12-04T13:28:35.990Z"
   },
   {
    "duration": 77,
    "start_time": "2022-12-04T13:32:03.124Z"
   },
   {
    "duration": 1106,
    "start_time": "2022-12-04T13:32:33.160Z"
   },
   {
    "duration": 150,
    "start_time": "2022-12-04T13:32:34.268Z"
   },
   {
    "duration": 14,
    "start_time": "2022-12-04T13:32:34.420Z"
   },
   {
    "duration": 23,
    "start_time": "2022-12-04T13:32:34.436Z"
   },
   {
    "duration": 181,
    "start_time": "2022-12-04T13:32:34.462Z"
   },
   {
    "duration": 132,
    "start_time": "2022-12-04T13:32:34.645Z"
   },
   {
    "duration": 8,
    "start_time": "2022-12-04T13:32:34.779Z"
   },
   {
    "duration": 24,
    "start_time": "2022-12-04T13:32:34.789Z"
   },
   {
    "duration": 149,
    "start_time": "2022-12-04T13:32:34.815Z"
   },
   {
    "duration": 89,
    "start_time": "2022-12-04T13:32:34.965Z"
   },
   {
    "duration": 8,
    "start_time": "2022-12-04T13:32:35.055Z"
   },
   {
    "duration": 26,
    "start_time": "2022-12-04T13:32:35.065Z"
   },
   {
    "duration": 28,
    "start_time": "2022-12-04T13:32:35.093Z"
   },
   {
    "duration": 8,
    "start_time": "2022-12-04T13:32:35.123Z"
   },
   {
    "duration": 18,
    "start_time": "2022-12-04T13:32:35.133Z"
   },
   {
    "duration": 37,
    "start_time": "2022-12-04T13:32:35.153Z"
   },
   {
    "duration": 10,
    "start_time": "2022-12-04T13:32:35.192Z"
   },
   {
    "duration": 22,
    "start_time": "2022-12-04T13:32:35.203Z"
   },
   {
    "duration": 14,
    "start_time": "2022-12-04T13:35:43.706Z"
   },
   {
    "duration": 56,
    "start_time": "2022-12-04T13:36:22.658Z"
   },
   {
    "duration": 47,
    "start_time": "2022-12-04T13:36:51.587Z"
   },
   {
    "duration": 1032,
    "start_time": "2022-12-04T13:37:14.271Z"
   },
   {
    "duration": 166,
    "start_time": "2022-12-04T13:37:15.305Z"
   },
   {
    "duration": 14,
    "start_time": "2022-12-04T13:37:15.472Z"
   },
   {
    "duration": 33,
    "start_time": "2022-12-04T13:37:15.488Z"
   },
   {
    "duration": 159,
    "start_time": "2022-12-04T13:37:15.523Z"
   },
   {
    "duration": 131,
    "start_time": "2022-12-04T13:37:15.684Z"
   },
   {
    "duration": 9,
    "start_time": "2022-12-04T13:37:15.816Z"
   },
   {
    "duration": 22,
    "start_time": "2022-12-04T13:37:15.826Z"
   },
   {
    "duration": 154,
    "start_time": "2022-12-04T13:37:15.850Z"
   },
   {
    "duration": 83,
    "start_time": "2022-12-04T13:37:16.012Z"
   },
   {
    "duration": 7,
    "start_time": "2022-12-04T13:37:16.097Z"
   },
   {
    "duration": 19,
    "start_time": "2022-12-04T13:37:16.106Z"
   },
   {
    "duration": 16,
    "start_time": "2022-12-04T13:37:16.126Z"
   },
   {
    "duration": 7,
    "start_time": "2022-12-04T13:37:16.144Z"
   },
   {
    "duration": 13,
    "start_time": "2022-12-04T13:37:16.153Z"
   },
   {
    "duration": 29,
    "start_time": "2022-12-04T13:37:16.168Z"
   },
   {
    "duration": 9,
    "start_time": "2022-12-04T13:37:16.199Z"
   },
   {
    "duration": 11,
    "start_time": "2022-12-04T13:37:16.211Z"
   },
   {
    "duration": 56,
    "start_time": "2022-12-04T13:37:16.224Z"
   },
   {
    "duration": 2,
    "start_time": "2022-12-04T13:37:16.283Z"
   },
   {
    "duration": 7,
    "start_time": "2022-12-04T13:37:16.287Z"
   },
   {
    "duration": 17,
    "start_time": "2022-12-04T13:37:16.296Z"
   },
   {
    "duration": 5,
    "start_time": "2022-12-04T13:37:16.315Z"
   },
   {
    "duration": 7,
    "start_time": "2022-12-04T13:37:16.322Z"
   },
   {
    "duration": 10,
    "start_time": "2022-12-04T13:37:16.330Z"
   },
   {
    "duration": 8,
    "start_time": "2022-12-04T13:37:16.342Z"
   },
   {
    "duration": 8,
    "start_time": "2022-12-04T13:37:16.352Z"
   },
   {
    "duration": 4,
    "start_time": "2022-12-04T13:37:16.363Z"
   },
   {
    "duration": 7,
    "start_time": "2022-12-04T13:37:16.368Z"
   },
   {
    "duration": 111,
    "start_time": "2022-12-04T13:37:16.376Z"
   },
   {
    "duration": 0,
    "start_time": "2022-12-04T13:37:16.489Z"
   },
   {
    "duration": 0,
    "start_time": "2022-12-04T13:37:16.489Z"
   },
   {
    "duration": 1,
    "start_time": "2022-12-04T13:37:16.490Z"
   },
   {
    "duration": 0,
    "start_time": "2022-12-04T13:37:16.492Z"
   },
   {
    "duration": 0,
    "start_time": "2022-12-04T13:37:16.493Z"
   },
   {
    "duration": 0,
    "start_time": "2022-12-04T13:37:16.494Z"
   },
   {
    "duration": 0,
    "start_time": "2022-12-04T13:37:16.495Z"
   },
   {
    "duration": 0,
    "start_time": "2022-12-04T13:37:16.496Z"
   },
   {
    "duration": 0,
    "start_time": "2022-12-04T13:37:16.513Z"
   },
   {
    "duration": 0,
    "start_time": "2022-12-04T13:37:16.514Z"
   },
   {
    "duration": 0,
    "start_time": "2022-12-04T13:37:16.515Z"
   },
   {
    "duration": 0,
    "start_time": "2022-12-04T13:37:16.516Z"
   },
   {
    "duration": 0,
    "start_time": "2022-12-04T13:37:16.517Z"
   },
   {
    "duration": 0,
    "start_time": "2022-12-04T13:37:16.518Z"
   },
   {
    "duration": 0,
    "start_time": "2022-12-04T13:37:16.519Z"
   },
   {
    "duration": 0,
    "start_time": "2022-12-04T13:37:16.520Z"
   },
   {
    "duration": 0,
    "start_time": "2022-12-04T13:37:16.521Z"
   },
   {
    "duration": 0,
    "start_time": "2022-12-04T13:37:16.522Z"
   },
   {
    "duration": 0,
    "start_time": "2022-12-04T13:37:16.523Z"
   },
   {
    "duration": 0,
    "start_time": "2022-12-04T13:37:16.524Z"
   },
   {
    "duration": 10,
    "start_time": "2022-12-04T13:38:16.399Z"
   },
   {
    "duration": 4,
    "start_time": "2022-12-04T13:39:31.366Z"
   },
   {
    "duration": 1090,
    "start_time": "2022-12-04T13:40:51.179Z"
   },
   {
    "duration": 157,
    "start_time": "2022-12-04T13:40:52.271Z"
   },
   {
    "duration": 14,
    "start_time": "2022-12-04T13:40:52.430Z"
   },
   {
    "duration": 23,
    "start_time": "2022-12-04T13:40:52.446Z"
   },
   {
    "duration": 174,
    "start_time": "2022-12-04T13:40:52.471Z"
   },
   {
    "duration": 131,
    "start_time": "2022-12-04T13:40:52.646Z"
   },
   {
    "duration": 8,
    "start_time": "2022-12-04T13:40:52.779Z"
   },
   {
    "duration": 27,
    "start_time": "2022-12-04T13:40:52.789Z"
   },
   {
    "duration": 165,
    "start_time": "2022-12-04T13:40:52.818Z"
   },
   {
    "duration": 88,
    "start_time": "2022-12-04T13:40:52.985Z"
   },
   {
    "duration": 8,
    "start_time": "2022-12-04T13:40:53.075Z"
   },
   {
    "duration": 21,
    "start_time": "2022-12-04T13:40:53.085Z"
   },
   {
    "duration": 15,
    "start_time": "2022-12-04T13:40:53.113Z"
   },
   {
    "duration": 7,
    "start_time": "2022-12-04T13:40:53.131Z"
   },
   {
    "duration": 12,
    "start_time": "2022-12-04T13:40:53.140Z"
   },
   {
    "duration": 28,
    "start_time": "2022-12-04T13:40:53.154Z"
   },
   {
    "duration": 10,
    "start_time": "2022-12-04T13:40:53.184Z"
   },
   {
    "duration": 13,
    "start_time": "2022-12-04T13:40:53.196Z"
   },
   {
    "duration": 59,
    "start_time": "2022-12-04T13:40:55.186Z"
   },
   {
    "duration": 115,
    "start_time": "2022-12-04T13:41:13.445Z"
   },
   {
    "duration": 1161,
    "start_time": "2022-12-04T13:41:30.309Z"
   },
   {
    "duration": 164,
    "start_time": "2022-12-04T13:41:31.472Z"
   },
   {
    "duration": 14,
    "start_time": "2022-12-04T13:41:31.638Z"
   },
   {
    "duration": 32,
    "start_time": "2022-12-04T13:41:31.653Z"
   },
   {
    "duration": 163,
    "start_time": "2022-12-04T13:41:31.688Z"
   },
   {
    "duration": 135,
    "start_time": "2022-12-04T13:41:31.853Z"
   },
   {
    "duration": 9,
    "start_time": "2022-12-04T13:41:31.989Z"
   },
   {
    "duration": 27,
    "start_time": "2022-12-04T13:41:32.000Z"
   },
   {
    "duration": 154,
    "start_time": "2022-12-04T13:41:32.028Z"
   },
   {
    "duration": 88,
    "start_time": "2022-12-04T13:41:32.183Z"
   },
   {
    "duration": 9,
    "start_time": "2022-12-04T13:41:32.273Z"
   },
   {
    "duration": 30,
    "start_time": "2022-12-04T13:41:32.284Z"
   },
   {
    "duration": 20,
    "start_time": "2022-12-04T13:41:32.316Z"
   },
   {
    "duration": 9,
    "start_time": "2022-12-04T13:41:32.340Z"
   },
   {
    "duration": 23,
    "start_time": "2022-12-04T13:41:32.351Z"
   },
   {
    "duration": 39,
    "start_time": "2022-12-04T13:41:32.376Z"
   },
   {
    "duration": 15,
    "start_time": "2022-12-04T13:41:32.417Z"
   },
   {
    "duration": 17,
    "start_time": "2022-12-04T13:41:32.433Z"
   },
   {
    "duration": 82,
    "start_time": "2022-12-04T13:41:33.469Z"
   },
   {
    "duration": 7,
    "start_time": "2022-12-04T13:45:03.340Z"
   },
   {
    "duration": 16,
    "start_time": "2022-12-04T13:50:15.723Z"
   },
   {
    "duration": 1104,
    "start_time": "2022-12-04T13:51:56.470Z"
   },
   {
    "duration": 147,
    "start_time": "2022-12-04T13:51:57.575Z"
   },
   {
    "duration": 15,
    "start_time": "2022-12-04T13:51:57.723Z"
   },
   {
    "duration": 23,
    "start_time": "2022-12-04T13:51:57.740Z"
   },
   {
    "duration": 168,
    "start_time": "2022-12-04T13:51:57.764Z"
   },
   {
    "duration": 123,
    "start_time": "2022-12-04T13:51:57.934Z"
   },
   {
    "duration": 9,
    "start_time": "2022-12-04T13:51:58.058Z"
   },
   {
    "duration": 31,
    "start_time": "2022-12-04T13:51:58.068Z"
   },
   {
    "duration": 169,
    "start_time": "2022-12-04T13:51:58.101Z"
   },
   {
    "duration": 90,
    "start_time": "2022-12-04T13:51:58.273Z"
   },
   {
    "duration": 8,
    "start_time": "2022-12-04T13:51:58.365Z"
   },
   {
    "duration": 19,
    "start_time": "2022-12-04T13:51:58.374Z"
   },
   {
    "duration": 23,
    "start_time": "2022-12-04T13:51:58.395Z"
   },
   {
    "duration": 7,
    "start_time": "2022-12-04T13:51:58.419Z"
   },
   {
    "duration": 27,
    "start_time": "2022-12-04T13:51:58.428Z"
   },
   {
    "duration": 39,
    "start_time": "2022-12-04T13:51:58.457Z"
   },
   {
    "duration": 10,
    "start_time": "2022-12-04T13:51:58.498Z"
   },
   {
    "duration": 30,
    "start_time": "2022-12-04T13:51:58.509Z"
   },
   {
    "duration": 78,
    "start_time": "2022-12-04T13:51:58.540Z"
   },
   {
    "duration": 6,
    "start_time": "2022-12-04T13:51:58.620Z"
   },
   {
    "duration": 16,
    "start_time": "2022-12-04T13:52:04.379Z"
   },
   {
    "duration": 18,
    "start_time": "2022-12-04T13:53:08.773Z"
   },
   {
    "duration": 9,
    "start_time": "2022-12-04T13:54:31.993Z"
   },
   {
    "duration": 1065,
    "start_time": "2022-12-04T13:55:15.105Z"
   },
   {
    "duration": 160,
    "start_time": "2022-12-04T13:55:16.172Z"
   },
   {
    "duration": 13,
    "start_time": "2022-12-04T13:55:16.334Z"
   },
   {
    "duration": 23,
    "start_time": "2022-12-04T13:55:16.349Z"
   },
   {
    "duration": 168,
    "start_time": "2022-12-04T13:55:16.375Z"
   },
   {
    "duration": 130,
    "start_time": "2022-12-04T13:55:16.544Z"
   },
   {
    "duration": 10,
    "start_time": "2022-12-04T13:55:16.676Z"
   },
   {
    "duration": 30,
    "start_time": "2022-12-04T13:55:16.688Z"
   },
   {
    "duration": 151,
    "start_time": "2022-12-04T13:55:16.719Z"
   },
   {
    "duration": 96,
    "start_time": "2022-12-04T13:55:16.871Z"
   },
   {
    "duration": 8,
    "start_time": "2022-12-04T13:55:16.969Z"
   },
   {
    "duration": 20,
    "start_time": "2022-12-04T13:55:16.979Z"
   },
   {
    "duration": 25,
    "start_time": "2022-12-04T13:55:17.001Z"
   },
   {
    "duration": 7,
    "start_time": "2022-12-04T13:55:17.029Z"
   },
   {
    "duration": 12,
    "start_time": "2022-12-04T13:55:17.038Z"
   },
   {
    "duration": 30,
    "start_time": "2022-12-04T13:55:17.052Z"
   },
   {
    "duration": 10,
    "start_time": "2022-12-04T13:55:17.084Z"
   },
   {
    "duration": 14,
    "start_time": "2022-12-04T13:55:17.096Z"
   },
   {
    "duration": 74,
    "start_time": "2022-12-04T13:55:17.112Z"
   },
   {
    "duration": 6,
    "start_time": "2022-12-04T13:55:17.188Z"
   },
   {
    "duration": 9,
    "start_time": "2022-12-04T13:55:19.489Z"
   },
   {
    "duration": 22,
    "start_time": "2022-12-04T14:05:04.045Z"
   },
   {
    "duration": 15,
    "start_time": "2022-12-04T14:08:51.229Z"
   },
   {
    "duration": 18,
    "start_time": "2022-12-04T14:08:52.609Z"
   },
   {
    "duration": 10,
    "start_time": "2022-12-04T14:12:00.195Z"
   },
   {
    "duration": 92,
    "start_time": "2022-12-04T14:12:54.373Z"
   },
   {
    "duration": 295,
    "start_time": "2022-12-04T14:13:03.624Z"
   },
   {
    "duration": 215,
    "start_time": "2022-12-04T14:13:35.299Z"
   },
   {
    "duration": 218,
    "start_time": "2022-12-04T14:14:20.856Z"
   },
   {
    "duration": 77,
    "start_time": "2022-12-04T14:14:22.525Z"
   },
   {
    "duration": 209,
    "start_time": "2022-12-04T14:16:21.360Z"
   },
   {
    "duration": 10,
    "start_time": "2022-12-04T14:16:23.818Z"
   },
   {
    "duration": 202,
    "start_time": "2022-12-04T14:16:42.591Z"
   },
   {
    "duration": 81,
    "start_time": "2022-12-04T14:16:44.838Z"
   },
   {
    "duration": 229,
    "start_time": "2022-12-04T14:21:13.865Z"
   },
   {
    "duration": 9,
    "start_time": "2022-12-04T14:21:15.046Z"
   },
   {
    "duration": 24,
    "start_time": "2022-12-04T14:22:00.499Z"
   },
   {
    "duration": 8,
    "start_time": "2022-12-04T14:22:01.541Z"
   },
   {
    "duration": 1099,
    "start_time": "2022-12-04T14:22:47.503Z"
   },
   {
    "duration": 162,
    "start_time": "2022-12-04T14:22:48.604Z"
   },
   {
    "duration": 18,
    "start_time": "2022-12-04T14:22:48.768Z"
   },
   {
    "duration": 28,
    "start_time": "2022-12-04T14:22:48.788Z"
   },
   {
    "duration": 167,
    "start_time": "2022-12-04T14:22:48.819Z"
   },
   {
    "duration": 127,
    "start_time": "2022-12-04T14:22:48.988Z"
   },
   {
    "duration": 10,
    "start_time": "2022-12-04T14:22:49.117Z"
   },
   {
    "duration": 27,
    "start_time": "2022-12-04T14:22:49.129Z"
   },
   {
    "duration": 161,
    "start_time": "2022-12-04T14:22:49.157Z"
   },
   {
    "duration": 91,
    "start_time": "2022-12-04T14:22:49.320Z"
   },
   {
    "duration": 7,
    "start_time": "2022-12-04T14:22:49.413Z"
   },
   {
    "duration": 19,
    "start_time": "2022-12-04T14:22:49.421Z"
   },
   {
    "duration": 15,
    "start_time": "2022-12-04T14:22:49.441Z"
   },
   {
    "duration": 7,
    "start_time": "2022-12-04T14:22:49.459Z"
   },
   {
    "duration": 11,
    "start_time": "2022-12-04T14:22:49.467Z"
   },
   {
    "duration": 29,
    "start_time": "2022-12-04T14:22:49.480Z"
   },
   {
    "duration": 11,
    "start_time": "2022-12-04T14:22:49.510Z"
   },
   {
    "duration": 14,
    "start_time": "2022-12-04T14:22:49.522Z"
   },
   {
    "duration": 89,
    "start_time": "2022-12-04T14:22:49.538Z"
   },
   {
    "duration": 6,
    "start_time": "2022-12-04T14:22:49.629Z"
   },
   {
    "duration": 9,
    "start_time": "2022-12-04T14:22:49.636Z"
   },
   {
    "duration": 26,
    "start_time": "2022-12-04T14:22:49.646Z"
   },
   {
    "duration": 14,
    "start_time": "2022-12-04T14:22:49.674Z"
   },
   {
    "duration": 34,
    "start_time": "2022-12-04T14:22:49.689Z"
   },
   {
    "duration": 28,
    "start_time": "2022-12-04T14:22:49.725Z"
   },
   {
    "duration": 8,
    "start_time": "2022-12-04T14:22:51.416Z"
   },
   {
    "duration": 32,
    "start_time": "2022-12-04T14:31:36.799Z"
   },
   {
    "duration": 8,
    "start_time": "2022-12-04T14:31:37.876Z"
   },
   {
    "duration": 4,
    "start_time": "2022-12-04T14:32:50.027Z"
   },
   {
    "duration": 19,
    "start_time": "2022-12-04T14:32:56.190Z"
   },
   {
    "duration": 7,
    "start_time": "2022-12-04T14:32:58.261Z"
   },
   {
    "duration": 18,
    "start_time": "2022-12-04T14:34:10.710Z"
   },
   {
    "duration": 9,
    "start_time": "2022-12-04T14:34:12.021Z"
   },
   {
    "duration": 4,
    "start_time": "2022-12-04T14:34:43.751Z"
   },
   {
    "duration": 34,
    "start_time": "2022-12-04T14:34:51.103Z"
   },
   {
    "duration": 9,
    "start_time": "2022-12-04T14:34:53.650Z"
   },
   {
    "duration": 5,
    "start_time": "2022-12-04T14:34:56.411Z"
   },
   {
    "duration": 4,
    "start_time": "2022-12-04T14:34:58.886Z"
   },
   {
    "duration": 8,
    "start_time": "2022-12-04T14:35:02.572Z"
   },
   {
    "duration": 11,
    "start_time": "2022-12-04T14:35:04.586Z"
   },
   {
    "duration": 5,
    "start_time": "2022-12-04T14:35:06.446Z"
   },
   {
    "duration": 6,
    "start_time": "2022-12-04T14:35:08.798Z"
   },
   {
    "duration": 5,
    "start_time": "2022-12-04T14:35:10.028Z"
   },
   {
    "duration": 4,
    "start_time": "2022-12-04T14:35:12.100Z"
   },
   {
    "duration": 50,
    "start_time": "2022-12-04T14:35:14.968Z"
   },
   {
    "duration": 350,
    "start_time": "2022-12-04T14:35:27.927Z"
   },
   {
    "duration": 263,
    "start_time": "2022-12-04T14:35:44.638Z"
   },
   {
    "duration": 383,
    "start_time": "2022-12-04T14:36:00.040Z"
   },
   {
    "duration": 213,
    "start_time": "2022-12-04T14:36:05.930Z"
   },
   {
    "duration": 257,
    "start_time": "2022-12-04T14:36:08.858Z"
   },
   {
    "duration": 197,
    "start_time": "2022-12-04T14:36:11.433Z"
   },
   {
    "duration": 289,
    "start_time": "2022-12-04T14:36:13.697Z"
   },
   {
    "duration": 209,
    "start_time": "2022-12-04T14:36:15.814Z"
   },
   {
    "duration": 3,
    "start_time": "2022-12-04T14:36:22.055Z"
   },
   {
    "duration": 937,
    "start_time": "2022-12-04T14:52:33.488Z"
   },
   {
    "duration": 8,
    "start_time": "2022-12-04T14:53:01.231Z"
   },
   {
    "duration": 9,
    "start_time": "2022-12-04T14:53:45.381Z"
   },
   {
    "duration": 9,
    "start_time": "2022-12-04T14:54:55.013Z"
   },
   {
    "duration": 1133,
    "start_time": "2022-12-04T14:55:19.639Z"
   },
   {
    "duration": 158,
    "start_time": "2022-12-04T14:55:20.774Z"
   },
   {
    "duration": 13,
    "start_time": "2022-12-04T14:55:20.934Z"
   },
   {
    "duration": 32,
    "start_time": "2022-12-04T14:55:20.949Z"
   },
   {
    "duration": 162,
    "start_time": "2022-12-04T14:55:20.982Z"
   },
   {
    "duration": 124,
    "start_time": "2022-12-04T14:55:21.146Z"
   },
   {
    "duration": 10,
    "start_time": "2022-12-04T14:55:21.272Z"
   },
   {
    "duration": 52,
    "start_time": "2022-12-04T14:55:21.283Z"
   },
   {
    "duration": 145,
    "start_time": "2022-12-04T14:55:21.336Z"
   },
   {
    "duration": 89,
    "start_time": "2022-12-04T14:55:21.484Z"
   },
   {
    "duration": 7,
    "start_time": "2022-12-04T14:55:21.574Z"
   },
   {
    "duration": 26,
    "start_time": "2022-12-04T14:55:21.583Z"
   },
   {
    "duration": 29,
    "start_time": "2022-12-04T14:55:21.613Z"
   },
   {
    "duration": 10,
    "start_time": "2022-12-04T14:55:21.644Z"
   },
   {
    "duration": 26,
    "start_time": "2022-12-04T14:55:21.655Z"
   },
   {
    "duration": 44,
    "start_time": "2022-12-04T14:55:21.682Z"
   },
   {
    "duration": 10,
    "start_time": "2022-12-04T14:55:21.727Z"
   },
   {
    "duration": 26,
    "start_time": "2022-12-04T14:55:21.738Z"
   },
   {
    "duration": 85,
    "start_time": "2022-12-04T14:55:21.766Z"
   },
   {
    "duration": 6,
    "start_time": "2022-12-04T14:55:21.852Z"
   },
   {
    "duration": 33,
    "start_time": "2022-12-04T14:55:21.860Z"
   },
   {
    "duration": 40,
    "start_time": "2022-12-04T14:55:21.895Z"
   },
   {
    "duration": 14,
    "start_time": "2022-12-04T14:55:21.937Z"
   },
   {
    "duration": 19,
    "start_time": "2022-12-04T14:55:21.953Z"
   },
   {
    "duration": 34,
    "start_time": "2022-12-04T14:55:21.974Z"
   },
   {
    "duration": 13,
    "start_time": "2022-12-04T14:55:22.013Z"
   },
   {
    "duration": 49,
    "start_time": "2022-12-04T14:55:22.028Z"
   },
   {
    "duration": 7,
    "start_time": "2022-12-04T14:55:22.081Z"
   },
   {
    "duration": 40,
    "start_time": "2022-12-04T14:55:22.089Z"
   },
   {
    "duration": 8,
    "start_time": "2022-12-04T14:55:22.131Z"
   },
   {
    "duration": 32,
    "start_time": "2022-12-04T14:55:22.141Z"
   },
   {
    "duration": 11,
    "start_time": "2022-12-04T14:55:22.175Z"
   },
   {
    "duration": 19,
    "start_time": "2022-12-04T14:55:22.188Z"
   },
   {
    "duration": 43,
    "start_time": "2022-12-04T14:55:22.209Z"
   },
   {
    "duration": 9,
    "start_time": "2022-12-04T14:55:22.253Z"
   },
   {
    "duration": 28,
    "start_time": "2022-12-04T14:55:22.263Z"
   },
   {
    "duration": 20,
    "start_time": "2022-12-04T14:55:22.293Z"
   },
   {
    "duration": 34,
    "start_time": "2022-12-04T14:55:22.315Z"
   },
   {
    "duration": 30,
    "start_time": "2022-12-04T14:55:22.350Z"
   },
   {
    "duration": 16,
    "start_time": "2022-12-04T14:55:22.382Z"
   },
   {
    "duration": 16,
    "start_time": "2022-12-04T14:55:22.400Z"
   },
   {
    "duration": 17,
    "start_time": "2022-12-04T14:55:22.418Z"
   },
   {
    "duration": 64,
    "start_time": "2022-12-04T14:55:22.437Z"
   },
   {
    "duration": 360,
    "start_time": "2022-12-04T14:55:22.503Z"
   },
   {
    "duration": 262,
    "start_time": "2022-12-04T14:55:22.864Z"
   },
   {
    "duration": 419,
    "start_time": "2022-12-04T14:55:23.127Z"
   },
   {
    "duration": 248,
    "start_time": "2022-12-04T14:55:23.548Z"
   },
   {
    "duration": 254,
    "start_time": "2022-12-04T14:55:23.797Z"
   },
   {
    "duration": 210,
    "start_time": "2022-12-04T14:55:24.053Z"
   },
   {
    "duration": 306,
    "start_time": "2022-12-04T14:55:24.264Z"
   },
   {
    "duration": 242,
    "start_time": "2022-12-04T14:55:24.571Z"
   },
   {
    "duration": 3,
    "start_time": "2022-12-04T14:55:24.814Z"
   },
   {
    "duration": 29,
    "start_time": "2022-12-04T14:55:24.818Z"
   },
   {
    "duration": 29,
    "start_time": "2022-12-04T14:55:24.849Z"
   }
  ],
  "kernelspec": {
   "display_name": "Python 3 (ipykernel)",
   "language": "python",
   "name": "python3"
  },
  "language_info": {
   "codemirror_mode": {
    "name": "ipython",
    "version": 3
   },
   "file_extension": ".py",
   "mimetype": "text/x-python",
   "name": "python",
   "nbconvert_exporter": "python",
   "pygments_lexer": "ipython3",
   "version": "3.9.12"
  },
  "toc": {
   "base_numbering": 1,
   "nav_menu": {},
   "number_sections": true,
   "sideBar": true,
   "skip_h1_title": true,
   "title_cell": "Table of Contents",
   "title_sidebar": "Contents",
   "toc_cell": false,
   "toc_position": {},
   "toc_section_display": true,
   "toc_window_display": false
  }
 },
 "nbformat": 4,
 "nbformat_minor": 2
}
