{
 "cells": [
  {
   "cell_type": "markdown",
   "id": "c6c22223",
   "metadata": {},
   "source": [
    "# ПЕРВАЯ ЧАСТЬ"
   ]
  },
  {
   "cell_type": "markdown",
   "id": "c81daeeb",
   "metadata": {
    "deletable": false,
    "editable": false,
    "id": "c81daeeb"
   },
   "source": [
    "# Исследование надежности заемщиков"
   ]
  },
  {
   "cell_type": "markdown",
   "id": "-G3EJWzf62s6",
   "metadata": {
    "deletable": false,
    "editable": false,
    "id": "-G3EJWzf62s6"
   },
   "source": [
    "Это первая часть проекта, она будет проверена автоматически. Вторую часть проверит ревьюер. "
   ]
  },
  {
   "cell_type": "markdown",
   "id": "744d7639",
   "metadata": {
    "deletable": false,
    "editable": false,
    "id": "744d7639"
   },
   "source": [
    "## Откройте таблицу и изучите общую информацию о данных"
   ]
  },
  {
   "cell_type": "markdown",
   "id": "e7a14c31",
   "metadata": {
    "deletable": false,
    "editable": false,
    "id": "e7a14c31",
    "tags": [
     "start_task"
    ]
   },
   "source": [
    "**Задание 1. Импортируйте библиотеку pandas. Считайте данные из csv-файла в датафрейм и сохраните в переменную `data`. Путь к файлу:**\n",
    "\n",
    "`/datasets/data.csv`"
   ]
  },
  {
   "cell_type": "code",
   "execution_count": 1,
   "id": "4d240ee2",
   "metadata": {
    "id": "4d240ee2"
   },
   "outputs": [],
   "source": [
    "import pandas as pd\n",
    "try:\n",
    "    data = pd.read_csv(r'datasets/data.csv')\n",
    "except:\n",
    "    data = pd.read_csv('https://code.s3.yandex.net/datasets/data.csv')"
   ]
  },
  {
   "cell_type": "markdown",
   "id": "b8038fe3",
   "metadata": {
    "deletable": false,
    "editable": false,
    "id": "b8038fe3",
    "tags": [
     "start_task"
    ]
   },
   "source": [
    "**Задание 2. Выведите первые 20 строчек датафрейма `data` на экран.**"
   ]
  },
  {
   "cell_type": "code",
   "execution_count": 2,
   "id": "2a7cab99",
   "metadata": {
    "id": "2a7cab99"
   },
   "outputs": [
    {
     "data": {
      "text/html": [
       "<div>\n",
       "<style scoped>\n",
       "    .dataframe tbody tr th:only-of-type {\n",
       "        vertical-align: middle;\n",
       "    }\n",
       "\n",
       "    .dataframe tbody tr th {\n",
       "        vertical-align: top;\n",
       "    }\n",
       "\n",
       "    .dataframe thead th {\n",
       "        text-align: right;\n",
       "    }\n",
       "</style>\n",
       "<table border=\"1\" class=\"dataframe\">\n",
       "  <thead>\n",
       "    <tr style=\"text-align: right;\">\n",
       "      <th></th>\n",
       "      <th>children</th>\n",
       "      <th>days_employed</th>\n",
       "      <th>dob_years</th>\n",
       "      <th>education</th>\n",
       "      <th>education_id</th>\n",
       "      <th>family_status</th>\n",
       "      <th>family_status_id</th>\n",
       "      <th>gender</th>\n",
       "      <th>income_type</th>\n",
       "      <th>debt</th>\n",
       "      <th>total_income</th>\n",
       "      <th>purpose</th>\n",
       "    </tr>\n",
       "  </thead>\n",
       "  <tbody>\n",
       "    <tr>\n",
       "      <th>0</th>\n",
       "      <td>1</td>\n",
       "      <td>-8437.673028</td>\n",
       "      <td>42</td>\n",
       "      <td>высшее</td>\n",
       "      <td>0</td>\n",
       "      <td>женат / замужем</td>\n",
       "      <td>0</td>\n",
       "      <td>F</td>\n",
       "      <td>сотрудник</td>\n",
       "      <td>0</td>\n",
       "      <td>253875.639453</td>\n",
       "      <td>покупка жилья</td>\n",
       "    </tr>\n",
       "    <tr>\n",
       "      <th>1</th>\n",
       "      <td>1</td>\n",
       "      <td>-4024.803754</td>\n",
       "      <td>36</td>\n",
       "      <td>среднее</td>\n",
       "      <td>1</td>\n",
       "      <td>женат / замужем</td>\n",
       "      <td>0</td>\n",
       "      <td>F</td>\n",
       "      <td>сотрудник</td>\n",
       "      <td>0</td>\n",
       "      <td>112080.014102</td>\n",
       "      <td>приобретение автомобиля</td>\n",
       "    </tr>\n",
       "    <tr>\n",
       "      <th>2</th>\n",
       "      <td>0</td>\n",
       "      <td>-5623.422610</td>\n",
       "      <td>33</td>\n",
       "      <td>Среднее</td>\n",
       "      <td>1</td>\n",
       "      <td>женат / замужем</td>\n",
       "      <td>0</td>\n",
       "      <td>M</td>\n",
       "      <td>сотрудник</td>\n",
       "      <td>0</td>\n",
       "      <td>145885.952297</td>\n",
       "      <td>покупка жилья</td>\n",
       "    </tr>\n",
       "    <tr>\n",
       "      <th>3</th>\n",
       "      <td>3</td>\n",
       "      <td>-4124.747207</td>\n",
       "      <td>32</td>\n",
       "      <td>среднее</td>\n",
       "      <td>1</td>\n",
       "      <td>женат / замужем</td>\n",
       "      <td>0</td>\n",
       "      <td>M</td>\n",
       "      <td>сотрудник</td>\n",
       "      <td>0</td>\n",
       "      <td>267628.550329</td>\n",
       "      <td>дополнительное образование</td>\n",
       "    </tr>\n",
       "    <tr>\n",
       "      <th>4</th>\n",
       "      <td>0</td>\n",
       "      <td>340266.072047</td>\n",
       "      <td>53</td>\n",
       "      <td>среднее</td>\n",
       "      <td>1</td>\n",
       "      <td>гражданский брак</td>\n",
       "      <td>1</td>\n",
       "      <td>F</td>\n",
       "      <td>пенсионер</td>\n",
       "      <td>0</td>\n",
       "      <td>158616.077870</td>\n",
       "      <td>сыграть свадьбу</td>\n",
       "    </tr>\n",
       "    <tr>\n",
       "      <th>5</th>\n",
       "      <td>0</td>\n",
       "      <td>-926.185831</td>\n",
       "      <td>27</td>\n",
       "      <td>высшее</td>\n",
       "      <td>0</td>\n",
       "      <td>гражданский брак</td>\n",
       "      <td>1</td>\n",
       "      <td>M</td>\n",
       "      <td>компаньон</td>\n",
       "      <td>0</td>\n",
       "      <td>255763.565419</td>\n",
       "      <td>покупка жилья</td>\n",
       "    </tr>\n",
       "    <tr>\n",
       "      <th>6</th>\n",
       "      <td>0</td>\n",
       "      <td>-2879.202052</td>\n",
       "      <td>43</td>\n",
       "      <td>высшее</td>\n",
       "      <td>0</td>\n",
       "      <td>женат / замужем</td>\n",
       "      <td>0</td>\n",
       "      <td>F</td>\n",
       "      <td>компаньон</td>\n",
       "      <td>0</td>\n",
       "      <td>240525.971920</td>\n",
       "      <td>операции с жильем</td>\n",
       "    </tr>\n",
       "    <tr>\n",
       "      <th>7</th>\n",
       "      <td>0</td>\n",
       "      <td>-152.779569</td>\n",
       "      <td>50</td>\n",
       "      <td>СРЕДНЕЕ</td>\n",
       "      <td>1</td>\n",
       "      <td>женат / замужем</td>\n",
       "      <td>0</td>\n",
       "      <td>M</td>\n",
       "      <td>сотрудник</td>\n",
       "      <td>0</td>\n",
       "      <td>135823.934197</td>\n",
       "      <td>образование</td>\n",
       "    </tr>\n",
       "    <tr>\n",
       "      <th>8</th>\n",
       "      <td>2</td>\n",
       "      <td>-6929.865299</td>\n",
       "      <td>35</td>\n",
       "      <td>ВЫСШЕЕ</td>\n",
       "      <td>0</td>\n",
       "      <td>гражданский брак</td>\n",
       "      <td>1</td>\n",
       "      <td>F</td>\n",
       "      <td>сотрудник</td>\n",
       "      <td>0</td>\n",
       "      <td>95856.832424</td>\n",
       "      <td>на проведение свадьбы</td>\n",
       "    </tr>\n",
       "    <tr>\n",
       "      <th>9</th>\n",
       "      <td>0</td>\n",
       "      <td>-2188.756445</td>\n",
       "      <td>41</td>\n",
       "      <td>среднее</td>\n",
       "      <td>1</td>\n",
       "      <td>женат / замужем</td>\n",
       "      <td>0</td>\n",
       "      <td>M</td>\n",
       "      <td>сотрудник</td>\n",
       "      <td>0</td>\n",
       "      <td>144425.938277</td>\n",
       "      <td>покупка жилья для семьи</td>\n",
       "    </tr>\n",
       "    <tr>\n",
       "      <th>10</th>\n",
       "      <td>2</td>\n",
       "      <td>-4171.483647</td>\n",
       "      <td>36</td>\n",
       "      <td>высшее</td>\n",
       "      <td>0</td>\n",
       "      <td>женат / замужем</td>\n",
       "      <td>0</td>\n",
       "      <td>M</td>\n",
       "      <td>компаньон</td>\n",
       "      <td>0</td>\n",
       "      <td>113943.491460</td>\n",
       "      <td>покупка недвижимости</td>\n",
       "    </tr>\n",
       "    <tr>\n",
       "      <th>11</th>\n",
       "      <td>0</td>\n",
       "      <td>-792.701887</td>\n",
       "      <td>40</td>\n",
       "      <td>среднее</td>\n",
       "      <td>1</td>\n",
       "      <td>женат / замужем</td>\n",
       "      <td>0</td>\n",
       "      <td>F</td>\n",
       "      <td>сотрудник</td>\n",
       "      <td>0</td>\n",
       "      <td>77069.234271</td>\n",
       "      <td>покупка коммерческой недвижимости</td>\n",
       "    </tr>\n",
       "    <tr>\n",
       "      <th>12</th>\n",
       "      <td>0</td>\n",
       "      <td>NaN</td>\n",
       "      <td>65</td>\n",
       "      <td>среднее</td>\n",
       "      <td>1</td>\n",
       "      <td>гражданский брак</td>\n",
       "      <td>1</td>\n",
       "      <td>M</td>\n",
       "      <td>пенсионер</td>\n",
       "      <td>0</td>\n",
       "      <td>NaN</td>\n",
       "      <td>сыграть свадьбу</td>\n",
       "    </tr>\n",
       "    <tr>\n",
       "      <th>13</th>\n",
       "      <td>0</td>\n",
       "      <td>-1846.641941</td>\n",
       "      <td>54</td>\n",
       "      <td>неоконченное высшее</td>\n",
       "      <td>2</td>\n",
       "      <td>женат / замужем</td>\n",
       "      <td>0</td>\n",
       "      <td>F</td>\n",
       "      <td>сотрудник</td>\n",
       "      <td>0</td>\n",
       "      <td>130458.228857</td>\n",
       "      <td>приобретение автомобиля</td>\n",
       "    </tr>\n",
       "    <tr>\n",
       "      <th>14</th>\n",
       "      <td>0</td>\n",
       "      <td>-1844.956182</td>\n",
       "      <td>56</td>\n",
       "      <td>высшее</td>\n",
       "      <td>0</td>\n",
       "      <td>гражданский брак</td>\n",
       "      <td>1</td>\n",
       "      <td>F</td>\n",
       "      <td>компаньон</td>\n",
       "      <td>1</td>\n",
       "      <td>165127.911772</td>\n",
       "      <td>покупка жилой недвижимости</td>\n",
       "    </tr>\n",
       "    <tr>\n",
       "      <th>15</th>\n",
       "      <td>1</td>\n",
       "      <td>-972.364419</td>\n",
       "      <td>26</td>\n",
       "      <td>среднее</td>\n",
       "      <td>1</td>\n",
       "      <td>женат / замужем</td>\n",
       "      <td>0</td>\n",
       "      <td>F</td>\n",
       "      <td>сотрудник</td>\n",
       "      <td>0</td>\n",
       "      <td>116820.904450</td>\n",
       "      <td>строительство собственной недвижимости</td>\n",
       "    </tr>\n",
       "    <tr>\n",
       "      <th>16</th>\n",
       "      <td>0</td>\n",
       "      <td>-1719.934226</td>\n",
       "      <td>35</td>\n",
       "      <td>среднее</td>\n",
       "      <td>1</td>\n",
       "      <td>женат / замужем</td>\n",
       "      <td>0</td>\n",
       "      <td>F</td>\n",
       "      <td>сотрудник</td>\n",
       "      <td>0</td>\n",
       "      <td>289202.704229</td>\n",
       "      <td>недвижимость</td>\n",
       "    </tr>\n",
       "    <tr>\n",
       "      <th>17</th>\n",
       "      <td>0</td>\n",
       "      <td>-2369.999720</td>\n",
       "      <td>33</td>\n",
       "      <td>высшее</td>\n",
       "      <td>0</td>\n",
       "      <td>гражданский брак</td>\n",
       "      <td>1</td>\n",
       "      <td>M</td>\n",
       "      <td>сотрудник</td>\n",
       "      <td>0</td>\n",
       "      <td>90410.586745</td>\n",
       "      <td>строительство недвижимости</td>\n",
       "    </tr>\n",
       "    <tr>\n",
       "      <th>18</th>\n",
       "      <td>0</td>\n",
       "      <td>400281.136913</td>\n",
       "      <td>53</td>\n",
       "      <td>среднее</td>\n",
       "      <td>1</td>\n",
       "      <td>вдовец / вдова</td>\n",
       "      <td>2</td>\n",
       "      <td>F</td>\n",
       "      <td>пенсионер</td>\n",
       "      <td>0</td>\n",
       "      <td>56823.777243</td>\n",
       "      <td>на покупку подержанного автомобиля</td>\n",
       "    </tr>\n",
       "    <tr>\n",
       "      <th>19</th>\n",
       "      <td>0</td>\n",
       "      <td>-10038.818549</td>\n",
       "      <td>48</td>\n",
       "      <td>СРЕДНЕЕ</td>\n",
       "      <td>1</td>\n",
       "      <td>в разводе</td>\n",
       "      <td>3</td>\n",
       "      <td>F</td>\n",
       "      <td>сотрудник</td>\n",
       "      <td>0</td>\n",
       "      <td>242831.107982</td>\n",
       "      <td>на покупку своего автомобиля</td>\n",
       "    </tr>\n",
       "  </tbody>\n",
       "</table>\n",
       "</div>"
      ],
      "text/plain": [
       "    children  days_employed  dob_years            education  education_id  \\\n",
       "0          1   -8437.673028         42               высшее             0   \n",
       "1          1   -4024.803754         36              среднее             1   \n",
       "2          0   -5623.422610         33              Среднее             1   \n",
       "3          3   -4124.747207         32              среднее             1   \n",
       "4          0  340266.072047         53              среднее             1   \n",
       "5          0    -926.185831         27               высшее             0   \n",
       "6          0   -2879.202052         43               высшее             0   \n",
       "7          0    -152.779569         50              СРЕДНЕЕ             1   \n",
       "8          2   -6929.865299         35               ВЫСШЕЕ             0   \n",
       "9          0   -2188.756445         41              среднее             1   \n",
       "10         2   -4171.483647         36               высшее             0   \n",
       "11         0    -792.701887         40              среднее             1   \n",
       "12         0            NaN         65              среднее             1   \n",
       "13         0   -1846.641941         54  неоконченное высшее             2   \n",
       "14         0   -1844.956182         56               высшее             0   \n",
       "15         1    -972.364419         26              среднее             1   \n",
       "16         0   -1719.934226         35              среднее             1   \n",
       "17         0   -2369.999720         33               высшее             0   \n",
       "18         0  400281.136913         53              среднее             1   \n",
       "19         0  -10038.818549         48              СРЕДНЕЕ             1   \n",
       "\n",
       "       family_status  family_status_id gender income_type  debt  \\\n",
       "0    женат / замужем                 0      F   сотрудник     0   \n",
       "1    женат / замужем                 0      F   сотрудник     0   \n",
       "2    женат / замужем                 0      M   сотрудник     0   \n",
       "3    женат / замужем                 0      M   сотрудник     0   \n",
       "4   гражданский брак                 1      F   пенсионер     0   \n",
       "5   гражданский брак                 1      M   компаньон     0   \n",
       "6    женат / замужем                 0      F   компаньон     0   \n",
       "7    женат / замужем                 0      M   сотрудник     0   \n",
       "8   гражданский брак                 1      F   сотрудник     0   \n",
       "9    женат / замужем                 0      M   сотрудник     0   \n",
       "10   женат / замужем                 0      M   компаньон     0   \n",
       "11   женат / замужем                 0      F   сотрудник     0   \n",
       "12  гражданский брак                 1      M   пенсионер     0   \n",
       "13   женат / замужем                 0      F   сотрудник     0   \n",
       "14  гражданский брак                 1      F   компаньон     1   \n",
       "15   женат / замужем                 0      F   сотрудник     0   \n",
       "16   женат / замужем                 0      F   сотрудник     0   \n",
       "17  гражданский брак                 1      M   сотрудник     0   \n",
       "18    вдовец / вдова                 2      F   пенсионер     0   \n",
       "19         в разводе                 3      F   сотрудник     0   \n",
       "\n",
       "     total_income                                 purpose  \n",
       "0   253875.639453                           покупка жилья  \n",
       "1   112080.014102                 приобретение автомобиля  \n",
       "2   145885.952297                           покупка жилья  \n",
       "3   267628.550329              дополнительное образование  \n",
       "4   158616.077870                         сыграть свадьбу  \n",
       "5   255763.565419                           покупка жилья  \n",
       "6   240525.971920                       операции с жильем  \n",
       "7   135823.934197                             образование  \n",
       "8    95856.832424                   на проведение свадьбы  \n",
       "9   144425.938277                 покупка жилья для семьи  \n",
       "10  113943.491460                    покупка недвижимости  \n",
       "11   77069.234271       покупка коммерческой недвижимости  \n",
       "12            NaN                         сыграть свадьбу  \n",
       "13  130458.228857                 приобретение автомобиля  \n",
       "14  165127.911772              покупка жилой недвижимости  \n",
       "15  116820.904450  строительство собственной недвижимости  \n",
       "16  289202.704229                            недвижимость  \n",
       "17   90410.586745              строительство недвижимости  \n",
       "18   56823.777243      на покупку подержанного автомобиля  \n",
       "19  242831.107982            на покупку своего автомобиля  "
      ]
     },
     "execution_count": 2,
     "metadata": {},
     "output_type": "execute_result"
    }
   ],
   "source": [
    "data.head(20)"
   ]
  },
  {
   "cell_type": "markdown",
   "id": "1c12e233",
   "metadata": {
    "deletable": false,
    "editable": false,
    "id": "1c12e233",
    "tags": [
     "start_task"
    ]
   },
   "source": [
    "**Задание 3. Выведите основную информацию о датафрейме с помощью метода `info()`.**"
   ]
  },
  {
   "cell_type": "code",
   "execution_count": 3,
   "id": "2b757bca",
   "metadata": {
    "id": "2b757bca"
   },
   "outputs": [
    {
     "name": "stdout",
     "output_type": "stream",
     "text": [
      "<class 'pandas.core.frame.DataFrame'>\n",
      "RangeIndex: 21525 entries, 0 to 21524\n",
      "Data columns (total 12 columns):\n",
      " #   Column            Non-Null Count  Dtype  \n",
      "---  ------            --------------  -----  \n",
      " 0   children          21525 non-null  int64  \n",
      " 1   days_employed     19351 non-null  float64\n",
      " 2   dob_years         21525 non-null  int64  \n",
      " 3   education         21525 non-null  object \n",
      " 4   education_id      21525 non-null  int64  \n",
      " 5   family_status     21525 non-null  object \n",
      " 6   family_status_id  21525 non-null  int64  \n",
      " 7   gender            21525 non-null  object \n",
      " 8   income_type       21525 non-null  object \n",
      " 9   debt              21525 non-null  int64  \n",
      " 10  total_income      19351 non-null  float64\n",
      " 11  purpose           21525 non-null  object \n",
      "dtypes: float64(2), int64(5), object(5)\n",
      "memory usage: 2.0+ MB\n"
     ]
    }
   ],
   "source": [
    "data.info()"
   ]
  },
  {
   "cell_type": "markdown",
   "id": "333ec665",
   "metadata": {
    "deletable": false,
    "editable": false,
    "id": "333ec665"
   },
   "source": [
    "## Предобработка данных"
   ]
  },
  {
   "cell_type": "markdown",
   "id": "02d92d53",
   "metadata": {
    "deletable": false,
    "editable": false,
    "id": "02d92d53"
   },
   "source": [
    "### Удаление пропусков"
   ]
  },
  {
   "cell_type": "markdown",
   "id": "cd84967c",
   "metadata": {
    "deletable": false,
    "editable": false,
    "id": "cd84967c",
    "tags": [
     "start_task"
    ]
   },
   "source": [
    "**Задание 4. Выведите количество пропущенных значений для каждого столбца. Используйте комбинацию двух методов.**"
   ]
  },
  {
   "cell_type": "code",
   "execution_count": 4,
   "id": "7f9b2309",
   "metadata": {
    "id": "7f9b2309"
   },
   "outputs": [
    {
     "data": {
      "text/plain": [
       "children               0\n",
       "days_employed       2174\n",
       "dob_years              0\n",
       "education              0\n",
       "education_id           0\n",
       "family_status          0\n",
       "family_status_id       0\n",
       "gender                 0\n",
       "income_type            0\n",
       "debt                   0\n",
       "total_income        2174\n",
       "purpose                0\n",
       "dtype: int64"
      ]
     },
     "execution_count": 4,
     "metadata": {},
     "output_type": "execute_result"
    }
   ],
   "source": [
    "data.isna().sum()"
   ]
  },
  {
   "cell_type": "markdown",
   "id": "db86e27b",
   "metadata": {
    "deletable": false,
    "editable": false,
    "id": "db86e27b",
    "tags": [
     "start_task"
    ]
   },
   "source": [
    "**Задание 5. В двух столбцах есть пропущенные значения. Один из них — `days_employed`. Пропуски в этом столбце вы обработаете на следующем этапе. Другой столбец с пропущенными значениями — `total_income` — хранит данные о доходах. На сумму дохода сильнее всего влияет тип занятости, поэтому заполнить пропуски в этом столбце нужно медианным значением по каждому типу из столбца `income_type`. Например, у человека с типом занятости `сотрудник` пропуск в столбце `total_income` должен быть заполнен медианным доходом среди всех записей с тем же типом.**"
   ]
  },
  {
   "cell_type": "code",
   "execution_count": 5,
   "id": "42006a93",
   "metadata": {
    "id": "42006a93"
   },
   "outputs": [
    {
     "data": {
      "text/plain": [
       "0"
      ]
     },
     "execution_count": 5,
     "metadata": {},
     "output_type": "execute_result"
    }
   ],
   "source": [
    "for it in data['income_type'].unique():\n",
    "    data.loc[(data['income_type'] == it) & (data['total_income'].isna()), 'total_income'] = \\\n",
    "    data.loc[(data['income_type'] == it), 'total_income'].median()\n",
    "data['total_income'].isna().sum()"
   ]
  },
  {
   "cell_type": "markdown",
   "id": "89da5ece",
   "metadata": {
    "deletable": false,
    "editable": false,
    "id": "89da5ece"
   },
   "source": [
    "### Обработка аномальных значений"
   ]
  },
  {
   "cell_type": "markdown",
   "id": "57964554",
   "metadata": {
    "deletable": false,
    "editable": false,
    "id": "57964554",
    "tags": [
     "start_task"
    ]
   },
   "source": [
    "**Задание 6. В данных могут встречаться артефакты (аномалии) — значения, которые не отражают действительность и появились по какой-то ошибке. Таким артефактом будет отрицательное количество дней трудового стажа в столбце `days_employed`. Для реальных данных это нормально. Обработайте значения в этом столбце: замените все отрицательные значения положительными с помощью метода `abs()`.**"
   ]
  },
  {
   "cell_type": "code",
   "execution_count": 6,
   "id": "f6f055bf",
   "metadata": {
    "id": "f6f055bf"
   },
   "outputs": [],
   "source": [
    "data['days_employed'] = abs(data['days_employed'])"
   ]
  },
  {
   "cell_type": "markdown",
   "id": "6107dd2f",
   "metadata": {
    "deletable": false,
    "editable": false,
    "id": "6107dd2f",
    "tags": [
     "start_task"
    ]
   },
   "source": [
    "**Задание 7. Для каждого типа занятости выведите медианное значение трудового стажа `days_employed` в днях.**"
   ]
  },
  {
   "cell_type": "code",
   "execution_count": 7,
   "id": "85a5faf6",
   "metadata": {
    "id": "85a5faf6"
   },
   "outputs": [
    {
     "data": {
      "text/plain": [
       "income_type\n",
       "безработный        366413.652744\n",
       "в декрете            3296.759962\n",
       "госслужащий          2689.368353\n",
       "компаньон            1547.382223\n",
       "пенсионер          365213.306266\n",
       "предприниматель       520.848083\n",
       "сотрудник            1574.202821\n",
       "студент               578.751554\n",
       "Name: days_employed, dtype: float64"
      ]
     },
     "execution_count": 7,
     "metadata": {},
     "output_type": "execute_result"
    }
   ],
   "source": [
    "data.groupby('income_type')['days_employed'].median()"
   ]
  },
  {
   "cell_type": "markdown",
   "id": "38d1a030",
   "metadata": {
    "deletable": false,
    "editable": false,
    "id": "38d1a030"
   },
   "source": [
    "У двух типов (безработные и пенсионеры) получатся аномально большие значения. Исправить такие значения сложно, поэтому оставьте их как есть. Тем более этот столбец не понадобится вам для исследования."
   ]
  },
  {
   "cell_type": "markdown",
   "id": "d8a9f147",
   "metadata": {
    "deletable": false,
    "editable": false,
    "id": "d8a9f147",
    "tags": [
     "start_task"
    ]
   },
   "source": [
    "**Задание 8. Выведите перечень уникальных значений столбца `children`.**"
   ]
  },
  {
   "cell_type": "code",
   "execution_count": 8,
   "id": "ef5056eb",
   "metadata": {
    "id": "ef5056eb"
   },
   "outputs": [
    {
     "data": {
      "text/plain": [
       "array([ 1,  0,  3,  2, -1,  4, 20,  5], dtype=int64)"
      ]
     },
     "execution_count": 8,
     "metadata": {},
     "output_type": "execute_result"
    }
   ],
   "source": [
    "data['children'].unique()"
   ]
  },
  {
   "cell_type": "markdown",
   "id": "40b9ebf2",
   "metadata": {
    "deletable": false,
    "editable": false,
    "id": "40b9ebf2",
    "tags": [
     "start_task"
    ]
   },
   "source": [
    "**Задание 9. В столбце `children` есть два аномальных значения. Удалите строки, в которых встречаются такие аномальные значения из датафрейма `data`.**"
   ]
  },
  {
   "cell_type": "code",
   "execution_count": 9,
   "id": "3ff9801d",
   "metadata": {
    "id": "3ff9801d"
   },
   "outputs": [],
   "source": [
    "data = data[(data['children'] != -1) & (data['children'] != 20)]"
   ]
  },
  {
   "cell_type": "markdown",
   "id": "bbc4d0ce",
   "metadata": {
    "deletable": false,
    "editable": false,
    "id": "bbc4d0ce",
    "tags": [
     "start_task"
    ]
   },
   "source": [
    "**Задание 10. Ещё раз выведите перечень уникальных значений столбца `children`, чтобы убедиться, что артефакты удалены.**"
   ]
  },
  {
   "cell_type": "code",
   "execution_count": 10,
   "id": "ad4fa8b7",
   "metadata": {
    "id": "ad4fa8b7"
   },
   "outputs": [
    {
     "data": {
      "text/plain": [
       "array([1, 0, 3, 2, 4, 5], dtype=int64)"
      ]
     },
     "execution_count": 10,
     "metadata": {},
     "output_type": "execute_result"
    }
   ],
   "source": [
    "data['children'].unique()"
   ]
  },
  {
   "cell_type": "markdown",
   "id": "75440b63",
   "metadata": {
    "deletable": false,
    "editable": false,
    "id": "75440b63"
   },
   "source": [
    "### Удаление пропусков (продолжение)"
   ]
  },
  {
   "cell_type": "markdown",
   "id": "f4ea573f",
   "metadata": {
    "deletable": false,
    "editable": false,
    "id": "f4ea573f",
    "tags": [
     "start_task"
    ]
   },
   "source": [
    "**Задание 11. Заполните пропуски в столбце `days_employed` медианными значениями по каждому типу занятости `income_type`.**"
   ]
  },
  {
   "cell_type": "code",
   "execution_count": 11,
   "id": "af6b1a7e",
   "metadata": {
    "id": "af6b1a7e"
   },
   "outputs": [],
   "source": [
    "for it in data['income_type'].unique():\n",
    "    data.loc[(data['income_type'] == it) & (data['days_employed'].isna()), 'days_employed'] = \\\n",
    "    data.loc[(data['income_type'] == it), 'days_employed'].median()"
   ]
  },
  {
   "cell_type": "markdown",
   "id": "2753f40d",
   "metadata": {
    "deletable": false,
    "editable": false,
    "id": "2753f40d",
    "tags": [
     "start_task"
    ]
   },
   "source": [
    "**Задание 12. Убедитесь, что все пропуски заполнены. Проверьте себя и ещё раз выведите количество пропущенных значений для каждого столбца с помощью двух методов.**"
   ]
  },
  {
   "cell_type": "code",
   "execution_count": 12,
   "id": "55f78bc2",
   "metadata": {
    "id": "55f78bc2"
   },
   "outputs": [
    {
     "data": {
      "text/plain": [
       "children            0\n",
       "days_employed       0\n",
       "dob_years           0\n",
       "education           0\n",
       "education_id        0\n",
       "family_status       0\n",
       "family_status_id    0\n",
       "gender              0\n",
       "income_type         0\n",
       "debt                0\n",
       "total_income        0\n",
       "purpose             0\n",
       "dtype: int64"
      ]
     },
     "execution_count": 12,
     "metadata": {},
     "output_type": "execute_result"
    }
   ],
   "source": [
    "\n",
    "data.isna().sum()"
   ]
  },
  {
   "cell_type": "markdown",
   "id": "ddc81e43",
   "metadata": {
    "deletable": false,
    "editable": false,
    "id": "ddc81e43"
   },
   "source": [
    "### Изменение типов данных"
   ]
  },
  {
   "cell_type": "markdown",
   "id": "42d19d24",
   "metadata": {
    "deletable": false,
    "editable": false,
    "id": "42d19d24",
    "tags": [
     "start_task"
    ]
   },
   "source": [
    "**Задание 13. Замените вещественный тип данных в столбце `total_income` на целочисленный с помощью метода `astype()`.**"
   ]
  },
  {
   "cell_type": "code",
   "execution_count": 13,
   "id": "920b65ad",
   "metadata": {
    "id": "920b65ad"
   },
   "outputs": [],
   "source": [
    "data['total_income'] = data['total_income'].astype('int')"
   ]
  },
  {
   "cell_type": "markdown",
   "id": "80c420ba",
   "metadata": {
    "deletable": false,
    "editable": false,
    "id": "80c420ba"
   },
   "source": [
    "### Обработка дубликатов"
   ]
  },
  {
   "cell_type": "markdown",
   "id": "dc587695",
   "metadata": {
    "deletable": false,
    "editable": false,
    "id": "dc587695",
    "tags": [
     "start_task"
    ]
   },
   "source": [
    "**Задание 14. Выведите на экран количество строк-дубликатов в данных. Если такие строки присутствуют, удалите их.**"
   ]
  },
  {
   "cell_type": "code",
   "execution_count": 14,
   "id": "a779f243",
   "metadata": {
    "id": "8575fe05"
   },
   "outputs": [],
   "source": [
    "data['education'] = data['education'].str.lower()"
   ]
  },
  {
   "cell_type": "markdown",
   "id": "9771a76c",
   "metadata": {
    "deletable": false,
    "editable": false,
    "id": "9771a76c",
    "tags": [
     "start_task"
    ]
   },
   "source": [
    "**Задание 15. Обработайте неявные дубликаты в столбце `education`. В этом столбце есть одни и те же значения, но записанные по-разному: с использованием заглавных и строчных букв. Приведите их к нижнему регистру.**"
   ]
  },
  {
   "cell_type": "code",
   "execution_count": 15,
   "id": "2dec560b",
   "metadata": {},
   "outputs": [
    {
     "data": {
      "text/plain": [
       "71"
      ]
     },
     "execution_count": 15,
     "metadata": {},
     "output_type": "execute_result"
    }
   ],
   "source": [
    "data.duplicated().sum()"
   ]
  },
  {
   "cell_type": "code",
   "execution_count": 16,
   "id": "a9f8e2bf",
   "metadata": {
    "id": "a9f8e2bf"
   },
   "outputs": [],
   "source": [
    "data = data.drop_duplicates()"
   ]
  },
  {
   "cell_type": "markdown",
   "id": "9904cf55",
   "metadata": {
    "deletable": false,
    "editable": false,
    "id": "9904cf55"
   },
   "source": [
    "### Категоризация данных"
   ]
  },
  {
   "cell_type": "markdown",
   "id": "72fcc8a2",
   "metadata": {
    "deletable": false,
    "editable": false,
    "id": "72fcc8a2",
    "tags": [
     "start_task"
    ]
   },
   "source": [
    "**Задание 16. На основании диапазонов, указанных ниже, создайте в датафрейме `data` столбец `total_income_category` с категориями:**\n",
    "\n",
    "- 0–30000 — `'E'`;\n",
    "- 30001–50000 — `'D'`;\n",
    "- 50001–200000 — `'C'`;\n",
    "- 200001–1000000 — `'B'`;\n",
    "- 1000001 и выше — `'A'`.\n",
    "\n",
    "\n",
    "**Например, кредитополучателю с доходом 25000 нужно назначить категорию `'E'`, а клиенту, получающему 235000, — `'B'`. Используйте собственную функцию с именем `categorize_income()` и метод `apply()`.**"
   ]
  },
  {
   "cell_type": "code",
   "execution_count": 17,
   "id": "e1771346",
   "metadata": {
    "id": "e1771346"
   },
   "outputs": [],
   "source": [
    "def categorize_income(total_income):\n",
    "    if  0 <= total_income <= 30_000:\n",
    "        return 'E'\n",
    "    elif 30_001 <= total_income <= 50_000:\n",
    "        return 'D'\n",
    "    elif 50_001 <= total_income <= 200_000:\n",
    "        return 'C'\n",
    "    elif 200_001 <= total_income <= 1_000_000:\n",
    "        return 'B'\n",
    "    elif 1_000_001 <= total_income:\n",
    "        return 'A'\n",
    "    else:\n",
    "        return 'not categori'"
   ]
  },
  {
   "cell_type": "code",
   "execution_count": 18,
   "id": "d5f3586d",
   "metadata": {
    "id": "d5f3586d"
   },
   "outputs": [],
   "source": [
    "data['total_income_category'] = data['total_income'].apply(categorize_income)"
   ]
  },
  {
   "cell_type": "markdown",
   "id": "dde49b5c",
   "metadata": {
    "deletable": false,
    "editable": false,
    "id": "dde49b5c",
    "tags": [
     "start_task"
    ]
   },
   "source": [
    "**Задание 17. Выведите на экран перечень уникальных целей взятия кредита из столбца `purpose`.**"
   ]
  },
  {
   "cell_type": "code",
   "execution_count": 19,
   "id": "f67ce9b3",
   "metadata": {
    "id": "f67ce9b3"
   },
   "outputs": [
    {
     "data": {
      "text/plain": [
       "array(['покупка жилья', 'приобретение автомобиля',\n",
       "       'дополнительное образование', 'сыграть свадьбу',\n",
       "       'операции с жильем', 'образование', 'на проведение свадьбы',\n",
       "       'покупка жилья для семьи', 'покупка недвижимости',\n",
       "       'покупка коммерческой недвижимости', 'покупка жилой недвижимости',\n",
       "       'строительство собственной недвижимости', 'недвижимость',\n",
       "       'строительство недвижимости', 'на покупку подержанного автомобиля',\n",
       "       'на покупку своего автомобиля',\n",
       "       'операции с коммерческой недвижимостью',\n",
       "       'строительство жилой недвижимости', 'жилье',\n",
       "       'операции со своей недвижимостью', 'автомобили',\n",
       "       'заняться образованием', 'сделка с подержанным автомобилем',\n",
       "       'получение образования', 'автомобиль', 'свадьба',\n",
       "       'получение дополнительного образования', 'покупка своего жилья',\n",
       "       'операции с недвижимостью', 'получение высшего образования',\n",
       "       'свой автомобиль', 'сделка с автомобилем',\n",
       "       'профильное образование', 'высшее образование',\n",
       "       'покупка жилья для сдачи', 'на покупку автомобиля', 'ремонт жилью',\n",
       "       'заняться высшим образованием'], dtype=object)"
      ]
     },
     "execution_count": 19,
     "metadata": {},
     "output_type": "execute_result"
    }
   ],
   "source": [
    "data['purpose'].unique()"
   ]
  },
  {
   "cell_type": "markdown",
   "id": "85d0aef0",
   "metadata": {
    "deletable": false,
    "editable": false,
    "id": "85d0aef0",
    "tags": [
     "start_task"
    ]
   },
   "source": [
    "**Задание 18. Создайте функцию, которая на основании данных из столбца `purpose` сформирует новый столбец `purpose_category`, в который войдут следующие категории:**\n",
    "\n",
    "- `'операции с автомобилем'`,\n",
    "- `'операции с недвижимостью'`,\n",
    "- `'проведение свадьбы'`,\n",
    "- `'получение образования'`.\n",
    "\n",
    "**Например, если в столбце `purpose` находится подстрока `'на покупку автомобиля'`, то в столбце `purpose_category` должна появиться строка `'операции с автомобилем'`.**\n",
    "\n",
    "**Используйте собственную функцию с именем `categorize_purpose()` и метод `apply()`. Изучите данные в столбце `purpose` и определите, какие подстроки помогут вам правильно определить категорию.**"
   ]
  },
  {
   "cell_type": "code",
   "execution_count": 20,
   "id": "e149fab4",
   "metadata": {
    "id": "e149fab4"
   },
   "outputs": [],
   "source": [
    "def categorize_purpose(purpose):\n",
    "    if 'свадьб' in purpose:\n",
    "        return 'проведение свадьбы'\n",
    "    elif 'автомоб' in purpose:\n",
    "        return 'операции с автомобилем'\n",
    "    elif 'образов' in purpose:\n",
    "        return 'получение образования'\n",
    "    elif 'жиль' in purpose or 'недвижим' in purpose:\n",
    "        return 'операции с недвижимостью'\n",
    "    else:\n",
    "        return 'not categori'"
   ]
  },
  {
   "cell_type": "code",
   "execution_count": 21,
   "id": "bf36e69b",
   "metadata": {
    "id": "bf36e69b"
   },
   "outputs": [],
   "source": [
    "data['purpose_category'] = data['purpose'].apply(categorize_purpose)"
   ]
  },
  {
   "cell_type": "markdown",
   "id": "23cb5064",
   "metadata": {},
   "source": [
    "# ВТОРАЯ ЧАСТЬ"
   ]
  },
  {
   "cell_type": "markdown",
   "id": "db0fbf79",
   "metadata": {},
   "source": [
    "## Исследование данных и  интерпретация результатов"
   ]
  },
  {
   "cell_type": "markdown",
   "id": "ae1fb693",
   "metadata": {},
   "source": [
    "Все вопросы в данном шаге требуют от нас группировать по одному критерию и определять, влияет ли этот критерий на возврат кредита в срок или есть просрочка. Реализуем это следующим образом с помощью сводных таблиц. Разделим наших заемщиков по критерию на группы. Посмотрим, сколько всего былы выдано кредитов по каждой группе, а так же количество просрочек по кредитам. Так как абсолютные значения очень разняться, то правильнее будет смотреть на процентные отношения просрочек по кредитам к общему числу выданных кредитов.\n",
    "Одно и то же действие повторяется, поэтуму реализуем фунцию."
   ]
  },
  {
   "cell_type": "code",
   "execution_count": 22,
   "id": "3f61f3fc",
   "metadata": {},
   "outputs": [],
   "source": [
    "def return_pivot(data, groupby, name_group='Группировка', byby='Процент просрочек'):\n",
    "    data_pivot = data.pivot_table(index=groupby, values='debt', \n",
    "                              aggfunc=['count', 'sum', lambda x: round(100 * x.sum() / x.count(), 2)])\n",
    "    data_pivot = data_pivot.reset_index()\n",
    "    data_pivot.columns = [name_group, 'Выдано кредитов', 'Количество просрочек', 'Процент просрочек']\n",
    "    data_pivot = data_pivot.sort_values(by=byby).reset_index(drop=True)\n",
    "    return data_pivot"
   ]
  },
  {
   "cell_type": "markdown",
   "id": "bac46659",
   "metadata": {},
   "source": [
    "Для наглядности придадиим цифрам объема и цвета."
   ]
  },
  {
   "cell_type": "code",
   "execution_count": 23,
   "id": "2394fff6",
   "metadata": {},
   "outputs": [],
   "source": [
    "import seaborn"
   ]
  },
  {
   "cell_type": "markdown",
   "id": "6c1722aa",
   "metadata": {},
   "source": [
    "### Задание 19. Есть ли зависимость между количеством детей и возвратом кредита в срок?"
   ]
  },
  {
   "cell_type": "code",
   "execution_count": 24,
   "id": "043da1c9",
   "metadata": {},
   "outputs": [
    {
     "data": {
      "text/html": [
       "<div>\n",
       "<style scoped>\n",
       "    .dataframe tbody tr th:only-of-type {\n",
       "        vertical-align: middle;\n",
       "    }\n",
       "\n",
       "    .dataframe tbody tr th {\n",
       "        vertical-align: top;\n",
       "    }\n",
       "\n",
       "    .dataframe thead th {\n",
       "        text-align: right;\n",
       "    }\n",
       "</style>\n",
       "<table border=\"1\" class=\"dataframe\">\n",
       "  <thead>\n",
       "    <tr style=\"text-align: right;\">\n",
       "      <th></th>\n",
       "      <th>Количество детей</th>\n",
       "      <th>Выдано кредитов</th>\n",
       "      <th>Количество просрочек</th>\n",
       "      <th>Процент просрочек</th>\n",
       "    </tr>\n",
       "  </thead>\n",
       "  <tbody>\n",
       "    <tr>\n",
       "      <th>0</th>\n",
       "      <td>0</td>\n",
       "      <td>14091</td>\n",
       "      <td>1063</td>\n",
       "      <td>7.54</td>\n",
       "    </tr>\n",
       "    <tr>\n",
       "      <th>1</th>\n",
       "      <td>1</td>\n",
       "      <td>4808</td>\n",
       "      <td>444</td>\n",
       "      <td>9.23</td>\n",
       "    </tr>\n",
       "    <tr>\n",
       "      <th>2</th>\n",
       "      <td>2</td>\n",
       "      <td>2052</td>\n",
       "      <td>194</td>\n",
       "      <td>9.45</td>\n",
       "    </tr>\n",
       "    <tr>\n",
       "      <th>3</th>\n",
       "      <td>3</td>\n",
       "      <td>330</td>\n",
       "      <td>27</td>\n",
       "      <td>8.18</td>\n",
       "    </tr>\n",
       "    <tr>\n",
       "      <th>4</th>\n",
       "      <td>4</td>\n",
       "      <td>41</td>\n",
       "      <td>4</td>\n",
       "      <td>9.76</td>\n",
       "    </tr>\n",
       "    <tr>\n",
       "      <th>5</th>\n",
       "      <td>5</td>\n",
       "      <td>9</td>\n",
       "      <td>0</td>\n",
       "      <td>0.00</td>\n",
       "    </tr>\n",
       "  </tbody>\n",
       "</table>\n",
       "</div>"
      ],
      "text/plain": [
       "   Количество детей  Выдано кредитов  Количество просрочек  Процент просрочек\n",
       "0                 0            14091                  1063               7.54\n",
       "1                 1             4808                   444               9.23\n",
       "2                 2             2052                   194               9.45\n",
       "3                 3              330                    27               8.18\n",
       "4                 4               41                     4               9.76\n",
       "5                 5                9                     0               0.00"
      ]
     },
     "execution_count": 24,
     "metadata": {},
     "output_type": "execute_result"
    }
   ],
   "source": [
    "data_pivot = return_pivot(data, groupby='children', name_group='Количество детей', byby='Количество детей')\n",
    "data_pivot"
   ]
  },
  {
   "cell_type": "markdown",
   "id": "e10cbf5c",
   "metadata": {},
   "source": [
    "Для наглядности придадиим цифрам объема и цвета."
   ]
  },
  {
   "cell_type": "code",
   "execution_count": 25,
   "id": "cf4f308b",
   "metadata": {
    "scrolled": true
   },
   "outputs": [
    {
     "data": {
      "image/png": "[encoded data removed]",
      "text/plain": [
       "<Figure size 640x480 with 1 Axes>"
      ]
     },
     "metadata": {},
     "output_type": "display_data"
    }
   ],
   "source": [
    "seaborn.barplot(x=data_pivot['Количество детей'], y=data_pivot['Процент просрочек']);"
   ]
  },
  {
   "cell_type": "code",
   "execution_count": 26,
   "id": "331e8dec",
   "metadata": {},
   "outputs": [
    {
     "data": {
      "image/png": "[encoded data removed]",
      "text/plain": [
       "<Figure size 640x480 with 1 Axes>"
      ]
     },
     "metadata": {},
     "output_type": "display_data"
    }
   ],
   "source": [
    "seaborn.scatterplot(x=data_pivot['Количество детей'], y=data_pivot['Процент просрочек']);"
   ]
  },
  {
   "cell_type": "markdown",
   "id": "49827e2a",
   "metadata": {},
   "source": [
    "Согласно приведенных выше таблицы и столбчатой диаграмме можно заметить, что в группе с 5 детьми отсутствуют просроченные кредиты. Скорее всего эта аномалия, связанная с малой мощностью выборки в этой группе (всего 9 человек) по сравнению с остальными группами, поэтому при формировании вывода данную группу учитывть не будем.\n",
    "\n",
    "В основном, наблюдается рост просрочек по кредитам от 7,54% у бездетных до 9,76% у семей с 4 детьми. Данная картина хорошо проссматривается на диаграмме рассеивания и соответствует положительной корреляции между количеством детей и вероятностью иметь просрочку по кредиту.\n",
    "\n",
    "Хотя у семей с 3 детьми процент просроченных кредитов выбивается из общей картины. Что это? Материнский капитал или детей в этих семьях заставляют работать? \n",
    "\n",
    "Можно сделать вывод, что с увеличением количества детей в семье, вероятность иметь задолженность по кредиту возрастает."
   ]
  },
  {
   "cell_type": "markdown",
   "id": "daef14fc",
   "metadata": {},
   "source": [
    "### Задание 20. Есть ли зависимость между семейным положением и возвратом кредита в срок?"
   ]
  },
  {
   "cell_type": "code",
   "execution_count": 27,
   "id": "40b218bd",
   "metadata": {},
   "outputs": [
    {
     "data": {
      "text/html": [
       "<div>\n",
       "<style scoped>\n",
       "    .dataframe tbody tr th:only-of-type {\n",
       "        vertical-align: middle;\n",
       "    }\n",
       "\n",
       "    .dataframe tbody tr th {\n",
       "        vertical-align: top;\n",
       "    }\n",
       "\n",
       "    .dataframe thead th {\n",
       "        text-align: right;\n",
       "    }\n",
       "</style>\n",
       "<table border=\"1\" class=\"dataframe\">\n",
       "  <thead>\n",
       "    <tr style=\"text-align: right;\">\n",
       "      <th></th>\n",
       "      <th>Семейное положение</th>\n",
       "      <th>Выдано кредитов</th>\n",
       "      <th>Количество просрочек</th>\n",
       "      <th>Процент просрочек</th>\n",
       "    </tr>\n",
       "  </thead>\n",
       "  <tbody>\n",
       "    <tr>\n",
       "      <th>0</th>\n",
       "      <td>вдовец / вдова</td>\n",
       "      <td>951</td>\n",
       "      <td>63</td>\n",
       "      <td>6.62</td>\n",
       "    </tr>\n",
       "    <tr>\n",
       "      <th>1</th>\n",
       "      <td>в разводе</td>\n",
       "      <td>1189</td>\n",
       "      <td>84</td>\n",
       "      <td>7.06</td>\n",
       "    </tr>\n",
       "    <tr>\n",
       "      <th>2</th>\n",
       "      <td>женат / замужем</td>\n",
       "      <td>12261</td>\n",
       "      <td>927</td>\n",
       "      <td>7.56</td>\n",
       "    </tr>\n",
       "    <tr>\n",
       "      <th>3</th>\n",
       "      <td>гражданский брак</td>\n",
       "      <td>4134</td>\n",
       "      <td>385</td>\n",
       "      <td>9.31</td>\n",
       "    </tr>\n",
       "    <tr>\n",
       "      <th>4</th>\n",
       "      <td>Не женат / не замужем</td>\n",
       "      <td>2796</td>\n",
       "      <td>273</td>\n",
       "      <td>9.76</td>\n",
       "    </tr>\n",
       "  </tbody>\n",
       "</table>\n",
       "</div>"
      ],
      "text/plain": [
       "      Семейное положение  Выдано кредитов  Количество просрочек  \\\n",
       "0         вдовец / вдова              951                    63   \n",
       "1              в разводе             1189                    84   \n",
       "2        женат / замужем            12261                   927   \n",
       "3       гражданский брак             4134                   385   \n",
       "4  Не женат / не замужем             2796                   273   \n",
       "\n",
       "   Процент просрочек  \n",
       "0               6.62  \n",
       "1               7.06  \n",
       "2               7.56  \n",
       "3               9.31  \n",
       "4               9.76  "
      ]
     },
     "execution_count": 27,
     "metadata": {},
     "output_type": "execute_result"
    }
   ],
   "source": [
    "data_pivot = return_pivot(data, groupby='family_status', name_group='Семейное положение')\n",
    "data_pivot"
   ]
  },
  {
   "cell_type": "markdown",
   "id": "8cf36efa",
   "metadata": {},
   "source": [
    "Для наглядности придадиим цифрам объема и цвета."
   ]
  },
  {
   "cell_type": "code",
   "execution_count": 28,
   "id": "89ea33f5",
   "metadata": {
    "scrolled": false
   },
   "outputs": [
    {
     "data": {
      "image/png": "[encoded data removed]",
      "text/plain": [
       "<Figure size 640x480 with 1 Axes>"
      ]
     },
     "metadata": {},
     "output_type": "display_data"
    }
   ],
   "source": [
    "seaborn.barplot(y=data_pivot['Семейное положение'], x=data_pivot['Процент просрочек']);"
   ]
  },
  {
   "cell_type": "markdown",
   "id": "bd8f3731",
   "metadata": {},
   "source": [
    "Удивительно, что категория людей 'вдовец / вдова' текущей выборки более благонадежны, чем люди из категории 'Не женат / не замужем' никогда не состаявшие в отношениях. Возможно, в данном случае играет роль еще какой-либо фактор, например возраст?\n",
    "\n",
    "Семейное положение нельзя оставлять без внимания и обязательно учитывать при выдаче кредита.\n",
    "\n",
    "Лучшая категория заемщиков: люди, ранее состоявшие в официальных отношениях. А с заемщиками, никогда не состаявшими в отношениях, нужно быть аккуратно."
   ]
  },
  {
   "cell_type": "markdown",
   "id": "9cffe825",
   "metadata": {},
   "source": [
    "### Задание 21. Есть ли зависимость между уровнем дохода и возвратом кредита в срок?"
   ]
  },
  {
   "cell_type": "markdown",
   "id": "49f249c0",
   "metadata": {},
   "source": [
    "Ранее мы разделили людей по уровням дохода, вот эти категории:\n",
    "- 0–30000 — `'E'`;\n",
    "- 30001–50000 — `'D'`;\n",
    "- 50001–200000 — `'C'`;\n",
    "- 200001–1000000 — `'B'`;\n",
    "- 1000001 и выше — `'A'`.\n",
    "\n",
    "Так же построим по этим категорям таблицу с процентом просрочек."
   ]
  },
  {
   "cell_type": "code",
   "execution_count": 29,
   "id": "5511acf3",
   "metadata": {},
   "outputs": [
    {
     "data": {
      "text/html": [
       "<div>\n",
       "<style scoped>\n",
       "    .dataframe tbody tr th:only-of-type {\n",
       "        vertical-align: middle;\n",
       "    }\n",
       "\n",
       "    .dataframe tbody tr th {\n",
       "        vertical-align: top;\n",
       "    }\n",
       "\n",
       "    .dataframe thead th {\n",
       "        text-align: right;\n",
       "    }\n",
       "</style>\n",
       "<table border=\"1\" class=\"dataframe\">\n",
       "  <thead>\n",
       "    <tr style=\"text-align: right;\">\n",
       "      <th></th>\n",
       "      <th>Уровень дохода</th>\n",
       "      <th>Выдано кредитов</th>\n",
       "      <th>Количество просрочек</th>\n",
       "      <th>Процент просрочек</th>\n",
       "    </tr>\n",
       "  </thead>\n",
       "  <tbody>\n",
       "    <tr>\n",
       "      <th>0</th>\n",
       "      <td>D</td>\n",
       "      <td>349</td>\n",
       "      <td>21</td>\n",
       "      <td>6.02</td>\n",
       "    </tr>\n",
       "    <tr>\n",
       "      <th>1</th>\n",
       "      <td>B</td>\n",
       "      <td>5014</td>\n",
       "      <td>354</td>\n",
       "      <td>7.06</td>\n",
       "    </tr>\n",
       "    <tr>\n",
       "      <th>2</th>\n",
       "      <td>A</td>\n",
       "      <td>25</td>\n",
       "      <td>2</td>\n",
       "      <td>8.00</td>\n",
       "    </tr>\n",
       "    <tr>\n",
       "      <th>3</th>\n",
       "      <td>C</td>\n",
       "      <td>15921</td>\n",
       "      <td>1353</td>\n",
       "      <td>8.50</td>\n",
       "    </tr>\n",
       "    <tr>\n",
       "      <th>4</th>\n",
       "      <td>E</td>\n",
       "      <td>22</td>\n",
       "      <td>2</td>\n",
       "      <td>9.09</td>\n",
       "    </tr>\n",
       "  </tbody>\n",
       "</table>\n",
       "</div>"
      ],
      "text/plain": [
       "  Уровень дохода  Выдано кредитов  Количество просрочек  Процент просрочек\n",
       "0              D              349                    21               6.02\n",
       "1              B             5014                   354               7.06\n",
       "2              A               25                     2               8.00\n",
       "3              C            15921                  1353               8.50\n",
       "4              E               22                     2               9.09"
      ]
     },
     "execution_count": 29,
     "metadata": {},
     "output_type": "execute_result"
    }
   ],
   "source": [
    "data_pivot = return_pivot(data, groupby='total_income_category', name_group='Уровень дохода')\n",
    "data_pivot"
   ]
  },
  {
   "cell_type": "markdown",
   "id": "57bbab5b",
   "metadata": {},
   "source": [
    "В категориях `0–30000 — 'E'`, `30001–50000 — 'D'` и `1000001 и выше — 'A'` наблюдается малая мощность выбокри 22, 349 и 25 соответствено, что не позволяет нам сравнивать их с группами, где мощность выборки 5014 для `200001–1000000 — 'B'` и 15921 для `50001–200000 — 'C'`\n",
    "Поэтому сравним только две категории."
   ]
  },
  {
   "cell_type": "code",
   "execution_count": 30,
   "id": "515bc064",
   "metadata": {},
   "outputs": [
    {
     "data": {
      "text/html": [
       "<div>\n",
       "<style scoped>\n",
       "    .dataframe tbody tr th:only-of-type {\n",
       "        vertical-align: middle;\n",
       "    }\n",
       "\n",
       "    .dataframe tbody tr th {\n",
       "        vertical-align: top;\n",
       "    }\n",
       "\n",
       "    .dataframe thead th {\n",
       "        text-align: right;\n",
       "    }\n",
       "</style>\n",
       "<table border=\"1\" class=\"dataframe\">\n",
       "  <thead>\n",
       "    <tr style=\"text-align: right;\">\n",
       "      <th></th>\n",
       "      <th>Уровень дохода</th>\n",
       "      <th>Выдано кредитов</th>\n",
       "      <th>Количество просрочек</th>\n",
       "      <th>Процент просрочек</th>\n",
       "    </tr>\n",
       "  </thead>\n",
       "  <tbody>\n",
       "    <tr>\n",
       "      <th>1</th>\n",
       "      <td>B</td>\n",
       "      <td>5014</td>\n",
       "      <td>354</td>\n",
       "      <td>7.06</td>\n",
       "    </tr>\n",
       "    <tr>\n",
       "      <th>3</th>\n",
       "      <td>C</td>\n",
       "      <td>15921</td>\n",
       "      <td>1353</td>\n",
       "      <td>8.50</td>\n",
       "    </tr>\n",
       "  </tbody>\n",
       "</table>\n",
       "</div>"
      ],
      "text/plain": [
       "  Уровень дохода  Выдано кредитов  Количество просрочек  Процент просрочек\n",
       "1              B             5014                   354               7.06\n",
       "3              C            15921                  1353               8.50"
      ]
     },
     "execution_count": 30,
     "metadata": {},
     "output_type": "execute_result"
    }
   ],
   "source": [
    "data_pivot = data_pivot[data_pivot['Выдано кредитов'] > 1000]\n",
    "data_pivot"
   ]
  },
  {
   "cell_type": "markdown",
   "id": "adb9bacc",
   "metadata": {},
   "source": [
    "Сухие цифры, конечно, важны. Но где же приятное для глаз?"
   ]
  },
  {
   "cell_type": "code",
   "execution_count": 31,
   "id": "865a5ee6",
   "metadata": {},
   "outputs": [
    {
     "data": {
      "image/png": "[encoded data removed]",
      "text/plain": [
       "<Figure size 640x480 with 1 Axes>"
      ]
     },
     "metadata": {},
     "output_type": "display_data"
    }
   ],
   "source": [
    "seaborn.barplot(x=data_pivot['Уровень дохода'], y=data_pivot['Процент просрочек']);"
   ]
  },
  {
   "cell_type": "markdown",
   "id": "e2f73adf",
   "metadata": {},
   "source": [
    "Не все группы смогли попасть в текущее исследование, но для двух групп наблюдается следующая зависимость:\n",
    "заемщики с доходами `200001–1000000` самые ответственные и чаще вовремя платят по своим обязательствам, чего не скажешь о заемщиках с уровнем заработной платы `50001–200000`. Возможно, если разделить уровень зароботной платы по другим обоснованным критериям, получится более понятная картина о том, как взаимодействуют между собой уровень заработной платы и возврат кредита в срок."
   ]
  },
  {
   "cell_type": "markdown",
   "id": "4d8e2960",
   "metadata": {},
   "source": [
    "### Задание 22. Как разные цели кредита влияют на его возврат в срок?"
   ]
  },
  {
   "cell_type": "markdown",
   "id": "c491ab0c",
   "metadata": {},
   "source": [
    "Ранее мы уже разбили нашу выборку на следующие категории по целям кредитования:\n",
    "- `'операции с автомобилем'`,\n",
    "- `'операции с недвижимостью'`,\n",
    "- `'проведение свадьбы'`,\n",
    "- `'получение образования'`."
   ]
  },
  {
   "cell_type": "code",
   "execution_count": 32,
   "id": "b863c083",
   "metadata": {},
   "outputs": [
    {
     "data": {
      "text/html": [
       "<div>\n",
       "<style scoped>\n",
       "    .dataframe tbody tr th:only-of-type {\n",
       "        vertical-align: middle;\n",
       "    }\n",
       "\n",
       "    .dataframe tbody tr th {\n",
       "        vertical-align: top;\n",
       "    }\n",
       "\n",
       "    .dataframe thead th {\n",
       "        text-align: right;\n",
       "    }\n",
       "</style>\n",
       "<table border=\"1\" class=\"dataframe\">\n",
       "  <thead>\n",
       "    <tr style=\"text-align: right;\">\n",
       "      <th></th>\n",
       "      <th>Цель</th>\n",
       "      <th>Выдано кредитов</th>\n",
       "      <th>Количество просрочек</th>\n",
       "      <th>Процент просрочек</th>\n",
       "    </tr>\n",
       "  </thead>\n",
       "  <tbody>\n",
       "    <tr>\n",
       "      <th>0</th>\n",
       "      <td>операции с недвижимостью</td>\n",
       "      <td>10751</td>\n",
       "      <td>780</td>\n",
       "      <td>7.26</td>\n",
       "    </tr>\n",
       "    <tr>\n",
       "      <th>1</th>\n",
       "      <td>проведение свадьбы</td>\n",
       "      <td>2313</td>\n",
       "      <td>183</td>\n",
       "      <td>7.91</td>\n",
       "    </tr>\n",
       "    <tr>\n",
       "      <th>2</th>\n",
       "      <td>получение образования</td>\n",
       "      <td>3988</td>\n",
       "      <td>369</td>\n",
       "      <td>9.25</td>\n",
       "    </tr>\n",
       "    <tr>\n",
       "      <th>3</th>\n",
       "      <td>операции с автомобилем</td>\n",
       "      <td>4279</td>\n",
       "      <td>400</td>\n",
       "      <td>9.35</td>\n",
       "    </tr>\n",
       "  </tbody>\n",
       "</table>\n",
       "</div>"
      ],
      "text/plain": [
       "                       Цель  Выдано кредитов  Количество просрочек  \\\n",
       "0  операции с недвижимостью            10751                   780   \n",
       "1        проведение свадьбы             2313                   183   \n",
       "2     получение образования             3988                   369   \n",
       "3    операции с автомобилем             4279                   400   \n",
       "\n",
       "   Процент просрочек  \n",
       "0               7.26  \n",
       "1               7.91  \n",
       "2               9.25  \n",
       "3               9.35  "
      ]
     },
     "execution_count": 32,
     "metadata": {},
     "output_type": "execute_result"
    }
   ],
   "source": [
    "data_pivot = return_pivot(data, groupby='purpose_category', name_group='Цель')\n",
    "data_pivot"
   ]
  },
  {
   "cell_type": "code",
   "execution_count": 33,
   "id": "60a95bec",
   "metadata": {
    "scrolled": false
   },
   "outputs": [
    {
     "data": {
      "image/png": "[encoded data removed]",
      "text/plain": [
       "<Figure size 640x480 with 1 Axes>"
      ]
     },
     "metadata": {},
     "output_type": "display_data"
    }
   ],
   "source": [
    "seaborn.barplot(y=data_pivot['Цель'], x=data_pivot['Процент просрочек']);"
   ]
  },
  {
   "cell_type": "markdown",
   "id": "bac1a166",
   "metadata": {},
   "source": [
    "Аюсолютно не удивительно, что граждане, приобретающие недвижимость в кредит, стараются избегать просрочек по этому кредиту. Ведь в случе не исполнения своих обезательств эта недвижимость может быть изъята. Выдать кредит на опреции с автомобилем и на получения образования для банка является менее приоритетными, так как вероятность просрочки кредита по этим целям заема самая высокая в текущей выборке."
   ]
  },
  {
   "cell_type": "markdown",
   "id": "05a9caf3",
   "metadata": {},
   "source": [
    "### Задание 23. Приведите возможные причины появления пропусков в исходных данных."
   ]
  },
  {
   "cell_type": "markdown",
   "id": "f7207179",
   "metadata": {},
   "source": [
    "Технологические ошибки\n",
    "- Сбой при выгрузке данных (копировании, создании, считывании)\n",
    "- Изменение формата\n",
    "\n",
    "Человеческий фактор\n",
    "- Умышленное сокрытие\n",
    "- Ошибки при заполнении\n",
    "- Закон о защите персональных данных"
   ]
  },
  {
   "cell_type": "markdown",
   "id": "d57c9583",
   "metadata": {},
   "source": [
    "### Задание 24. Объясните, почему заполнить пропуски медианным значением — лучшее решение для количественных переменных."
   ]
  },
  {
   "cell_type": "markdown",
   "id": "36a887e7",
   "metadata": {},
   "source": [
    "Для любой выборки ее мощность играет важное значение.\n",
    "Удаление пропусков может отрицательно сказаться на результате, поэтому очень важно сохранить мощность выборки.\n",
    "Остается вопрос: чем заполнить пропуски.\n",
    "\n",
    "Для количественных переменных пропуски лучше заполнять медианным значением этой переменной (как в общем случае, так и в случае с разбивкой по группам - что даст более точные медианные значения для пропусков).\n",
    "\n",
    "Почему именно медианна?\n",
    "- Минимальное и максимальное значение абсолютно точно сместит результат нашего исследования.\n",
    "- Среднее значение очень сильно подверженно влиянию выбросов и шумов.\n",
    "\n",
    "**Медиана является более устойчивым показателем к выбросам в данных.**\n",
    "Кроме того, если количество значений велико и распредиление значений близко к нормальному, то медиана будет равняться среднему значению."
   ]
  },
  {
   "cell_type": "markdown",
   "id": "360c96d3",
   "metadata": {},
   "source": [
    "# Общий вывод"
   ]
  },
  {
   "cell_type": "markdown",
   "id": "acdb2539",
   "metadata": {},
   "source": [
    "Проанализировав статистику о платёжеспособности клиентов, предоставленную Заказчиком - Банком были обнаружены следующие ошибки в данных:\n",
    "- Пропуски значений в стобцах с ежемесячным доходом и общим трудовым стажем. Пропуски были заполнены медианными значениями в зависмиости от типа занятости.\n",
    "- Отрицательные аномальные значения в трудовом стаже были заменены на положительные. Данные с аномальными значения количества детей в семье были удалены из исследовния.\n",
    "- Неявные дубликаты были приведены к явным в нижнем регистре и удалены из исследования.\n",
    "Данные были присвоены дополнительные категории уровня ежемесячного дохода, а так же отдельно по целям кредита для дальнейшего удобсства исследования.\n",
    "\n",
    "В результате проведенного исследования получены следующие портреты заемщиков:\n",
    "- **Идеальный заемщик**: уровеь дохода `200001–1000000`, бездетный, ранее состоявший в официальных отношениях, с целью кредита на операции с недвижимостью.\n",
    "- **Проблемный заемщик**: уровеь дохода `50001–200000`, многодетный, не состоящий в каких-либо отношениях, с целью кредита на автомобиль или обучение."
   ]
  }
 ],
 "metadata": {
  "ExecuteTimeLog": [
   {
    "duration": 418,
    "start_time": "2022-11-03T13:56:46.466Z"
   },
   {
    "duration": 147,
    "start_time": "2022-11-03T13:56:46.886Z"
   },
   {
    "duration": 10,
    "start_time": "2022-11-03T13:56:49.917Z"
   },
   {
    "duration": 17,
    "start_time": "2022-11-03T13:59:37.933Z"
   },
   {
    "duration": 8,
    "start_time": "2022-11-03T14:02:11.946Z"
   },
   {
    "duration": 343,
    "start_time": "2022-11-03T14:58:17.906Z"
   },
   {
    "duration": 74,
    "start_time": "2022-11-03T14:58:18.251Z"
   },
   {
    "duration": 20,
    "start_time": "2022-11-03T14:58:18.326Z"
   },
   {
    "duration": 13,
    "start_time": "2022-11-03T14:58:18.348Z"
   },
   {
    "duration": 16,
    "start_time": "2022-11-03T14:58:18.376Z"
   },
   {
    "duration": 36,
    "start_time": "2022-11-03T15:02:30.651Z"
   },
   {
    "duration": 382,
    "start_time": "2022-11-03T15:03:24.081Z"
   },
   {
    "duration": 77,
    "start_time": "2022-11-03T15:03:24.465Z"
   },
   {
    "duration": 20,
    "start_time": "2022-11-03T15:03:24.543Z"
   },
   {
    "duration": 15,
    "start_time": "2022-11-03T15:03:24.565Z"
   },
   {
    "duration": 17,
    "start_time": "2022-11-03T15:03:24.582Z"
   },
   {
    "duration": 48,
    "start_time": "2022-11-03T15:03:24.601Z"
   },
   {
    "duration": 4,
    "start_time": "2022-11-03T15:23:18.533Z"
   },
   {
    "duration": 7,
    "start_time": "2022-11-03T15:27:34.902Z"
   },
   {
    "duration": 5,
    "start_time": "2022-11-03T15:28:29.730Z"
   },
   {
    "duration": 7,
    "start_time": "2022-11-03T15:30:11.562Z"
   },
   {
    "duration": 5,
    "start_time": "2022-11-03T15:30:13.580Z"
   },
   {
    "duration": 6,
    "start_time": "2022-11-03T15:31:20.508Z"
   },
   {
    "duration": 4,
    "start_time": "2022-11-03T15:31:22.524Z"
   },
   {
    "duration": 28,
    "start_time": "2022-11-03T15:37:08.629Z"
   },
   {
    "duration": 5,
    "start_time": "2022-11-03T15:37:10.398Z"
   },
   {
    "duration": 5,
    "start_time": "2022-11-03T15:38:37.266Z"
   },
   {
    "duration": 6,
    "start_time": "2022-11-03T15:40:23.090Z"
   },
   {
    "duration": 3,
    "start_time": "2022-11-03T15:41:02.955Z"
   },
   {
    "duration": 355,
    "start_time": "2022-11-03T15:41:12.895Z"
   },
   {
    "duration": 73,
    "start_time": "2022-11-03T15:41:13.251Z"
   },
   {
    "duration": 19,
    "start_time": "2022-11-03T15:41:13.325Z"
   },
   {
    "duration": 13,
    "start_time": "2022-11-03T15:41:13.345Z"
   },
   {
    "duration": 18,
    "start_time": "2022-11-03T15:41:13.360Z"
   },
   {
    "duration": 31,
    "start_time": "2022-11-03T15:41:13.379Z"
   },
   {
    "duration": 3,
    "start_time": "2022-11-03T15:41:13.411Z"
   },
   {
    "duration": 11,
    "start_time": "2022-11-03T15:41:13.415Z"
   },
   {
    "duration": 3,
    "start_time": "2022-11-03T15:41:13.427Z"
   },
   {
    "duration": 9,
    "start_time": "2022-11-03T15:41:13.431Z"
   },
   {
    "duration": 3,
    "start_time": "2022-11-03T15:41:13.442Z"
   },
   {
    "duration": 52,
    "start_time": "2022-11-03T15:41:13.446Z"
   },
   {
    "duration": 5,
    "start_time": "2022-11-03T15:41:13.499Z"
   },
   {
    "duration": 4,
    "start_time": "2022-11-03T15:41:15.798Z"
   },
   {
    "duration": 37,
    "start_time": "2022-11-03T15:45:34.300Z"
   },
   {
    "duration": 46,
    "start_time": "2022-11-03T15:47:46.541Z"
   },
   {
    "duration": 354,
    "start_time": "2022-11-03T15:48:43.404Z"
   },
   {
    "duration": 74,
    "start_time": "2022-11-03T15:48:43.760Z"
   },
   {
    "duration": 20,
    "start_time": "2022-11-03T15:48:43.840Z"
   },
   {
    "duration": 13,
    "start_time": "2022-11-03T15:48:43.862Z"
   },
   {
    "duration": 9,
    "start_time": "2022-11-03T15:48:43.877Z"
   },
   {
    "duration": 30,
    "start_time": "2022-11-03T15:48:43.887Z"
   },
   {
    "duration": 3,
    "start_time": "2022-11-03T15:48:43.918Z"
   },
   {
    "duration": 14,
    "start_time": "2022-11-03T15:48:43.922Z"
   },
   {
    "duration": 4,
    "start_time": "2022-11-03T15:48:43.937Z"
   },
   {
    "duration": 8,
    "start_time": "2022-11-03T15:48:43.942Z"
   },
   {
    "duration": 3,
    "start_time": "2022-11-03T15:48:43.951Z"
   },
   {
    "duration": 28,
    "start_time": "2022-11-03T15:48:43.977Z"
   },
   {
    "duration": 5,
    "start_time": "2022-11-03T15:48:44.006Z"
   },
   {
    "duration": 3,
    "start_time": "2022-11-03T15:48:44.013Z"
   },
   {
    "duration": 357,
    "start_time": "2022-11-03T15:49:45.892Z"
   },
   {
    "duration": 68,
    "start_time": "2022-11-03T15:49:46.251Z"
   },
   {
    "duration": 21,
    "start_time": "2022-11-03T15:49:46.321Z"
   },
   {
    "duration": 13,
    "start_time": "2022-11-03T15:49:46.343Z"
   },
   {
    "duration": 22,
    "start_time": "2022-11-03T15:49:46.358Z"
   },
   {
    "duration": 30,
    "start_time": "2022-11-03T15:49:46.381Z"
   },
   {
    "duration": 3,
    "start_time": "2022-11-03T15:49:46.412Z"
   },
   {
    "duration": 11,
    "start_time": "2022-11-03T15:49:46.416Z"
   },
   {
    "duration": 5,
    "start_time": "2022-11-03T15:49:46.429Z"
   },
   {
    "duration": 7,
    "start_time": "2022-11-03T15:49:46.435Z"
   },
   {
    "duration": 3,
    "start_time": "2022-11-03T15:49:46.444Z"
   },
   {
    "duration": 56,
    "start_time": "2022-11-03T15:49:46.448Z"
   },
   {
    "duration": 6,
    "start_time": "2022-11-03T15:49:46.505Z"
   },
   {
    "duration": 6,
    "start_time": "2022-11-03T15:49:46.514Z"
   },
   {
    "duration": 18,
    "start_time": "2022-11-03T15:49:48.913Z"
   },
   {
    "duration": 432,
    "start_time": "2022-11-03T15:50:07.360Z"
   },
   {
    "duration": 87,
    "start_time": "2022-11-03T15:50:07.797Z"
   },
   {
    "duration": 28,
    "start_time": "2022-11-03T15:50:07.886Z"
   },
   {
    "duration": 23,
    "start_time": "2022-11-03T15:50:07.916Z"
   },
   {
    "duration": 13,
    "start_time": "2022-11-03T15:50:07.942Z"
   },
   {
    "duration": 46,
    "start_time": "2022-11-03T15:50:07.956Z"
   },
   {
    "duration": 4,
    "start_time": "2022-11-03T15:50:08.003Z"
   },
   {
    "duration": 12,
    "start_time": "2022-11-03T15:50:08.010Z"
   },
   {
    "duration": 4,
    "start_time": "2022-11-03T15:50:08.024Z"
   },
   {
    "duration": 11,
    "start_time": "2022-11-03T15:50:08.030Z"
   },
   {
    "duration": 35,
    "start_time": "2022-11-03T15:50:08.044Z"
   },
   {
    "duration": 49,
    "start_time": "2022-11-03T15:50:08.080Z"
   },
   {
    "duration": 6,
    "start_time": "2022-11-03T15:50:08.132Z"
   },
   {
    "duration": 9,
    "start_time": "2022-11-03T15:50:08.140Z"
   },
   {
    "duration": 18,
    "start_time": "2022-11-03T15:50:13.839Z"
   },
   {
    "duration": 15,
    "start_time": "2022-11-03T15:50:24.152Z"
   },
   {
    "duration": 9,
    "start_time": "2022-11-03T15:53:53.701Z"
   },
   {
    "duration": 378,
    "start_time": "2022-11-03T15:56:58.555Z"
   },
   {
    "duration": 67,
    "start_time": "2022-11-03T15:56:58.934Z"
   },
   {
    "duration": 20,
    "start_time": "2022-11-03T15:56:59.003Z"
   },
   {
    "duration": 17,
    "start_time": "2022-11-03T15:56:59.024Z"
   },
   {
    "duration": 8,
    "start_time": "2022-11-03T15:56:59.043Z"
   },
   {
    "duration": 49,
    "start_time": "2022-11-03T15:56:59.053Z"
   },
   {
    "duration": 3,
    "start_time": "2022-11-03T15:56:59.104Z"
   },
   {
    "duration": 9,
    "start_time": "2022-11-03T15:56:59.108Z"
   },
   {
    "duration": 3,
    "start_time": "2022-11-03T15:56:59.119Z"
   },
   {
    "duration": 7,
    "start_time": "2022-11-03T15:56:59.123Z"
   },
   {
    "duration": 3,
    "start_time": "2022-11-03T15:56:59.132Z"
   },
   {
    "duration": 48,
    "start_time": "2022-11-03T15:56:59.136Z"
   },
   {
    "duration": 5,
    "start_time": "2022-11-03T15:56:59.185Z"
   },
   {
    "duration": 3,
    "start_time": "2022-11-03T15:56:59.192Z"
   },
   {
    "duration": 17,
    "start_time": "2022-11-03T15:56:59.196Z"
   },
   {
    "duration": 13,
    "start_time": "2022-11-03T15:56:59.215Z"
   },
   {
    "duration": 9,
    "start_time": "2022-11-03T15:56:59.229Z"
   },
   {
    "duration": 5,
    "start_time": "2022-11-03T15:56:59.239Z"
   },
   {
    "duration": 31,
    "start_time": "2022-11-03T15:56:59.246Z"
   },
   {
    "duration": 2,
    "start_time": "2022-11-03T15:56:59.279Z"
   },
   {
    "duration": 6,
    "start_time": "2022-11-03T15:56:59.282Z"
   },
   {
    "duration": 7,
    "start_time": "2022-11-03T15:56:59.289Z"
   },
   {
    "duration": 392,
    "start_time": "2022-11-03T15:57:12.262Z"
   },
   {
    "duration": 77,
    "start_time": "2022-11-03T15:57:12.656Z"
   },
   {
    "duration": 23,
    "start_time": "2022-11-03T15:57:12.735Z"
   },
   {
    "duration": 23,
    "start_time": "2022-11-03T15:57:12.761Z"
   },
   {
    "duration": 12,
    "start_time": "2022-11-03T15:57:12.786Z"
   },
   {
    "duration": 33,
    "start_time": "2022-11-03T15:57:12.800Z"
   },
   {
    "duration": 3,
    "start_time": "2022-11-03T15:57:12.835Z"
   },
   {
    "duration": 12,
    "start_time": "2022-11-03T15:57:12.839Z"
   },
   {
    "duration": 26,
    "start_time": "2022-11-03T15:57:12.852Z"
   },
   {
    "duration": 10,
    "start_time": "2022-11-03T15:57:12.879Z"
   },
   {
    "duration": 7,
    "start_time": "2022-11-03T15:57:12.890Z"
   },
   {
    "duration": 33,
    "start_time": "2022-11-03T15:57:12.898Z"
   },
   {
    "duration": 5,
    "start_time": "2022-11-03T15:57:12.932Z"
   },
   {
    "duration": 4,
    "start_time": "2022-11-03T15:57:12.939Z"
   },
   {
    "duration": 18,
    "start_time": "2022-11-03T15:57:16.468Z"
   },
   {
    "duration": 16,
    "start_time": "2022-11-03T15:57:18.592Z"
   },
   {
    "duration": 333,
    "start_time": "2022-11-03T15:59:27.015Z"
   },
   {
    "duration": 66,
    "start_time": "2022-11-03T15:59:27.350Z"
   },
   {
    "duration": 20,
    "start_time": "2022-11-03T15:59:27.417Z"
   },
   {
    "duration": 13,
    "start_time": "2022-11-03T15:59:27.438Z"
   },
   {
    "duration": 25,
    "start_time": "2022-11-03T15:59:27.453Z"
   },
   {
    "duration": 32,
    "start_time": "2022-11-03T15:59:27.479Z"
   },
   {
    "duration": 3,
    "start_time": "2022-11-03T15:59:27.512Z"
   },
   {
    "duration": 11,
    "start_time": "2022-11-03T15:59:27.516Z"
   },
   {
    "duration": 5,
    "start_time": "2022-11-03T15:59:27.528Z"
   },
   {
    "duration": 11,
    "start_time": "2022-11-03T15:59:27.535Z"
   },
   {
    "duration": 31,
    "start_time": "2022-11-03T15:59:27.548Z"
   },
   {
    "duration": 30,
    "start_time": "2022-11-03T15:59:27.580Z"
   },
   {
    "duration": 6,
    "start_time": "2022-11-03T15:59:27.611Z"
   },
   {
    "duration": 4,
    "start_time": "2022-11-03T15:59:27.620Z"
   },
   {
    "duration": 19,
    "start_time": "2022-11-03T15:59:27.626Z"
   },
   {
    "duration": 39,
    "start_time": "2022-11-03T15:59:27.647Z"
   },
   {
    "duration": 17,
    "start_time": "2022-11-03T15:59:29.066Z"
   },
   {
    "duration": 43,
    "start_time": "2022-11-03T16:01:49.188Z"
   },
   {
    "duration": 387,
    "start_time": "2022-11-03T16:01:59.071Z"
   },
   {
    "duration": 67,
    "start_time": "2022-11-03T16:01:59.460Z"
   },
   {
    "duration": 19,
    "start_time": "2022-11-03T16:01:59.529Z"
   },
   {
    "duration": 13,
    "start_time": "2022-11-03T16:01:59.549Z"
   },
   {
    "duration": 15,
    "start_time": "2022-11-03T16:01:59.564Z"
   },
   {
    "duration": 34,
    "start_time": "2022-11-03T16:01:59.580Z"
   },
   {
    "duration": 3,
    "start_time": "2022-11-03T16:01:59.615Z"
   },
   {
    "duration": 10,
    "start_time": "2022-11-03T16:01:59.620Z"
   },
   {
    "duration": 4,
    "start_time": "2022-11-03T16:01:59.632Z"
   },
   {
    "duration": 7,
    "start_time": "2022-11-03T16:01:59.638Z"
   },
   {
    "duration": 4,
    "start_time": "2022-11-03T16:01:59.646Z"
   },
   {
    "duration": 30,
    "start_time": "2022-11-03T16:01:59.677Z"
   },
   {
    "duration": 6,
    "start_time": "2022-11-03T16:01:59.708Z"
   },
   {
    "duration": 4,
    "start_time": "2022-11-03T16:01:59.716Z"
   },
   {
    "duration": 10,
    "start_time": "2022-11-03T16:02:00.900Z"
   },
   {
    "duration": 18,
    "start_time": "2022-11-03T16:02:02.609Z"
   },
   {
    "duration": 20,
    "start_time": "2022-11-03T16:02:04.196Z"
   },
   {
    "duration": 4,
    "start_time": "2022-11-03T16:11:37.373Z"
   },
   {
    "duration": 9,
    "start_time": "2022-11-03T16:13:01.915Z"
   },
   {
    "duration": 5,
    "start_time": "2022-11-03T16:19:02.798Z"
   },
   {
    "duration": 3,
    "start_time": "2022-11-03T16:30:35.577Z"
   },
   {
    "duration": 331,
    "start_time": "2022-11-03T16:30:59.490Z"
   },
   {
    "duration": 8,
    "start_time": "2022-11-03T16:31:10.804Z"
   },
   {
    "duration": 419,
    "start_time": "2022-11-03T16:31:17.562Z"
   },
   {
    "duration": 78,
    "start_time": "2022-11-03T16:31:17.984Z"
   },
   {
    "duration": 34,
    "start_time": "2022-11-03T16:31:18.065Z"
   },
   {
    "duration": 22,
    "start_time": "2022-11-03T16:31:18.101Z"
   },
   {
    "duration": 30,
    "start_time": "2022-11-03T16:31:18.126Z"
   },
   {
    "duration": 64,
    "start_time": "2022-11-03T16:31:18.158Z"
   },
   {
    "duration": 4,
    "start_time": "2022-11-03T16:31:18.224Z"
   },
   {
    "duration": 11,
    "start_time": "2022-11-03T16:31:18.230Z"
   },
   {
    "duration": 6,
    "start_time": "2022-11-03T16:31:18.243Z"
   },
   {
    "duration": 29,
    "start_time": "2022-11-03T16:31:18.251Z"
   },
   {
    "duration": 6,
    "start_time": "2022-11-03T16:31:18.282Z"
   },
   {
    "duration": 37,
    "start_time": "2022-11-03T16:31:18.290Z"
   },
   {
    "duration": 5,
    "start_time": "2022-11-03T16:31:18.329Z"
   },
   {
    "duration": 9,
    "start_time": "2022-11-03T16:31:18.337Z"
   },
   {
    "duration": 31,
    "start_time": "2022-11-03T16:31:18.348Z"
   },
   {
    "duration": 19,
    "start_time": "2022-11-03T16:31:18.380Z"
   },
   {
    "duration": 16,
    "start_time": "2022-11-03T16:31:18.400Z"
   },
   {
    "duration": 3,
    "start_time": "2022-11-03T16:31:18.417Z"
   },
   {
    "duration": 20,
    "start_time": "2022-11-03T16:31:18.422Z"
   },
   {
    "duration": 5,
    "start_time": "2022-11-03T16:31:18.444Z"
   },
   {
    "duration": 7,
    "start_time": "2022-11-03T16:31:18.451Z"
   },
   {
    "duration": 27,
    "start_time": "2022-11-03T16:31:18.460Z"
   }
  ],
  "colab": {
   "provenance": []
  },
  "kernelspec": {
   "display_name": "Python 3 (ipykernel)",
   "language": "python",
   "name": "python3"
  },
  "language_info": {
   "codemirror_mode": {
    "name": "ipython",
    "version": 3
   },
   "file_extension": ".py",
   "mimetype": "text/x-python",
   "name": "python",
   "nbconvert_exporter": "python",
   "pygments_lexer": "ipython3",
   "version": "3.9.12"
  },
  "toc": {
   "base_numbering": 1,
   "nav_menu": {},
   "number_sections": true,
   "sideBar": true,
   "skip_h1_title": true,
   "title_cell": "Table of Contents",
   "title_sidebar": "Contents",
   "toc_cell": false,
   "toc_position": {},
   "toc_section_display": true,
   "toc_window_display": false
  }
 },
 "nbformat": 4,
 "nbformat_minor": 5
}
